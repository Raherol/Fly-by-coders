{
 "cells": [
  {
   "cell_type": "code",
   "execution_count": null,
   "metadata": {},
   "outputs": [],
   "source": [
    "%load_ext autoreload\n",
    "%autoreload 2\n",
    "\n",
    "import pandas as pd\n",
    "from utils import builder, metrics, grapher\n",
    "import pickle"
   ]
  },
  {
   "cell_type": "code",
   "execution_count": null,
   "metadata": {},
   "outputs": [],
   "source": [
    "df = pd.read_csv() #Get test data\n",
    "\n",
    "feature_cols = ['prev_year', 'prev_week', 'prev_be', 'prev_meters', 'section', 'prev_level'] #Poner columnas\n",
    "target_cols = ['meters'] #Ponere target\n",
    "\n",
    "context = df[feature_cols]\n",
    "target = df[target_cols]"
   ]
  },
  {
   "cell_type": "code",
   "execution_count": null,
   "metadata": {},
   "outputs": [],
   "source": [
    "with open('models/model_lr.plk', 'rb') as f:\n",
    "    model_lr = pickle.load(f)\n",
    "\n",
    "with open('models/model_rf.plk', 'rb') as f:\n",
    "    model_rf = pickle.load(f)\n",
    "\n",
    "with open('models/model_hgbr.plk', 'rb') as f:\n",
    "    model_hgbr = pickle.load(f)\n",
    "\n",
    "with open('models/model_xgbr.plk', 'rb') as f:\n",
    "    model_xgbr = pickle.load(f)\n",
    "\n",
    "prediction_lr = model_lr.predict(context)\n",
    "prediction_rf = model_rf.predict(context)\n",
    "prediction_hgbr = model_hgbr.predict(context)\n",
    "prediction_xgbr = model_xgbr.predict(context)"
   ]
  },
  {
   "cell_type": "code",
   "execution_count": null,
   "metadata": {},
   "outputs": [],
   "source": [
    "rmse_lr = metrics.rmse(prediction_lr, target)\n",
    "rmse_rf = metrics.rmse(prediction_rf, target)\n",
    "rmse_hgbr = metrics.rmse(prediction_hgbr, target)\n",
    "rmse_xgbr = metrics.rmse(prediction_xgbr, target)\n",
    "\n",
    "ioa_lr = metrics.ioa(prediction_lr, target)\n",
    "ioa_rf = metrics.ioa(prediction_rf, target)\n",
    "ioa_hgbr = metrics.ioa(prediction_hgbr, target)\n",
    "ioa_xgbr = metrics.ioa(prediction_xgbr, target)\n",
    "\n",
    "bias_lr = metrics.bias(prediction_lr, target)\n",
    "bias_rf = metrics.bias(prediction_rf, target)\n",
    "bias_hgbr = metrics.bias(prediction_hgbr, target)\n",
    "bias_xgbr = metrics.bias(prediction_xgbr, target)\n",
    "\n",
    "score_lr = metrics.compute_score(y_prediction_seconds=prediction_lr, y_true_seconds=target)\n",
    "score_rf = metrics.compute_score(y_prediction_seconds=prediction_rf, y_true_seconds=target)\n",
    "score_hgbr = metrics.compute_score(y_prediction_seconds=prediction_hgbr, y_true_seconds=target)\n",
    "score_xgbr = metrics.compute_score(y_prediction_seconds=prediction_xgbr, y_true_seconds=target)\n",
    "\n",
    "with open('metrics/initial_models.txt', 'w') as f:\n",
    "    \n",
    "    f.write(\"Linear Regression:\\n\")\n",
    "    f.write(\"RMSE: {}\\n\".format(rmse_lr))\n",
    "    f.write(\"IoA: {}\\n\".format(ioa_lr))\n",
    "    f.write(\"Bias: {}\\n\".format(bias_lr))\n",
    "    f.write(\"Score: {}\\n\".format(score_lr))\n",
    "    f.write(\"\\n\")\n",
    "\n",
    "    f.write(\"Random Forest:\\n\")\n",
    "    f.write(\"RMSE: {}\\n\".format(rmse_rf))\n",
    "    f.write(\"IoA: {}\\n\".format(ioa_rf))\n",
    "    f.write(\"Bias: {}\\n\".format(bias_rf))\n",
    "    f.write(\"Score: {}\\n\".format(score_rf))\n",
    "    f.write(\"\\n\")\n",
    "\n",
    "    f.write(\"HistGradientBoostingRegressor:\\n\")\n",
    "    f.write(\"RMSE: {}\\n\".format(rmse_hgbr))\n",
    "    f.write(\"IoA: {}\\n\".format(ioa_hgbr))\n",
    "    f.write(\"Bias: {}\\n\".format(bias_hgbr))\n",
    "    f.write(\"Score: {}\\n\".format(score_hgbr))\n",
    "    f.write(\"\\n\")\n",
    "\n",
    "    f.write(\"XGBoost:\\n\")\n",
    "    f.write(\"RMSE: {}\\n\".format(rmse_xgbr))\n",
    "    f.write(\"IoA: {}\\n\".format(ioa_xgbr))\n",
    "    f.write(\"Bias: {}\\n\".format(bias_xgbr))\n",
    "    f.write(\"Score: {}\\n\".format(score_xgbr))\n",
    "    f.write(\"\\n\")"
   ]
  },
  {
   "cell_type": "code",
   "execution_count": null,
   "metadata": {},
   "outputs": [],
   "source": [
    "rmse_values = [rmse_lr, rmse_rf, rmse_hgbr, rmse_xgbr]\n",
    "ioa_values = [ioa_lr, ioa_rf, ioa_hgbr, ioa_xgbr]\n",
    "bias_values = [bias_lr, bias_rf, bias_hgbr, bias_xgbr]\n",
    "score_values = [score_lr, score_rf, score_hgbr, score_xgbr]\n",
    "model_names = ['Linear Regression', 'Random Forest', 'HistGradientBoosting', 'XGBoost']\n",
    "\n",
    "grapher.plot_metrics_bar(rmse_values, model_names, 'RMSE')\n",
    "\n",
    "grapher.plot_metrics_bar(ioa_values, model_names, 'IoA')\n",
    "\n",
    "grapher.plot_metrics_bar(bias_values, model_names, 'Bias')\n",
    "\n",
    "grapher.plot_metrics_bar(score_values, model_names, 'Score')"
   ]
  }
 ],
 "metadata": {
  "kernelspec": {
   "display_name": "hackathon",
   "language": "python",
   "name": "python3"
  },
  "language_info": {
   "name": "python",
   "version": "3.13.2"
  }
 },
 "nbformat": 4,
 "nbformat_minor": 2
}

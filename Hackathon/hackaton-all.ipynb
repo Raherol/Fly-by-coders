{
 "cells": [
  {
   "cell_type": "markdown",
   "id": "32f5ac1d",
   "metadata": {},
   "source": [
    "# HACKATON"
   ]
  },
  {
   "cell_type": "code",
   "execution_count": 12,
   "id": "a589006c",
   "metadata": {},
   "outputs": [],
   "source": [
    "import pyModeS as pms\n",
    "import pandas as pd\n",
    "import matplotlib.pyplot as plt\n",
    "import numpy as np\n",
    "from mpl_toolkits.basemap import Basemap\n",
    "import os\n",
    "import geopandas as gpd\n",
    "from sphericalpolygon import Sphericalpolygon\n",
    "from astropy import units as u\n",
    "from tqdm import tqdm\n",
    "from utils import qdrdist as qdr\n",
    "from sklearn.metrics.pairwise import haversine_distances\n",
    "import math\n",
    "\n",
    "#for filtering aircraft entering barajas\n",
    "def isinside(zone,lat,lon):\n",
    "        return (zone[0][0] <= lon <= zone[1][0]) and (zone[0][1] <= lat <= zone[1][1])\n",
    "    \n",
    "#check for point of decent\n",
    "def hdglimit(hdg): #if nan return false\n",
    "    return 323>=hdg>=321 or 180>=hdg>=178\n",
    "\n",
    "def altlimit(alt): #if nan return false\n",
    "    return 5500>=alt>=3500\n",
    "\n",
    "def merge_bds(values):\n",
    "    unique_values = sorted(set(values))\n",
    "    return ','.join(str(v) for v in unique_values)\n",
    "\n",
    "def run_create(route, index):\n",
    "    route_geo = './data/'\n",
    "    #AIRPORT DATA\n",
    "    runway = gpd.read_file(f'{route_geo}runways.geojson')\n",
    "    threshold = gpd.read_file(f'{route_geo}thresholds.geojson')\n",
    "\n",
    "    #SEPARATE COORDS\n",
    "    threshold['lat'] = threshold.apply(lambda row: row.geometry.y,axis=1)\n",
    "    threshold['lon'] = threshold.apply(lambda row: row.geometry.x,axis=1)\n",
    "    threshold['hdg'] = threshold.apply(lambda row: row.orientation,axis=1)\n",
    "\n",
    "    #VORTEX CATEGORY\n",
    "    vortex = pd.read_csv(f'{route_geo}VORTEX.csv',sep=';')\n",
    "\n",
    "    #AIRPORT ZONE\n",
    "    barajas_zone = [[-3.773804,40.351118],[-3.314438,40.620516]]\n",
    "\n",
    "    route = route\n",
    "    #route = 'data/sample_scenario_00.parquet'\n",
    "\n",
    "    df = pd.read_parquet(route)\n",
    "\n",
    "    #list containing id of aircraft\n",
    "    wake_flights_list = df[(df.bds=='08')&(df.wake_vortex.isin(vortex.id.tolist()))]['icao24'].value_counts().index.tolist()\n",
    "\n",
    "    #Filtered df with all ADS-B data msg\n",
    "    wake_df = df[df.icao24.isin(wake_flights_list)]\n",
    "\n",
    "    #Only aircraft that have flown below 2000ft\n",
    "    alt_flights_list = wake_df[wake_df.altitude<=4000]['icao24'].value_counts().index.tolist()\n",
    "    w_a_df = wake_df[wake_df.icao24.isin(alt_flights_list)]\n",
    "\n",
    "    #Only aircraft that have flown inside barajas airport zone\n",
    "    w_a_df['inside'] = w_a_df.apply(lambda row: isinside(barajas_zone,row['lat_deg'],row['lon_deg']) \n",
    "                                    if pd.notna(row['lat_deg']) else False,axis=1)\n",
    "    inside_flights_list = w_a_df[w_a_df.inside == True]['icao24'].value_counts().index.tolist()\n",
    "    wai_df = w_a_df[w_a_df.icao24.isin(inside_flights_list)]\n",
    "\n",
    "    #ONLY AIRCRAFT ON LANDING\n",
    "    tmp = wai_df[(wai_df.bds=='05')&(wai_df.inside==True)]\n",
    "    alt_min = tmp.loc[tmp.groupby('icao24')['ts'].idxmin(), ['icao24', 'altitude']].rename(columns={'altitude': 'alt_min'})\n",
    "    alt_max = tmp.loc[tmp.groupby('icao24')['ts'].idxmax(), ['icao24', 'altitude']].rename(columns={'altitude': 'alt_max'})\n",
    "    dif_df = alt_min.merge(alt_max, on='icao24')\n",
    "    dif_df['dif'] = dif_df.alt_min-dif_df.alt_max\n",
    "    landing_flights_list = dif_df[dif_df['dif']>0]['icao24'].value_counts().index.tolist()\n",
    "    landing_df = wai_df[wai_df.icao24.isin(landing_flights_list)]\n",
    "    landing_df = landing_df.sort_values(by='ts')\n",
    "    landing_df['datetime'] = pd.to_datetime(landing_df[\"ts\"], unit=\"ms\").dt.strftime('%H:%M:%S')\n",
    "    print(1)\n",
    "\n",
    "    landing_df['alt_point'] = landing_df.apply(lambda row: altlimit(row.altitude),axis=1)\n",
    "    landing_df['hdg_point'] = landing_df.apply(lambda row: hdglimit(row.track),axis=1)\n",
    "\n",
    "    alt_hdg_df = landing_df[((landing_df['alt_point']==True)|(landing_df['hdg_point']==True))&((landing_df.bds=='09')|(landing_df.bds=='05'))].sort_values(by=['icao24','ts'])\n",
    "    result = alt_hdg_df.groupby(['icao24', 'ts','datetime']).agg({\n",
    "        'bds': merge_bds,\n",
    "        'hdg_point': 'any',  # will prioritize True if any True exists\n",
    "        'alt_point': 'any',  # same\n",
    "    }).reset_index()\n",
    "    merged_results = result[result['bds'] == '05,09'].drop_duplicates()\n",
    "\n",
    "    acid = merged_results.groupby('icao24').min('ts').sort_values(by='icao24').index.tolist()\n",
    "    times = merged_results.groupby('icao24').min('ts').sort_values(by='icao24').ts.tolist()\n",
    "\n",
    "    indexes = []\n",
    "    for i in range(len(acid)):\n",
    "        row = landing_df[(landing_df.icao24==acid[i])&(landing_df.ts==times[i])&(landing_df.bds=='05')]\n",
    "        indexes.append(row.index[0])\n",
    "\n",
    "    landing_df['descent'] = landing_df.index.isin(indexes)\n",
    "\n",
    "    \n",
    "    \n",
    "    def haversine_distance(p1, p2):\n",
    "        p1 = [math.radians(_) for _ in p1]\n",
    "        p2 = [math.radians(_) for _ in p2]\n",
    "        dist = haversine_distances([p1, p2])\n",
    "        return 6371000*dist[0][1]\n",
    "\n",
    "    for _,row in tqdm(threshold.iterrows()):\n",
    "        landing_df[f'dist_{row.orientation}'] = landing_df.apply(lambda x: haversine_distance((x.lat_deg,x.lon_deg), \n",
    "                                                            (row.lat,row.lon)) if x.bds == '05' else 9999,axis=1)\n",
    "\n",
    "    landing_df['rwy_dist'] = landing_df.apply(lambda x: min(x.dist_18R,x.dist_32L,x.dist_32R,x.dist_18L),axis=1)\n",
    "\n",
    "    model_acid = landing_df[landing_df.rwy_dist<600].icao24.value_counts().index.tolist()\n",
    "    model_df = landing_df[landing_df.icao24.isin(model_acid)]\n",
    "\n",
    "    min_dist = model_df.groupby('icao24').min('rwy_dist').reset_index()[['icao24','rwy_dist']]\n",
    "    model_df['min_dist'] = model_df.apply(lambda x: min_dist[min_dist['icao24']==x.icao24].rwy_dist.iloc[0] == x.rwy_dist ,axis=1)\n",
    "\n",
    "    model_df = model_df[(model_df.descent==True)|(model_df.min_dist==True)]\n",
    "    model_df = model_df[model_df.groupby('icao24')['icao24'].transform('count') >= 2]\n",
    "    model_df = model_df.sort_values(by=['icao24','ts'])\n",
    "\n",
    "    #add heading via rwy\n",
    "    mask = model_df[['dist_18R', 'dist_32L', 'dist_32R', 'dist_18L']].eq(model_df['rwy_dist'], axis=0)\n",
    "    model_df['hdg'] = mask.dot(mask.columns).where(mask.any(axis=1), False)\n",
    "    model_df['hdg'] = model_df['hdg'].str[5:7]+'0'\n",
    "    model_df = model_df[['icao24','ts','datetime','lat_deg','lon_deg','hdg','altitude','tc']]\n",
    "    print(3)\n",
    "    codes = model_df.icao24.value_counts().index.tolist()\n",
    "    data = []\n",
    "    col = ['icao24','hdg','tc','ts1','datetime1','lat_deg1','lon_deg1','altitude1','ts2','datetime2','lat_deg2','lon_deg2','altitude2']\n",
    "    for i in codes:\n",
    "        tmp = model_df[model_df.icao24==i].sort_values(by='ts')\n",
    "        ini = tmp.iloc[0]\n",
    "        fin = tmp.iloc[1]\n",
    "        data.append([ini.icao24, ini.hdg, ini.tc, ini.ts, ini.datetime, ini.lat_deg, ini.lon_deg, ini.altitude,\n",
    "                                                  fin.ts, fin.datetime, fin.lat_deg, fin.lon_deg, fin.altitude])\n",
    "\n",
    "    model_final = pd.DataFrame(data,columns=col)\n",
    "    model_final['dif_t'] = model_final.ts2-model_final.ts1\n",
    "\n",
    "    def feet_to_meters(f):\n",
    "        return f*0.3048\n",
    "\n",
    "    def distance(altitude,tc,point1,point2):\n",
    "        is_alt_in_meters = True\n",
    "        if 9 <= tc <= 18:\n",
    "             is_alt_in_meters = False\n",
    "        altitude_point = altitude if is_alt_in_meters else feet_to_meters(altitude) \n",
    "        distance_2d = haversine_distance(point1, point2)\n",
    "        distance_3d = math.sqrt(altitude_point*altitude_point + distance_2d*distance_2d)\n",
    "        return distance_3d\n",
    "    print(4)\n",
    "    model_final['distance_3d'] = model_final.apply(lambda x: distance(x.altitude1,x.tc,(x.lat_deg1,x.lon_deg1),\n",
    "                                                                      (x.lat_deg2,x.lon_deg2)),axis=1)\n",
    "    model_final['dif_t'] = model_final['dif_t']/1000 #ms to s\n",
    "    model_final['gs'] = model_final['distance_3d']/model_final['dif_t'] #m/s\n",
    "\n",
    "    wake_flights_list = df[(df.bds=='08')&(df.wake_vortex.isin(vortex.id.tolist()))]\n",
    "\n",
    "    ids = model_final.icao24.value_counts().index.tolist()\n",
    "    fin_wake = wake_flights_list[['icao24','wake_vortex']].drop_duplicates()\n",
    "    fin_wake = fin_wake[fin_wake.icao24.isin(ids)]\n",
    "    fin_wake['code'] = fin_wake.apply(lambda x: vortex[vortex.id==x.wake_vortex].code.iloc[0],axis=1)\n",
    "\n",
    "    model_final['wake_code'] = model_final.apply(lambda x: fin_wake[fin_wake.icao24 == x.icao24].code.iloc[0] ,axis=1)\n",
    "    model_final.to_csv(f\"outputs/model_final_{index}.csv\", index=False)"
   ]
  },
  {
   "cell_type": "code",
   "execution_count": 24,
   "id": "4965dbc2",
   "metadata": {
    "scrolled": true
   },
   "outputs": [
    {
     "name": "stderr",
     "output_type": "stream",
     "text": [
      "100%|██████████| 24/24 [00:00<00:00, 81049.35it/s]\n",
      "100%|██████████| 24/24 [00:00<?, ?it/s]\n",
      "100%|██████████| 24/24 [00:00<?, ?it/s]\n",
      "100%|██████████| 24/24 [00:00<?, ?it/s]\n",
      "100%|██████████| 17/17 [00:00<?, ?it/s]\n",
      "100%|██████████| 24/24 [00:00<?, ?it/s]\n",
      "100%|██████████| 24/24 [00:00<?, ?it/s]\n",
      "100%|██████████| 24/24 [00:00<?, ?it/s]\n",
      "100%|██████████| 17/17 [00:00<?, ?it/s]\n",
      "100%|██████████| 6/6 [00:00<?, ?it/s]\n",
      "100%|██████████| 21/21 [00:00<?, ?it/s]\n",
      "100%|██████████| 24/24 [00:00<?, ?it/s]\n",
      "100%|██████████| 24/24 [00:00<?, ?it/s]\n",
      "100%|██████████| 24/24 [00:00<?, ?it/s]\n",
      "  0%|          | 0/24 [00:00<?, ?it/s]"
     ]
    },
    {
     "name": "stdout",
     "output_type": "stream",
     "text": [
      "0\n",
      "data/engage-hackathon-2025/year=2024/month=12/day=14/hour=11\n",
      "si\n"
     ]
    },
    {
     "name": "stderr",
     "output_type": "stream",
     "text": [
      "C:\\Users\\1570074\\AppData\\Local\\Temp\\ipykernel_11432\\3951986721.py:61: SettingWithCopyWarning: \n",
      "A value is trying to be set on a copy of a slice from a DataFrame.\n",
      "Try using .loc[row_indexer,col_indexer] = value instead\n",
      "\n",
      "See the caveats in the documentation: https://pandas.pydata.org/pandas-docs/stable/user_guide/indexing.html#returning-a-view-versus-a-copy\n",
      "  w_a_df['inside'] = w_a_df.apply(lambda row: isinside(barajas_zone,row['lat_deg'],row['lon_deg'])\n"
     ]
    },
    {
     "name": "stdout",
     "output_type": "stream",
     "text": [
      "1\n",
      "2\n"
     ]
    },
    {
     "name": "stderr",
     "output_type": "stream",
     "text": [
      "\n",
      "0it [00:00, ?it/s]\u001b[A\n",
      "1it [00:05,  5.47s/it]\u001b[A\n",
      "2it [00:10,  5.36s/it]\u001b[A\n",
      "3it [00:16,  5.46s/it]\u001b[A\n",
      "4it [00:21,  5.39s/it]\u001b[A\n",
      "C:\\Users\\1570074\\AppData\\Local\\Temp\\ipykernel_11432\\3951986721.py:119: SettingWithCopyWarning: \n",
      "A value is trying to be set on a copy of a slice from a DataFrame.\n",
      "Try using .loc[row_indexer,col_indexer] = value instead\n",
      "\n",
      "See the caveats in the documentation: https://pandas.pydata.org/pandas-docs/stable/user_guide/indexing.html#returning-a-view-versus-a-copy\n",
      "  model_df['min_dist'] = model_df.apply(lambda x: min_dist[min_dist['icao24']==x.icao24].rwy_dist.iloc[0] == x.rwy_dist ,axis=1)\n"
     ]
    },
    {
     "name": "stdout",
     "output_type": "stream",
     "text": [
      "3\n",
      "4\n"
     ]
    },
    {
     "name": "stderr",
     "output_type": "stream",
     "text": [
      "\r",
      " 17%|█▋        | 4/24 [00:58<04:51, 14.58s/it]"
     ]
    },
    {
     "name": "stdout",
     "output_type": "stream",
     "text": [
      "0\n",
      "data/engage-hackathon-2025/year=2024/month=12/day=14/hour=12\n",
      "si\n"
     ]
    },
    {
     "name": "stderr",
     "output_type": "stream",
     "text": [
      "C:\\Users\\1570074\\AppData\\Local\\Temp\\ipykernel_11432\\3951986721.py:61: SettingWithCopyWarning: \n",
      "A value is trying to be set on a copy of a slice from a DataFrame.\n",
      "Try using .loc[row_indexer,col_indexer] = value instead\n",
      "\n",
      "See the caveats in the documentation: https://pandas.pydata.org/pandas-docs/stable/user_guide/indexing.html#returning-a-view-versus-a-copy\n",
      "  w_a_df['inside'] = w_a_df.apply(lambda row: isinside(barajas_zone,row['lat_deg'],row['lon_deg'])\n"
     ]
    },
    {
     "name": "stdout",
     "output_type": "stream",
     "text": [
      "1\n",
      "2\n"
     ]
    },
    {
     "name": "stderr",
     "output_type": "stream",
     "text": [
      "\n",
      "0it [00:00, ?it/s]\u001b[A\n",
      "1it [00:05,  5.30s/it]\u001b[A\n",
      "2it [00:10,  5.06s/it]\u001b[A\n",
      "3it [00:14,  4.94s/it]\u001b[A\n",
      "4it [00:19,  5.00s/it]\u001b[A\n",
      "C:\\Users\\1570074\\AppData\\Local\\Temp\\ipykernel_11432\\3951986721.py:119: SettingWithCopyWarning: \n",
      "A value is trying to be set on a copy of a slice from a DataFrame.\n",
      "Try using .loc[row_indexer,col_indexer] = value instead\n",
      "\n",
      "See the caveats in the documentation: https://pandas.pydata.org/pandas-docs/stable/user_guide/indexing.html#returning-a-view-versus-a-copy\n",
      "  model_df['min_dist'] = model_df.apply(lambda x: min_dist[min_dist['icao24']==x.icao24].rwy_dist.iloc[0] == x.rwy_dist ,axis=1)\n"
     ]
    },
    {
     "name": "stdout",
     "output_type": "stream",
     "text": [
      "3\n",
      "4\n"
     ]
    },
    {
     "name": "stderr",
     "output_type": "stream",
     "text": [
      "\r",
      " 21%|██        | 5/24 [01:54<08:05, 25.54s/it]"
     ]
    },
    {
     "name": "stdout",
     "output_type": "stream",
     "text": [
      "0\n",
      "data/engage-hackathon-2025/year=2024/month=12/day=14/hour=13\n",
      "si\n"
     ]
    },
    {
     "name": "stderr",
     "output_type": "stream",
     "text": [
      "C:\\Users\\1570074\\AppData\\Local\\Temp\\ipykernel_11432\\3951986721.py:61: SettingWithCopyWarning: \n",
      "A value is trying to be set on a copy of a slice from a DataFrame.\n",
      "Try using .loc[row_indexer,col_indexer] = value instead\n",
      "\n",
      "See the caveats in the documentation: https://pandas.pydata.org/pandas-docs/stable/user_guide/indexing.html#returning-a-view-versus-a-copy\n",
      "  w_a_df['inside'] = w_a_df.apply(lambda row: isinside(barajas_zone,row['lat_deg'],row['lon_deg'])\n"
     ]
    },
    {
     "name": "stdout",
     "output_type": "stream",
     "text": [
      "1\n",
      "2\n"
     ]
    },
    {
     "name": "stderr",
     "output_type": "stream",
     "text": [
      "\n",
      "0it [00:00, ?it/s]\u001b[A\n",
      "1it [00:06,  6.94s/it]\u001b[A\n",
      "2it [00:13,  6.90s/it]\u001b[A\n",
      "3it [00:20,  6.70s/it]\u001b[A\n",
      "4it [00:27,  6.82s/it]\u001b[A\n",
      "C:\\Users\\1570074\\AppData\\Local\\Temp\\ipykernel_11432\\3951986721.py:119: SettingWithCopyWarning: \n",
      "A value is trying to be set on a copy of a slice from a DataFrame.\n",
      "Try using .loc[row_indexer,col_indexer] = value instead\n",
      "\n",
      "See the caveats in the documentation: https://pandas.pydata.org/pandas-docs/stable/user_guide/indexing.html#returning-a-view-versus-a-copy\n",
      "  model_df['min_dist'] = model_df.apply(lambda x: min_dist[min_dist['icao24']==x.icao24].rwy_dist.iloc[0] == x.rwy_dist ,axis=1)\n"
     ]
    },
    {
     "name": "stdout",
     "output_type": "stream",
     "text": [
      "3\n",
      "4\n"
     ]
    },
    {
     "name": "stderr",
     "output_type": "stream",
     "text": [
      "\r",
      " 25%|██▌       | 6/24 [03:14<12:06, 40.34s/it]"
     ]
    },
    {
     "name": "stdout",
     "output_type": "stream",
     "text": [
      "0\n",
      "data/engage-hackathon-2025/year=2024/month=12/day=14/hour=14\n",
      "si\n"
     ]
    },
    {
     "name": "stderr",
     "output_type": "stream",
     "text": [
      "C:\\Users\\1570074\\AppData\\Local\\Temp\\ipykernel_11432\\3951986721.py:61: SettingWithCopyWarning: \n",
      "A value is trying to be set on a copy of a slice from a DataFrame.\n",
      "Try using .loc[row_indexer,col_indexer] = value instead\n",
      "\n",
      "See the caveats in the documentation: https://pandas.pydata.org/pandas-docs/stable/user_guide/indexing.html#returning-a-view-versus-a-copy\n",
      "  w_a_df['inside'] = w_a_df.apply(lambda row: isinside(barajas_zone,row['lat_deg'],row['lon_deg'])\n"
     ]
    },
    {
     "name": "stdout",
     "output_type": "stream",
     "text": [
      "1\n",
      "2\n"
     ]
    },
    {
     "name": "stderr",
     "output_type": "stream",
     "text": [
      "\n",
      "0it [00:00, ?it/s]\u001b[A\n",
      "1it [00:03,  3.09s/it]\u001b[A\n",
      "2it [00:06,  3.18s/it]\u001b[A\n",
      "3it [00:09,  3.23s/it]\u001b[A\n",
      "4it [00:12,  3.24s/it]\u001b[A\n",
      "C:\\Users\\1570074\\AppData\\Local\\Temp\\ipykernel_11432\\3951986721.py:119: SettingWithCopyWarning: \n",
      "A value is trying to be set on a copy of a slice from a DataFrame.\n",
      "Try using .loc[row_indexer,col_indexer] = value instead\n",
      "\n",
      "See the caveats in the documentation: https://pandas.pydata.org/pandas-docs/stable/user_guide/indexing.html#returning-a-view-versus-a-copy\n",
      "  model_df['min_dist'] = model_df.apply(lambda x: min_dist[min_dist['icao24']==x.icao24].rwy_dist.iloc[0] == x.rwy_dist ,axis=1)\n"
     ]
    },
    {
     "name": "stdout",
     "output_type": "stream",
     "text": [
      "3\n",
      "4\n"
     ]
    },
    {
     "name": "stderr",
     "output_type": "stream",
     "text": [
      "\r",
      " 29%|██▉       | 7/24 [03:55<11:28, 40.48s/it]"
     ]
    },
    {
     "name": "stdout",
     "output_type": "stream",
     "text": [
      "0\n",
      "data/engage-hackathon-2025/year=2024/month=12/day=14/hour=15\n",
      "si\n"
     ]
    },
    {
     "name": "stderr",
     "output_type": "stream",
     "text": [
      "C:\\Users\\1570074\\AppData\\Local\\Temp\\ipykernel_11432\\3951986721.py:61: SettingWithCopyWarning: \n",
      "A value is trying to be set on a copy of a slice from a DataFrame.\n",
      "Try using .loc[row_indexer,col_indexer] = value instead\n",
      "\n",
      "See the caveats in the documentation: https://pandas.pydata.org/pandas-docs/stable/user_guide/indexing.html#returning-a-view-versus-a-copy\n",
      "  w_a_df['inside'] = w_a_df.apply(lambda row: isinside(barajas_zone,row['lat_deg'],row['lon_deg'])\n"
     ]
    },
    {
     "name": "stdout",
     "output_type": "stream",
     "text": [
      "1\n",
      "2\n"
     ]
    },
    {
     "name": "stderr",
     "output_type": "stream",
     "text": [
      "\n",
      "0it [00:00, ?it/s]\u001b[A\n",
      "1it [00:01,  1.73s/it]\u001b[A\n",
      "2it [00:03,  1.68s/it]\u001b[A\n",
      "3it [00:05,  1.66s/it]\u001b[A\n",
      "4it [00:06,  1.70s/it]\u001b[A\n",
      "C:\\Users\\1570074\\AppData\\Local\\Temp\\ipykernel_11432\\3951986721.py:119: SettingWithCopyWarning: \n",
      "A value is trying to be set on a copy of a slice from a DataFrame.\n",
      "Try using .loc[row_indexer,col_indexer] = value instead\n",
      "\n",
      "See the caveats in the documentation: https://pandas.pydata.org/pandas-docs/stable/user_guide/indexing.html#returning-a-view-versus-a-copy\n",
      "  model_df['min_dist'] = model_df.apply(lambda x: min_dist[min_dist['icao24']==x.icao24].rwy_dist.iloc[0] == x.rwy_dist ,axis=1)\n"
     ]
    },
    {
     "name": "stdout",
     "output_type": "stream",
     "text": [
      "3\n",
      "4\n"
     ]
    },
    {
     "name": "stderr",
     "output_type": "stream",
     "text": [
      "\r",
      " 33%|███▎      | 8/24 [04:19<09:35, 35.94s/it]"
     ]
    },
    {
     "name": "stdout",
     "output_type": "stream",
     "text": [
      "0\n",
      "data/engage-hackathon-2025/year=2024/month=12/day=14/hour=16\n",
      "si\n"
     ]
    },
    {
     "name": "stderr",
     "output_type": "stream",
     "text": [
      "C:\\Users\\1570074\\AppData\\Local\\Temp\\ipykernel_11432\\3951986721.py:61: SettingWithCopyWarning: \n",
      "A value is trying to be set on a copy of a slice from a DataFrame.\n",
      "Try using .loc[row_indexer,col_indexer] = value instead\n",
      "\n",
      "See the caveats in the documentation: https://pandas.pydata.org/pandas-docs/stable/user_guide/indexing.html#returning-a-view-versus-a-copy\n",
      "  w_a_df['inside'] = w_a_df.apply(lambda row: isinside(barajas_zone,row['lat_deg'],row['lon_deg'])\n"
     ]
    },
    {
     "name": "stdout",
     "output_type": "stream",
     "text": [
      "1\n",
      "2\n"
     ]
    },
    {
     "name": "stderr",
     "output_type": "stream",
     "text": [
      "\n",
      "0it [00:00, ?it/s]\u001b[A\n",
      "1it [00:03,  3.42s/it]\u001b[A\n",
      "2it [00:06,  3.45s/it]\u001b[A\n",
      "3it [00:10,  3.64s/it]\u001b[A\n",
      "4it [00:14,  3.55s/it]\u001b[A\n",
      "C:\\Users\\1570074\\AppData\\Local\\Temp\\ipykernel_11432\\3951986721.py:119: SettingWithCopyWarning: \n",
      "A value is trying to be set on a copy of a slice from a DataFrame.\n",
      "Try using .loc[row_indexer,col_indexer] = value instead\n",
      "\n",
      "See the caveats in the documentation: https://pandas.pydata.org/pandas-docs/stable/user_guide/indexing.html#returning-a-view-versus-a-copy\n",
      "  model_df['min_dist'] = model_df.apply(lambda x: min_dist[min_dist['icao24']==x.icao24].rwy_dist.iloc[0] == x.rwy_dist ,axis=1)\n"
     ]
    },
    {
     "name": "stdout",
     "output_type": "stream",
     "text": [
      "3\n",
      "4\n"
     ]
    },
    {
     "name": "stderr",
     "output_type": "stream",
     "text": [
      "\r",
      " 38%|███▊      | 9/24 [05:00<09:18, 37.22s/it]"
     ]
    },
    {
     "name": "stdout",
     "output_type": "stream",
     "text": [
      "0\n",
      "data/engage-hackathon-2025/year=2024/month=12/day=14/hour=17\n",
      "si\n"
     ]
    },
    {
     "name": "stderr",
     "output_type": "stream",
     "text": [
      "C:\\Users\\1570074\\AppData\\Local\\Temp\\ipykernel_11432\\3951986721.py:61: SettingWithCopyWarning: \n",
      "A value is trying to be set on a copy of a slice from a DataFrame.\n",
      "Try using .loc[row_indexer,col_indexer] = value instead\n",
      "\n",
      "See the caveats in the documentation: https://pandas.pydata.org/pandas-docs/stable/user_guide/indexing.html#returning-a-view-versus-a-copy\n",
      "  w_a_df['inside'] = w_a_df.apply(lambda row: isinside(barajas_zone,row['lat_deg'],row['lon_deg'])\n"
     ]
    },
    {
     "name": "stdout",
     "output_type": "stream",
     "text": [
      "1\n",
      "2\n"
     ]
    },
    {
     "name": "stderr",
     "output_type": "stream",
     "text": [
      "\n",
      "0it [00:00, ?it/s]\u001b[A\n",
      "1it [00:05,  5.08s/it]\u001b[A\n",
      "2it [00:10,  4.99s/it]\u001b[A\n",
      "3it [00:15,  5.01s/it]\u001b[A\n",
      "4it [00:20,  5.05s/it]\u001b[A\n",
      "C:\\Users\\1570074\\AppData\\Local\\Temp\\ipykernel_11432\\3951986721.py:119: SettingWithCopyWarning: \n",
      "A value is trying to be set on a copy of a slice from a DataFrame.\n",
      "Try using .loc[row_indexer,col_indexer] = value instead\n",
      "\n",
      "See the caveats in the documentation: https://pandas.pydata.org/pandas-docs/stable/user_guide/indexing.html#returning-a-view-versus-a-copy\n",
      "  model_df['min_dist'] = model_df.apply(lambda x: min_dist[min_dist['icao24']==x.icao24].rwy_dist.iloc[0] == x.rwy_dist ,axis=1)\n"
     ]
    },
    {
     "name": "stdout",
     "output_type": "stream",
     "text": [
      "3\n",
      "4\n"
     ]
    },
    {
     "name": "stderr",
     "output_type": "stream",
     "text": [
      "\r",
      " 42%|████▏     | 10/24 [05:56<09:59, 42.85s/it]"
     ]
    },
    {
     "name": "stdout",
     "output_type": "stream",
     "text": [
      "0\n",
      "data/engage-hackathon-2025/year=2024/month=12/day=14/hour=18\n",
      "si\n"
     ]
    },
    {
     "name": "stderr",
     "output_type": "stream",
     "text": [
      "C:\\Users\\1570074\\AppData\\Local\\Temp\\ipykernel_11432\\3951986721.py:61: SettingWithCopyWarning: \n",
      "A value is trying to be set on a copy of a slice from a DataFrame.\n",
      "Try using .loc[row_indexer,col_indexer] = value instead\n",
      "\n",
      "See the caveats in the documentation: https://pandas.pydata.org/pandas-docs/stable/user_guide/indexing.html#returning-a-view-versus-a-copy\n",
      "  w_a_df['inside'] = w_a_df.apply(lambda row: isinside(barajas_zone,row['lat_deg'],row['lon_deg'])\n"
     ]
    },
    {
     "name": "stdout",
     "output_type": "stream",
     "text": [
      "1\n",
      "2\n"
     ]
    },
    {
     "name": "stderr",
     "output_type": "stream",
     "text": [
      "\n",
      "0it [00:00, ?it/s]\u001b[A\n",
      "1it [00:02,  2.80s/it]\u001b[A\n",
      "2it [00:05,  2.80s/it]\u001b[A\n",
      "3it [00:08,  2.80s/it]\u001b[A\n",
      "4it [00:11,  2.84s/it]\u001b[A\n",
      "C:\\Users\\1570074\\AppData\\Local\\Temp\\ipykernel_11432\\3951986721.py:119: SettingWithCopyWarning: \n",
      "A value is trying to be set on a copy of a slice from a DataFrame.\n",
      "Try using .loc[row_indexer,col_indexer] = value instead\n",
      "\n",
      "See the caveats in the documentation: https://pandas.pydata.org/pandas-docs/stable/user_guide/indexing.html#returning-a-view-versus-a-copy\n",
      "  model_df['min_dist'] = model_df.apply(lambda x: min_dist[min_dist['icao24']==x.icao24].rwy_dist.iloc[0] == x.rwy_dist ,axis=1)\n"
     ]
    },
    {
     "name": "stdout",
     "output_type": "stream",
     "text": [
      "3\n",
      "4\n"
     ]
    },
    {
     "name": "stderr",
     "output_type": "stream",
     "text": [
      "\r",
      " 46%|████▌     | 11/24 [06:31<08:47, 40.56s/it]"
     ]
    },
    {
     "name": "stdout",
     "output_type": "stream",
     "text": [
      "0\n",
      "data/engage-hackathon-2025/year=2024/month=12/day=14/hour=19\n",
      "si\n"
     ]
    },
    {
     "name": "stderr",
     "output_type": "stream",
     "text": [
      "C:\\Users\\1570074\\AppData\\Local\\Temp\\ipykernel_11432\\3951986721.py:61: SettingWithCopyWarning: \n",
      "A value is trying to be set on a copy of a slice from a DataFrame.\n",
      "Try using .loc[row_indexer,col_indexer] = value instead\n",
      "\n",
      "See the caveats in the documentation: https://pandas.pydata.org/pandas-docs/stable/user_guide/indexing.html#returning-a-view-versus-a-copy\n",
      "  w_a_df['inside'] = w_a_df.apply(lambda row: isinside(barajas_zone,row['lat_deg'],row['lon_deg'])\n"
     ]
    },
    {
     "name": "stdout",
     "output_type": "stream",
     "text": [
      "1\n",
      "2\n"
     ]
    },
    {
     "name": "stderr",
     "output_type": "stream",
     "text": [
      "\n",
      "0it [00:00, ?it/s]\u001b[A\n",
      "1it [00:03,  3.56s/it]\u001b[A\n",
      "2it [00:07,  3.52s/it]\u001b[A\n",
      "3it [00:10,  3.54s/it]\u001b[A\n",
      "4it [00:14,  3.52s/it]\u001b[A\n",
      "C:\\Users\\1570074\\AppData\\Local\\Temp\\ipykernel_11432\\3951986721.py:119: SettingWithCopyWarning: \n",
      "A value is trying to be set on a copy of a slice from a DataFrame.\n",
      "Try using .loc[row_indexer,col_indexer] = value instead\n",
      "\n",
      "See the caveats in the documentation: https://pandas.pydata.org/pandas-docs/stable/user_guide/indexing.html#returning-a-view-versus-a-copy\n",
      "  model_df['min_dist'] = model_df.apply(lambda x: min_dist[min_dist['icao24']==x.icao24].rwy_dist.iloc[0] == x.rwy_dist ,axis=1)\n"
     ]
    },
    {
     "name": "stdout",
     "output_type": "stream",
     "text": [
      "3\n",
      "4\n"
     ]
    },
    {
     "name": "stderr",
     "output_type": "stream",
     "text": [
      "\r",
      " 50%|█████     | 12/24 [07:13<08:13, 41.09s/it]"
     ]
    },
    {
     "name": "stdout",
     "output_type": "stream",
     "text": [
      "0\n",
      "data/engage-hackathon-2025/year=2024/month=12/day=14/hour=2\n",
      "si\n"
     ]
    },
    {
     "name": "stderr",
     "output_type": "stream",
     "text": [
      "C:\\Users\\1570074\\AppData\\Local\\Temp\\ipykernel_11432\\3951986721.py:61: SettingWithCopyWarning: \n",
      "A value is trying to be set on a copy of a slice from a DataFrame.\n",
      "Try using .loc[row_indexer,col_indexer] = value instead\n",
      "\n",
      "See the caveats in the documentation: https://pandas.pydata.org/pandas-docs/stable/user_guide/indexing.html#returning-a-view-versus-a-copy\n",
      "  w_a_df['inside'] = w_a_df.apply(lambda row: isinside(barajas_zone,row['lat_deg'],row['lon_deg'])\n"
     ]
    },
    {
     "name": "stdout",
     "output_type": "stream",
     "text": [
      "1\n",
      "2\n"
     ]
    },
    {
     "name": "stderr",
     "output_type": "stream",
     "text": [
      "\n",
      "0it [00:00, ?it/s]\u001b[A\n",
      "1it [00:00,  2.92it/s]\u001b[A\n",
      "2it [00:00,  2.68it/s]\u001b[A\n",
      "3it [00:01,  2.76it/s]\u001b[A\n",
      "4it [00:01,  2.77it/s]\u001b[A\n",
      "C:\\Users\\1570074\\AppData\\Local\\Temp\\ipykernel_11432\\3951986721.py:119: SettingWithCopyWarning: \n",
      "A value is trying to be set on a copy of a slice from a DataFrame.\n",
      "Try using .loc[row_indexer,col_indexer] = value instead\n",
      "\n",
      "See the caveats in the documentation: https://pandas.pydata.org/pandas-docs/stable/user_guide/indexing.html#returning-a-view-versus-a-copy\n",
      "  model_df['min_dist'] = model_df.apply(lambda x: min_dist[min_dist['icao24']==x.icao24].rwy_dist.iloc[0] == x.rwy_dist ,axis=1)\n",
      " 54%|█████▍    | 13/24 [07:17<05:28, 29.83s/it]"
     ]
    },
    {
     "name": "stdout",
     "output_type": "stream",
     "text": [
      "3\n",
      "4\n",
      "0\n",
      "data/engage-hackathon-2025/year=2024/month=12/day=14/hour=20\n",
      "si\n"
     ]
    },
    {
     "name": "stderr",
     "output_type": "stream",
     "text": [
      "C:\\Users\\1570074\\AppData\\Local\\Temp\\ipykernel_11432\\3951986721.py:61: SettingWithCopyWarning: \n",
      "A value is trying to be set on a copy of a slice from a DataFrame.\n",
      "Try using .loc[row_indexer,col_indexer] = value instead\n",
      "\n",
      "See the caveats in the documentation: https://pandas.pydata.org/pandas-docs/stable/user_guide/indexing.html#returning-a-view-versus-a-copy\n",
      "  w_a_df['inside'] = w_a_df.apply(lambda row: isinside(barajas_zone,row['lat_deg'],row['lon_deg'])\n"
     ]
    },
    {
     "name": "stdout",
     "output_type": "stream",
     "text": [
      "1\n",
      "2\n"
     ]
    },
    {
     "name": "stderr",
     "output_type": "stream",
     "text": [
      "\n",
      "0it [00:00, ?it/s]\u001b[A\n",
      "1it [00:03,  3.83s/it]\u001b[A\n",
      "2it [00:07,  3.93s/it]\u001b[A\n",
      "3it [00:11,  3.99s/it]\u001b[A\n",
      "4it [00:15,  3.99s/it]\u001b[A\n",
      "C:\\Users\\1570074\\AppData\\Local\\Temp\\ipykernel_11432\\3951986721.py:119: SettingWithCopyWarning: \n",
      "A value is trying to be set on a copy of a slice from a DataFrame.\n",
      "Try using .loc[row_indexer,col_indexer] = value instead\n",
      "\n",
      "See the caveats in the documentation: https://pandas.pydata.org/pandas-docs/stable/user_guide/indexing.html#returning-a-view-versus-a-copy\n",
      "  model_df['min_dist'] = model_df.apply(lambda x: min_dist[min_dist['icao24']==x.icao24].rwy_dist.iloc[0] == x.rwy_dist ,axis=1)\n"
     ]
    },
    {
     "name": "stdout",
     "output_type": "stream",
     "text": [
      "3\n",
      "4\n"
     ]
    },
    {
     "name": "stderr",
     "output_type": "stream",
     "text": [
      "\r",
      " 58%|█████▊    | 14/24 [08:04<05:51, 35.18s/it]"
     ]
    },
    {
     "name": "stdout",
     "output_type": "stream",
     "text": [
      "0\n",
      "data/engage-hackathon-2025/year=2024/month=12/day=14/hour=21\n",
      "si\n"
     ]
    },
    {
     "name": "stderr",
     "output_type": "stream",
     "text": [
      "C:\\Users\\1570074\\AppData\\Local\\Temp\\ipykernel_11432\\3951986721.py:61: SettingWithCopyWarning: \n",
      "A value is trying to be set on a copy of a slice from a DataFrame.\n",
      "Try using .loc[row_indexer,col_indexer] = value instead\n",
      "\n",
      "See the caveats in the documentation: https://pandas.pydata.org/pandas-docs/stable/user_guide/indexing.html#returning-a-view-versus-a-copy\n",
      "  w_a_df['inside'] = w_a_df.apply(lambda row: isinside(barajas_zone,row['lat_deg'],row['lon_deg'])\n"
     ]
    },
    {
     "name": "stdout",
     "output_type": "stream",
     "text": [
      "1\n",
      "2\n"
     ]
    },
    {
     "name": "stderr",
     "output_type": "stream",
     "text": [
      "\n",
      "0it [00:00, ?it/s]\u001b[A\n",
      "1it [00:05,  5.82s/it]\u001b[A\n",
      "2it [00:11,  5.79s/it]\u001b[A\n",
      "3it [00:17,  5.69s/it]\u001b[A\n",
      "4it [00:23,  5.81s/it]\u001b[A\n",
      "C:\\Users\\1570074\\AppData\\Local\\Temp\\ipykernel_11432\\3951986721.py:119: SettingWithCopyWarning: \n",
      "A value is trying to be set on a copy of a slice from a DataFrame.\n",
      "Try using .loc[row_indexer,col_indexer] = value instead\n",
      "\n",
      "See the caveats in the documentation: https://pandas.pydata.org/pandas-docs/stable/user_guide/indexing.html#returning-a-view-versus-a-copy\n",
      "  model_df['min_dist'] = model_df.apply(lambda x: min_dist[min_dist['icao24']==x.icao24].rwy_dist.iloc[0] == x.rwy_dist ,axis=1)\n"
     ]
    },
    {
     "name": "stdout",
     "output_type": "stream",
     "text": [
      "3\n",
      "4\n"
     ]
    },
    {
     "name": "stderr",
     "output_type": "stream",
     "text": [
      "\r",
      " 62%|██████▎   | 15/24 [09:13<06:45, 45.05s/it]"
     ]
    },
    {
     "name": "stdout",
     "output_type": "stream",
     "text": [
      "0\n",
      "data/engage-hackathon-2025/year=2024/month=12/day=14/hour=22\n",
      "si\n"
     ]
    },
    {
     "name": "stderr",
     "output_type": "stream",
     "text": [
      "C:\\Users\\1570074\\AppData\\Local\\Temp\\ipykernel_11432\\3951986721.py:61: SettingWithCopyWarning: \n",
      "A value is trying to be set on a copy of a slice from a DataFrame.\n",
      "Try using .loc[row_indexer,col_indexer] = value instead\n",
      "\n",
      "See the caveats in the documentation: https://pandas.pydata.org/pandas-docs/stable/user_guide/indexing.html#returning-a-view-versus-a-copy\n",
      "  w_a_df['inside'] = w_a_df.apply(lambda row: isinside(barajas_zone,row['lat_deg'],row['lon_deg'])\n"
     ]
    },
    {
     "name": "stdout",
     "output_type": "stream",
     "text": [
      "1\n",
      "2\n"
     ]
    },
    {
     "name": "stderr",
     "output_type": "stream",
     "text": [
      "\n",
      "0it [00:00, ?it/s]\u001b[A\n",
      "1it [00:02,  2.03s/it]\u001b[A\n",
      "2it [00:04,  2.01s/it]\u001b[A\n",
      "3it [00:06,  2.01s/it]\u001b[A\n",
      "4it [00:08,  2.04s/it]\u001b[A\n"
     ]
    },
    {
     "name": "stdout",
     "output_type": "stream",
     "text": [
      "3\n",
      "4\n"
     ]
    },
    {
     "name": "stderr",
     "output_type": "stream",
     "text": [
      "\r",
      " 67%|██████▋   | 16/24 [09:40<05:17, 39.68s/it]"
     ]
    },
    {
     "name": "stdout",
     "output_type": "stream",
     "text": [
      "0\n",
      "data/engage-hackathon-2025/year=2024/month=12/day=14/hour=23\n",
      "si\n"
     ]
    },
    {
     "name": "stderr",
     "output_type": "stream",
     "text": [
      "C:\\Users\\1570074\\AppData\\Local\\Temp\\ipykernel_11432\\3951986721.py:61: SettingWithCopyWarning: \n",
      "A value is trying to be set on a copy of a slice from a DataFrame.\n",
      "Try using .loc[row_indexer,col_indexer] = value instead\n",
      "\n",
      "See the caveats in the documentation: https://pandas.pydata.org/pandas-docs/stable/user_guide/indexing.html#returning-a-view-versus-a-copy\n",
      "  w_a_df['inside'] = w_a_df.apply(lambda row: isinside(barajas_zone,row['lat_deg'],row['lon_deg'])\n"
     ]
    },
    {
     "name": "stdout",
     "output_type": "stream",
     "text": [
      "1\n",
      "2\n"
     ]
    },
    {
     "name": "stderr",
     "output_type": "stream",
     "text": [
      "\n",
      "0it [00:00, ?it/s]\u001b[A\n",
      "1it [00:01,  1.54s/it]\u001b[A\n",
      "2it [00:03,  1.51s/it]\u001b[A\n",
      "3it [00:04,  1.54s/it]\u001b[A\n",
      "4it [00:06,  1.52s/it]\u001b[A\n"
     ]
    },
    {
     "name": "stdout",
     "output_type": "stream",
     "text": [
      "3\n",
      "4\n"
     ]
    },
    {
     "name": "stderr",
     "output_type": "stream",
     "text": [
      "\r",
      " 71%|███████   | 17/24 [09:59<03:55, 33.66s/it]"
     ]
    },
    {
     "name": "stdout",
     "output_type": "stream",
     "text": [
      "0\n",
      "data/engage-hackathon-2025/year=2024/month=12/day=14/hour=3\n",
      "si\n"
     ]
    },
    {
     "name": "stderr",
     "output_type": "stream",
     "text": [
      "C:\\Users\\1570074\\AppData\\Local\\Temp\\ipykernel_11432\\3951986721.py:61: SettingWithCopyWarning: \n",
      "A value is trying to be set on a copy of a slice from a DataFrame.\n",
      "Try using .loc[row_indexer,col_indexer] = value instead\n",
      "\n",
      "See the caveats in the documentation: https://pandas.pydata.org/pandas-docs/stable/user_guide/indexing.html#returning-a-view-versus-a-copy\n",
      "  w_a_df['inside'] = w_a_df.apply(lambda row: isinside(barajas_zone,row['lat_deg'],row['lon_deg'])\n"
     ]
    },
    {
     "name": "stdout",
     "output_type": "stream",
     "text": [
      "1\n",
      "2\n"
     ]
    },
    {
     "name": "stderr",
     "output_type": "stream",
     "text": [
      "\n",
      "0it [00:00, ?it/s]\u001b[A\n",
      "1it [00:01,  1.82s/it]\u001b[A\n",
      "2it [00:03,  1.83s/it]\u001b[A\n",
      "3it [00:05,  1.77s/it]\u001b[A\n",
      "4it [00:07,  1.77s/it]\u001b[A\n",
      " 75%|███████▌  | 18/24 [10:21<03:01, 30.21s/it]"
     ]
    },
    {
     "name": "stdout",
     "output_type": "stream",
     "text": [
      "3\n",
      "4\n",
      "0\n",
      "data/engage-hackathon-2025/year=2024/month=12/day=14/hour=4\n",
      "si\n"
     ]
    },
    {
     "name": "stderr",
     "output_type": "stream",
     "text": [
      "C:\\Users\\1570074\\AppData\\Local\\Temp\\ipykernel_11432\\3951986721.py:61: SettingWithCopyWarning: \n",
      "A value is trying to be set on a copy of a slice from a DataFrame.\n",
      "Try using .loc[row_indexer,col_indexer] = value instead\n",
      "\n",
      "See the caveats in the documentation: https://pandas.pydata.org/pandas-docs/stable/user_guide/indexing.html#returning-a-view-versus-a-copy\n",
      "  w_a_df['inside'] = w_a_df.apply(lambda row: isinside(barajas_zone,row['lat_deg'],row['lon_deg'])\n"
     ]
    },
    {
     "name": "stdout",
     "output_type": "stream",
     "text": [
      "1\n",
      "2\n"
     ]
    },
    {
     "name": "stderr",
     "output_type": "stream",
     "text": [
      "\n",
      "0it [00:00, ?it/s]\u001b[A\n",
      "1it [00:00,  1.09it/s]\u001b[A\n",
      "2it [00:01,  1.12it/s]\u001b[A\n",
      "3it [00:02,  1.07it/s]\u001b[A\n",
      "4it [00:03,  1.08it/s]\u001b[A\n",
      " 79%|███████▉  | 19/24 [10:34<02:04, 24.82s/it]"
     ]
    },
    {
     "name": "stdout",
     "output_type": "stream",
     "text": [
      "3\n",
      "4\n",
      "0\n",
      "data/engage-hackathon-2025/year=2024/month=12/day=14/hour=5\n",
      "si\n"
     ]
    },
    {
     "name": "stderr",
     "output_type": "stream",
     "text": [
      "C:\\Users\\1570074\\AppData\\Local\\Temp\\ipykernel_11432\\3951986721.py:61: SettingWithCopyWarning: \n",
      "A value is trying to be set on a copy of a slice from a DataFrame.\n",
      "Try using .loc[row_indexer,col_indexer] = value instead\n",
      "\n",
      "See the caveats in the documentation: https://pandas.pydata.org/pandas-docs/stable/user_guide/indexing.html#returning-a-view-versus-a-copy\n",
      "  w_a_df['inside'] = w_a_df.apply(lambda row: isinside(barajas_zone,row['lat_deg'],row['lon_deg'])\n"
     ]
    },
    {
     "name": "stdout",
     "output_type": "stream",
     "text": [
      "1\n",
      "2\n"
     ]
    },
    {
     "name": "stderr",
     "output_type": "stream",
     "text": [
      "\n",
      "0it [00:00, ?it/s]\u001b[A\n",
      "1it [00:01,  1.23s/it]\u001b[A\n",
      "2it [00:02,  1.20s/it]\u001b[A\n",
      "3it [00:03,  1.12s/it]\u001b[A\n",
      "4it [00:04,  1.15s/it]\u001b[A\n"
     ]
    },
    {
     "name": "stdout",
     "output_type": "stream",
     "text": [
      "3\n",
      "4\n"
     ]
    },
    {
     "name": "stderr",
     "output_type": "stream",
     "text": [
      "\r",
      " 83%|████████▎ | 20/24 [10:49<01:28, 22.05s/it]"
     ]
    },
    {
     "name": "stdout",
     "output_type": "stream",
     "text": [
      "0\n",
      "data/engage-hackathon-2025/year=2024/month=12/day=14/hour=6\n",
      "si\n"
     ]
    },
    {
     "name": "stderr",
     "output_type": "stream",
     "text": [
      "C:\\Users\\1570074\\AppData\\Local\\Temp\\ipykernel_11432\\3951986721.py:61: SettingWithCopyWarning: \n",
      "A value is trying to be set on a copy of a slice from a DataFrame.\n",
      "Try using .loc[row_indexer,col_indexer] = value instead\n",
      "\n",
      "See the caveats in the documentation: https://pandas.pydata.org/pandas-docs/stable/user_guide/indexing.html#returning-a-view-versus-a-copy\n",
      "  w_a_df['inside'] = w_a_df.apply(lambda row: isinside(barajas_zone,row['lat_deg'],row['lon_deg'])\n"
     ]
    },
    {
     "name": "stdout",
     "output_type": "stream",
     "text": [
      "1\n",
      "2\n"
     ]
    },
    {
     "name": "stderr",
     "output_type": "stream",
     "text": [
      "\n",
      "0it [00:00, ?it/s]\u001b[A\n",
      "1it [00:01,  1.77s/it]\u001b[A\n",
      "2it [00:03,  1.72s/it]\u001b[A\n",
      "3it [00:05,  1.73s/it]\u001b[A\n",
      "4it [00:07,  1.75s/it]\u001b[A\n",
      "C:\\Users\\1570074\\AppData\\Local\\Temp\\ipykernel_11432\\3951986721.py:119: SettingWithCopyWarning: \n",
      "A value is trying to be set on a copy of a slice from a DataFrame.\n",
      "Try using .loc[row_indexer,col_indexer] = value instead\n",
      "\n",
      "See the caveats in the documentation: https://pandas.pydata.org/pandas-docs/stable/user_guide/indexing.html#returning-a-view-versus-a-copy\n",
      "  model_df['min_dist'] = model_df.apply(lambda x: min_dist[min_dist['icao24']==x.icao24].rwy_dist.iloc[0] == x.rwy_dist ,axis=1)\n"
     ]
    },
    {
     "name": "stdout",
     "output_type": "stream",
     "text": [
      "3\n",
      "4\n"
     ]
    },
    {
     "name": "stderr",
     "output_type": "stream",
     "text": [
      "\r",
      " 88%|████████▊ | 21/24 [11:11<01:05, 21.84s/it]"
     ]
    },
    {
     "name": "stdout",
     "output_type": "stream",
     "text": [
      "0\n",
      "data/engage-hackathon-2025/year=2024/month=12/day=14/hour=7\n",
      "si\n"
     ]
    },
    {
     "name": "stderr",
     "output_type": "stream",
     "text": [
      "C:\\Users\\1570074\\AppData\\Local\\Temp\\ipykernel_11432\\3951986721.py:61: SettingWithCopyWarning: \n",
      "A value is trying to be set on a copy of a slice from a DataFrame.\n",
      "Try using .loc[row_indexer,col_indexer] = value instead\n",
      "\n",
      "See the caveats in the documentation: https://pandas.pydata.org/pandas-docs/stable/user_guide/indexing.html#returning-a-view-versus-a-copy\n",
      "  w_a_df['inside'] = w_a_df.apply(lambda row: isinside(barajas_zone,row['lat_deg'],row['lon_deg'])\n"
     ]
    },
    {
     "name": "stdout",
     "output_type": "stream",
     "text": [
      "1\n",
      "2\n"
     ]
    },
    {
     "name": "stderr",
     "output_type": "stream",
     "text": [
      "\n",
      "0it [00:00, ?it/s]\u001b[A\n",
      "1it [00:03,  3.29s/it]\u001b[A\n",
      "2it [00:06,  3.20s/it]\u001b[A\n",
      "3it [00:09,  3.21s/it]\u001b[A\n",
      "4it [00:12,  3.21s/it]\u001b[A\n",
      "C:\\Users\\1570074\\AppData\\Local\\Temp\\ipykernel_11432\\3951986721.py:119: SettingWithCopyWarning: \n",
      "A value is trying to be set on a copy of a slice from a DataFrame.\n",
      "Try using .loc[row_indexer,col_indexer] = value instead\n",
      "\n",
      "See the caveats in the documentation: https://pandas.pydata.org/pandas-docs/stable/user_guide/indexing.html#returning-a-view-versus-a-copy\n",
      "  model_df['min_dist'] = model_df.apply(lambda x: min_dist[min_dist['icao24']==x.icao24].rwy_dist.iloc[0] == x.rwy_dist ,axis=1)\n"
     ]
    },
    {
     "name": "stdout",
     "output_type": "stream",
     "text": [
      "3\n",
      "4\n"
     ]
    },
    {
     "name": "stderr",
     "output_type": "stream",
     "text": [
      "\r",
      " 92%|█████████▏| 22/24 [11:47<00:52, 26.16s/it]"
     ]
    },
    {
     "name": "stdout",
     "output_type": "stream",
     "text": [
      "0\n",
      "data/engage-hackathon-2025/year=2024/month=12/day=14/hour=8\n",
      "si\n"
     ]
    },
    {
     "name": "stderr",
     "output_type": "stream",
     "text": [
      "C:\\Users\\1570074\\AppData\\Local\\Temp\\ipykernel_11432\\3951986721.py:61: SettingWithCopyWarning: \n",
      "A value is trying to be set on a copy of a slice from a DataFrame.\n",
      "Try using .loc[row_indexer,col_indexer] = value instead\n",
      "\n",
      "See the caveats in the documentation: https://pandas.pydata.org/pandas-docs/stable/user_guide/indexing.html#returning-a-view-versus-a-copy\n",
      "  w_a_df['inside'] = w_a_df.apply(lambda row: isinside(barajas_zone,row['lat_deg'],row['lon_deg'])\n"
     ]
    },
    {
     "name": "stdout",
     "output_type": "stream",
     "text": [
      "1\n",
      "2\n"
     ]
    },
    {
     "name": "stderr",
     "output_type": "stream",
     "text": [
      "\n",
      "0it [00:00, ?it/s]\u001b[A\n",
      "1it [00:04,  4.47s/it]\u001b[A\n",
      "2it [00:08,  4.41s/it]\u001b[A\n",
      "3it [00:13,  4.43s/it]\u001b[A\n",
      "4it [00:17,  4.44s/it]\u001b[A\n",
      "C:\\Users\\1570074\\AppData\\Local\\Temp\\ipykernel_11432\\3951986721.py:119: SettingWithCopyWarning: \n",
      "A value is trying to be set on a copy of a slice from a DataFrame.\n",
      "Try using .loc[row_indexer,col_indexer] = value instead\n",
      "\n",
      "See the caveats in the documentation: https://pandas.pydata.org/pandas-docs/stable/user_guide/indexing.html#returning-a-view-versus-a-copy\n",
      "  model_df['min_dist'] = model_df.apply(lambda x: min_dist[min_dist['icao24']==x.icao24].rwy_dist.iloc[0] == x.rwy_dist ,axis=1)\n"
     ]
    },
    {
     "name": "stdout",
     "output_type": "stream",
     "text": [
      "3\n",
      "4\n"
     ]
    },
    {
     "name": "stderr",
     "output_type": "stream",
     "text": [
      "\r",
      " 96%|█████████▌| 23/24 [12:37<00:33, 33.44s/it]"
     ]
    },
    {
     "name": "stdout",
     "output_type": "stream",
     "text": [
      "0\n",
      "data/engage-hackathon-2025/year=2024/month=12/day=14/hour=9\n",
      "si\n"
     ]
    },
    {
     "name": "stderr",
     "output_type": "stream",
     "text": [
      "C:\\Users\\1570074\\AppData\\Local\\Temp\\ipykernel_11432\\3951986721.py:61: SettingWithCopyWarning: \n",
      "A value is trying to be set on a copy of a slice from a DataFrame.\n",
      "Try using .loc[row_indexer,col_indexer] = value instead\n",
      "\n",
      "See the caveats in the documentation: https://pandas.pydata.org/pandas-docs/stable/user_guide/indexing.html#returning-a-view-versus-a-copy\n",
      "  w_a_df['inside'] = w_a_df.apply(lambda row: isinside(barajas_zone,row['lat_deg'],row['lon_deg'])\n"
     ]
    },
    {
     "name": "stdout",
     "output_type": "stream",
     "text": [
      "1\n",
      "2\n"
     ]
    },
    {
     "name": "stderr",
     "output_type": "stream",
     "text": [
      "\n",
      "0it [00:00, ?it/s]\u001b[A\n",
      "1it [00:06,  6.77s/it]\u001b[A\n",
      "2it [00:13,  6.45s/it]\u001b[A\n",
      "3it [00:19,  6.43s/it]\u001b[A\n",
      "4it [00:25,  6.46s/it]\u001b[A\n",
      "C:\\Users\\1570074\\AppData\\Local\\Temp\\ipykernel_11432\\3951986721.py:119: SettingWithCopyWarning: \n",
      "A value is trying to be set on a copy of a slice from a DataFrame.\n",
      "Try using .loc[row_indexer,col_indexer] = value instead\n",
      "\n",
      "See the caveats in the documentation: https://pandas.pydata.org/pandas-docs/stable/user_guide/indexing.html#returning-a-view-versus-a-copy\n",
      "  model_df['min_dist'] = model_df.apply(lambda x: min_dist[min_dist['icao24']==x.icao24].rwy_dist.iloc[0] == x.rwy_dist ,axis=1)\n"
     ]
    },
    {
     "name": "stdout",
     "output_type": "stream",
     "text": [
      "3\n",
      "4\n"
     ]
    },
    {
     "name": "stderr",
     "output_type": "stream",
     "text": [
      "100%|██████████| 24/24 [13:49<00:00, 34.56s/it]\n",
      "  0%|          | 0/24 [00:00<?, ?it/s]"
     ]
    },
    {
     "name": "stdout",
     "output_type": "stream",
     "text": [
      "0\n",
      "data/engage-hackathon-2025/year=2024/month=12/day=16/hour=0\n",
      "si\n"
     ]
    },
    {
     "name": "stderr",
     "output_type": "stream",
     "text": [
      "C:\\Users\\1570074\\AppData\\Local\\Temp\\ipykernel_11432\\3951986721.py:61: SettingWithCopyWarning: \n",
      "A value is trying to be set on a copy of a slice from a DataFrame.\n",
      "Try using .loc[row_indexer,col_indexer] = value instead\n",
      "\n",
      "See the caveats in the documentation: https://pandas.pydata.org/pandas-docs/stable/user_guide/indexing.html#returning-a-view-versus-a-copy\n",
      "  w_a_df['inside'] = w_a_df.apply(lambda row: isinside(barajas_zone,row['lat_deg'],row['lon_deg'])\n"
     ]
    },
    {
     "name": "stdout",
     "output_type": "stream",
     "text": [
      "1\n",
      "2\n"
     ]
    },
    {
     "name": "stderr",
     "output_type": "stream",
     "text": [
      "\n",
      "0it [00:00, ?it/s]\u001b[A\n",
      "1it [00:00,  2.97it/s]\u001b[A\n",
      "2it [00:00,  3.09it/s]\u001b[A\n",
      "3it [00:00,  3.33it/s]\u001b[A\n",
      "4it [00:01,  3.22it/s]\u001b[A\n",
      "  4%|▍         | 1/24 [00:04<01:36,  4.19s/it]"
     ]
    },
    {
     "name": "stdout",
     "output_type": "stream",
     "text": [
      "3\n",
      "4\n",
      "0\n",
      "data/engage-hackathon-2025/year=2024/month=12/day=16/hour=1\n",
      "si\n"
     ]
    },
    {
     "name": "stderr",
     "output_type": "stream",
     "text": [
      "C:\\Users\\1570074\\AppData\\Local\\Temp\\ipykernel_11432\\3951986721.py:61: SettingWithCopyWarning: \n",
      "A value is trying to be set on a copy of a slice from a DataFrame.\n",
      "Try using .loc[row_indexer,col_indexer] = value instead\n",
      "\n",
      "See the caveats in the documentation: https://pandas.pydata.org/pandas-docs/stable/user_guide/indexing.html#returning-a-view-versus-a-copy\n",
      "  w_a_df['inside'] = w_a_df.apply(lambda row: isinside(barajas_zone,row['lat_deg'],row['lon_deg'])\n"
     ]
    },
    {
     "name": "stdout",
     "output_type": "stream",
     "text": [
      "1\n",
      "2\n"
     ]
    },
    {
     "name": "stderr",
     "output_type": "stream",
     "text": [
      "\n",
      "0it [00:00, ?it/s]\u001b[A\n",
      "1it [00:00,  3.84it/s]\u001b[A\n",
      "2it [00:00,  3.55it/s]\u001b[A\n",
      "3it [00:00,  3.70it/s]\u001b[A\n",
      "4it [00:01,  3.66it/s]\u001b[A\n",
      "  8%|▊         | 2/24 [00:07<01:21,  3.70s/it]"
     ]
    },
    {
     "name": "stdout",
     "output_type": "stream",
     "text": [
      "3\n",
      "4\n",
      "0\n",
      "data/engage-hackathon-2025/year=2024/month=12/day=16/hour=10\n",
      "si\n"
     ]
    },
    {
     "name": "stderr",
     "output_type": "stream",
     "text": [
      "C:\\Users\\1570074\\AppData\\Local\\Temp\\ipykernel_11432\\3951986721.py:61: SettingWithCopyWarning: \n",
      "A value is trying to be set on a copy of a slice from a DataFrame.\n",
      "Try using .loc[row_indexer,col_indexer] = value instead\n",
      "\n",
      "See the caveats in the documentation: https://pandas.pydata.org/pandas-docs/stable/user_guide/indexing.html#returning-a-view-versus-a-copy\n",
      "  w_a_df['inside'] = w_a_df.apply(lambda row: isinside(barajas_zone,row['lat_deg'],row['lon_deg'])\n"
     ]
    },
    {
     "name": "stdout",
     "output_type": "stream",
     "text": [
      "1\n",
      "2\n"
     ]
    },
    {
     "name": "stderr",
     "output_type": "stream",
     "text": [
      "\n",
      "0it [00:00, ?it/s]\u001b[A\n",
      "1it [00:04,  4.52s/it]\u001b[A\n",
      "2it [00:09,  4.56s/it]\u001b[A\n",
      "3it [00:13,  4.51s/it]\u001b[A\n",
      "4it [00:17,  4.47s/it]\u001b[A\n",
      "C:\\Users\\1570074\\AppData\\Local\\Temp\\ipykernel_11432\\3951986721.py:119: SettingWithCopyWarning: \n",
      "A value is trying to be set on a copy of a slice from a DataFrame.\n",
      "Try using .loc[row_indexer,col_indexer] = value instead\n",
      "\n",
      "See the caveats in the documentation: https://pandas.pydata.org/pandas-docs/stable/user_guide/indexing.html#returning-a-view-versus-a-copy\n",
      "  model_df['min_dist'] = model_df.apply(lambda x: min_dist[min_dist['icao24']==x.icao24].rwy_dist.iloc[0] == x.rwy_dist ,axis=1)\n"
     ]
    },
    {
     "name": "stdout",
     "output_type": "stream",
     "text": [
      "3\n",
      "4\n"
     ]
    },
    {
     "name": "stderr",
     "output_type": "stream",
     "text": [
      "\r",
      " 12%|█▎        | 3/24 [00:57<08:37, 24.66s/it]"
     ]
    },
    {
     "name": "stdout",
     "output_type": "stream",
     "text": [
      "0\n",
      "data/engage-hackathon-2025/year=2024/month=12/day=16/hour=11\n",
      "si\n"
     ]
    },
    {
     "name": "stderr",
     "output_type": "stream",
     "text": [
      "C:\\Users\\1570074\\AppData\\Local\\Temp\\ipykernel_11432\\3951986721.py:61: SettingWithCopyWarning: \n",
      "A value is trying to be set on a copy of a slice from a DataFrame.\n",
      "Try using .loc[row_indexer,col_indexer] = value instead\n",
      "\n",
      "See the caveats in the documentation: https://pandas.pydata.org/pandas-docs/stable/user_guide/indexing.html#returning-a-view-versus-a-copy\n",
      "  w_a_df['inside'] = w_a_df.apply(lambda row: isinside(barajas_zone,row['lat_deg'],row['lon_deg'])\n"
     ]
    },
    {
     "name": "stdout",
     "output_type": "stream",
     "text": [
      "1\n",
      "2\n"
     ]
    },
    {
     "name": "stderr",
     "output_type": "stream",
     "text": [
      "\n",
      "0it [00:00, ?it/s]\u001b[A\n",
      "1it [00:04,  4.60s/it]\u001b[A\n",
      "2it [00:09,  4.77s/it]\u001b[A\n",
      "3it [00:14,  4.70s/it]\u001b[A\n",
      "4it [00:18,  4.69s/it]\u001b[A\n",
      "C:\\Users\\1570074\\AppData\\Local\\Temp\\ipykernel_11432\\3951986721.py:119: SettingWithCopyWarning: \n",
      "A value is trying to be set on a copy of a slice from a DataFrame.\n",
      "Try using .loc[row_indexer,col_indexer] = value instead\n",
      "\n",
      "See the caveats in the documentation: https://pandas.pydata.org/pandas-docs/stable/user_guide/indexing.html#returning-a-view-versus-a-copy\n",
      "  model_df['min_dist'] = model_df.apply(lambda x: min_dist[min_dist['icao24']==x.icao24].rwy_dist.iloc[0] == x.rwy_dist ,axis=1)\n"
     ]
    },
    {
     "name": "stdout",
     "output_type": "stream",
     "text": [
      "3\n",
      "4\n"
     ]
    },
    {
     "name": "stderr",
     "output_type": "stream",
     "text": [
      "\r",
      " 17%|█▋        | 4/24 [01:48<11:40, 35.01s/it]"
     ]
    },
    {
     "name": "stdout",
     "output_type": "stream",
     "text": [
      "0\n",
      "data/engage-hackathon-2025/year=2024/month=12/day=16/hour=12\n",
      "si\n"
     ]
    },
    {
     "name": "stderr",
     "output_type": "stream",
     "text": [
      "C:\\Users\\1570074\\AppData\\Local\\Temp\\ipykernel_11432\\3951986721.py:61: SettingWithCopyWarning: \n",
      "A value is trying to be set on a copy of a slice from a DataFrame.\n",
      "Try using .loc[row_indexer,col_indexer] = value instead\n",
      "\n",
      "See the caveats in the documentation: https://pandas.pydata.org/pandas-docs/stable/user_guide/indexing.html#returning-a-view-versus-a-copy\n",
      "  w_a_df['inside'] = w_a_df.apply(lambda row: isinside(barajas_zone,row['lat_deg'],row['lon_deg'])\n"
     ]
    },
    {
     "name": "stdout",
     "output_type": "stream",
     "text": [
      "1\n",
      "2\n"
     ]
    },
    {
     "name": "stderr",
     "output_type": "stream",
     "text": [
      "\n",
      "0it [00:00, ?it/s]\u001b[A\n",
      "1it [00:05,  5.88s/it]\u001b[A\n",
      "2it [00:11,  5.66s/it]\u001b[A\n",
      "3it [00:16,  5.58s/it]\u001b[A\n",
      "4it [00:22,  5.65s/it]\u001b[A\n",
      "C:\\Users\\1570074\\AppData\\Local\\Temp\\ipykernel_11432\\3951986721.py:119: SettingWithCopyWarning: \n",
      "A value is trying to be set on a copy of a slice from a DataFrame.\n",
      "Try using .loc[row_indexer,col_indexer] = value instead\n",
      "\n",
      "See the caveats in the documentation: https://pandas.pydata.org/pandas-docs/stable/user_guide/indexing.html#returning-a-view-versus-a-copy\n",
      "  model_df['min_dist'] = model_df.apply(lambda x: min_dist[min_dist['icao24']==x.icao24].rwy_dist.iloc[0] == x.rwy_dist ,axis=1)\n"
     ]
    },
    {
     "name": "stdout",
     "output_type": "stream",
     "text": [
      "3\n",
      "4\n"
     ]
    },
    {
     "name": "stderr",
     "output_type": "stream",
     "text": [
      "\r",
      " 21%|██        | 5/24 [02:46<13:42, 43.31s/it]"
     ]
    },
    {
     "name": "stdout",
     "output_type": "stream",
     "text": [
      "0\n",
      "data/engage-hackathon-2025/year=2024/month=12/day=16/hour=13\n",
      "si\n"
     ]
    },
    {
     "name": "stderr",
     "output_type": "stream",
     "text": [
      "C:\\Users\\1570074\\AppData\\Local\\Temp\\ipykernel_11432\\3951986721.py:61: SettingWithCopyWarning: \n",
      "A value is trying to be set on a copy of a slice from a DataFrame.\n",
      "Try using .loc[row_indexer,col_indexer] = value instead\n",
      "\n",
      "See the caveats in the documentation: https://pandas.pydata.org/pandas-docs/stable/user_guide/indexing.html#returning-a-view-versus-a-copy\n",
      "  w_a_df['inside'] = w_a_df.apply(lambda row: isinside(barajas_zone,row['lat_deg'],row['lon_deg'])\n"
     ]
    },
    {
     "name": "stdout",
     "output_type": "stream",
     "text": [
      "1\n",
      "2\n"
     ]
    },
    {
     "name": "stderr",
     "output_type": "stream",
     "text": [
      "\n",
      "0it [00:00, ?it/s]\u001b[A\n",
      "1it [00:07,  7.44s/it]\u001b[A\n",
      "2it [00:14,  7.16s/it]\u001b[A\n",
      "3it [00:21,  7.04s/it]\u001b[A\n",
      "4it [00:28,  7.21s/it]\u001b[A\n",
      "C:\\Users\\1570074\\AppData\\Local\\Temp\\ipykernel_11432\\3951986721.py:119: SettingWithCopyWarning: \n",
      "A value is trying to be set on a copy of a slice from a DataFrame.\n",
      "Try using .loc[row_indexer,col_indexer] = value instead\n",
      "\n",
      "See the caveats in the documentation: https://pandas.pydata.org/pandas-docs/stable/user_guide/indexing.html#returning-a-view-versus-a-copy\n",
      "  model_df['min_dist'] = model_df.apply(lambda x: min_dist[min_dist['icao24']==x.icao24].rwy_dist.iloc[0] == x.rwy_dist ,axis=1)\n"
     ]
    },
    {
     "name": "stdout",
     "output_type": "stream",
     "text": [
      "3\n",
      "4\n"
     ]
    },
    {
     "name": "stderr",
     "output_type": "stream",
     "text": [
      "\r",
      " 25%|██▌       | 6/24 [04:07<16:53, 56.32s/it]"
     ]
    },
    {
     "name": "stdout",
     "output_type": "stream",
     "text": [
      "0\n",
      "data/engage-hackathon-2025/year=2024/month=12/day=16/hour=14\n",
      "si\n"
     ]
    },
    {
     "name": "stderr",
     "output_type": "stream",
     "text": [
      "C:\\Users\\1570074\\AppData\\Local\\Temp\\ipykernel_11432\\3951986721.py:61: SettingWithCopyWarning: \n",
      "A value is trying to be set on a copy of a slice from a DataFrame.\n",
      "Try using .loc[row_indexer,col_indexer] = value instead\n",
      "\n",
      "See the caveats in the documentation: https://pandas.pydata.org/pandas-docs/stable/user_guide/indexing.html#returning-a-view-versus-a-copy\n",
      "  w_a_df['inside'] = w_a_df.apply(lambda row: isinside(barajas_zone,row['lat_deg'],row['lon_deg'])\n"
     ]
    },
    {
     "name": "stdout",
     "output_type": "stream",
     "text": [
      "1\n",
      "2\n"
     ]
    },
    {
     "name": "stderr",
     "output_type": "stream",
     "text": [
      "\n",
      "0it [00:00, ?it/s]\u001b[A\n",
      "1it [00:02,  2.66s/it]\u001b[A\n",
      "2it [00:05,  2.78s/it]\u001b[A\n",
      "3it [00:08,  2.73s/it]\u001b[A\n",
      "4it [00:10,  2.74s/it]\u001b[A\n",
      "C:\\Users\\1570074\\AppData\\Local\\Temp\\ipykernel_11432\\3951986721.py:119: SettingWithCopyWarning: \n",
      "A value is trying to be set on a copy of a slice from a DataFrame.\n",
      "Try using .loc[row_indexer,col_indexer] = value instead\n",
      "\n",
      "See the caveats in the documentation: https://pandas.pydata.org/pandas-docs/stable/user_guide/indexing.html#returning-a-view-versus-a-copy\n",
      "  model_df['min_dist'] = model_df.apply(lambda x: min_dist[min_dist['icao24']==x.icao24].rwy_dist.iloc[0] == x.rwy_dist ,axis=1)\n"
     ]
    },
    {
     "name": "stdout",
     "output_type": "stream",
     "text": [
      "3\n",
      "4\n"
     ]
    },
    {
     "name": "stderr",
     "output_type": "stream",
     "text": [
      "\r",
      " 29%|██▉       | 7/24 [04:43<14:01, 49.51s/it]"
     ]
    },
    {
     "name": "stdout",
     "output_type": "stream",
     "text": [
      "0\n",
      "data/engage-hackathon-2025/year=2024/month=12/day=16/hour=15\n",
      "si\n"
     ]
    },
    {
     "name": "stderr",
     "output_type": "stream",
     "text": [
      "C:\\Users\\1570074\\AppData\\Local\\Temp\\ipykernel_11432\\3951986721.py:61: SettingWithCopyWarning: \n",
      "A value is trying to be set on a copy of a slice from a DataFrame.\n",
      "Try using .loc[row_indexer,col_indexer] = value instead\n",
      "\n",
      "See the caveats in the documentation: https://pandas.pydata.org/pandas-docs/stable/user_guide/indexing.html#returning-a-view-versus-a-copy\n",
      "  w_a_df['inside'] = w_a_df.apply(lambda row: isinside(barajas_zone,row['lat_deg'],row['lon_deg'])\n"
     ]
    },
    {
     "name": "stdout",
     "output_type": "stream",
     "text": [
      "1\n",
      "2\n"
     ]
    },
    {
     "name": "stderr",
     "output_type": "stream",
     "text": [
      "\n",
      "0it [00:00, ?it/s]\u001b[A\n",
      "1it [00:02,  2.08s/it]\u001b[A\n",
      "2it [00:04,  2.04s/it]\u001b[A\n",
      "3it [00:06,  2.10s/it]\u001b[A\n",
      "4it [00:08,  2.09s/it]\u001b[A\n",
      "C:\\Users\\1570074\\AppData\\Local\\Temp\\ipykernel_11432\\3951986721.py:119: SettingWithCopyWarning: \n",
      "A value is trying to be set on a copy of a slice from a DataFrame.\n",
      "Try using .loc[row_indexer,col_indexer] = value instead\n",
      "\n",
      "See the caveats in the documentation: https://pandas.pydata.org/pandas-docs/stable/user_guide/indexing.html#returning-a-view-versus-a-copy\n",
      "  model_df['min_dist'] = model_df.apply(lambda x: min_dist[min_dist['icao24']==x.icao24].rwy_dist.iloc[0] == x.rwy_dist ,axis=1)\n"
     ]
    },
    {
     "name": "stdout",
     "output_type": "stream",
     "text": [
      "3\n",
      "4\n"
     ]
    },
    {
     "name": "stderr",
     "output_type": "stream",
     "text": [
      "\r",
      " 33%|███▎      | 8/24 [05:09<11:14, 42.14s/it]"
     ]
    },
    {
     "name": "stdout",
     "output_type": "stream",
     "text": [
      "0\n",
      "data/engage-hackathon-2025/year=2024/month=12/day=16/hour=16\n",
      "si\n"
     ]
    },
    {
     "name": "stderr",
     "output_type": "stream",
     "text": [
      "C:\\Users\\1570074\\AppData\\Local\\Temp\\ipykernel_11432\\3951986721.py:61: SettingWithCopyWarning: \n",
      "A value is trying to be set on a copy of a slice from a DataFrame.\n",
      "Try using .loc[row_indexer,col_indexer] = value instead\n",
      "\n",
      "See the caveats in the documentation: https://pandas.pydata.org/pandas-docs/stable/user_guide/indexing.html#returning-a-view-versus-a-copy\n",
      "  w_a_df['inside'] = w_a_df.apply(lambda row: isinside(barajas_zone,row['lat_deg'],row['lon_deg'])\n"
     ]
    },
    {
     "name": "stdout",
     "output_type": "stream",
     "text": [
      "1\n",
      "2\n"
     ]
    },
    {
     "name": "stderr",
     "output_type": "stream",
     "text": [
      "\n",
      "0it [00:00, ?it/s]\u001b[A\n",
      "1it [00:02,  2.31s/it]\u001b[A\n",
      "2it [00:04,  2.32s/it]\u001b[A\n",
      "3it [00:06,  2.30s/it]\u001b[A\n",
      "4it [00:09,  2.29s/it]\u001b[A\n",
      "C:\\Users\\1570074\\AppData\\Local\\Temp\\ipykernel_11432\\3951986721.py:119: SettingWithCopyWarning: \n",
      "A value is trying to be set on a copy of a slice from a DataFrame.\n",
      "Try using .loc[row_indexer,col_indexer] = value instead\n",
      "\n",
      "See the caveats in the documentation: https://pandas.pydata.org/pandas-docs/stable/user_guide/indexing.html#returning-a-view-versus-a-copy\n",
      "  model_df['min_dist'] = model_df.apply(lambda x: min_dist[min_dist['icao24']==x.icao24].rwy_dist.iloc[0] == x.rwy_dist ,axis=1)\n"
     ]
    },
    {
     "name": "stdout",
     "output_type": "stream",
     "text": [
      "3\n",
      "4\n"
     ]
    },
    {
     "name": "stderr",
     "output_type": "stream",
     "text": [
      "\r",
      " 38%|███▊      | 9/24 [05:36<09:22, 37.50s/it]"
     ]
    },
    {
     "name": "stdout",
     "output_type": "stream",
     "text": [
      "0\n",
      "data/engage-hackathon-2025/year=2024/month=12/day=16/hour=17\n",
      "si\n"
     ]
    },
    {
     "name": "stderr",
     "output_type": "stream",
     "text": [
      "C:\\Users\\1570074\\AppData\\Local\\Temp\\ipykernel_11432\\3951986721.py:61: SettingWithCopyWarning: \n",
      "A value is trying to be set on a copy of a slice from a DataFrame.\n",
      "Try using .loc[row_indexer,col_indexer] = value instead\n",
      "\n",
      "See the caveats in the documentation: https://pandas.pydata.org/pandas-docs/stable/user_guide/indexing.html#returning-a-view-versus-a-copy\n",
      "  w_a_df['inside'] = w_a_df.apply(lambda row: isinside(barajas_zone,row['lat_deg'],row['lon_deg'])\n"
     ]
    },
    {
     "name": "stdout",
     "output_type": "stream",
     "text": [
      "1\n",
      "2\n"
     ]
    },
    {
     "name": "stderr",
     "output_type": "stream",
     "text": [
      "\n",
      "0it [00:00, ?it/s]\u001b[A\n",
      "1it [00:05,  5.07s/it]\u001b[A\n",
      "2it [00:10,  5.10s/it]\u001b[A\n",
      "3it [00:15,  5.17s/it]\u001b[A\n",
      "4it [00:20,  5.24s/it]\u001b[A\n",
      "C:\\Users\\1570074\\AppData\\Local\\Temp\\ipykernel_11432\\3951986721.py:119: SettingWithCopyWarning: \n",
      "A value is trying to be set on a copy of a slice from a DataFrame.\n",
      "Try using .loc[row_indexer,col_indexer] = value instead\n",
      "\n",
      "See the caveats in the documentation: https://pandas.pydata.org/pandas-docs/stable/user_guide/indexing.html#returning-a-view-versus-a-copy\n",
      "  model_df['min_dist'] = model_df.apply(lambda x: min_dist[min_dist['icao24']==x.icao24].rwy_dist.iloc[0] == x.rwy_dist ,axis=1)\n"
     ]
    },
    {
     "name": "stdout",
     "output_type": "stream",
     "text": [
      "3\n",
      "4\n"
     ]
    },
    {
     "name": "stderr",
     "output_type": "stream",
     "text": [
      "\r",
      " 42%|████▏     | 10/24 [06:37<10:24, 44.60s/it]"
     ]
    },
    {
     "name": "stdout",
     "output_type": "stream",
     "text": [
      "0\n",
      "data/engage-hackathon-2025/year=2024/month=12/day=16/hour=18\n",
      "si\n"
     ]
    },
    {
     "name": "stderr",
     "output_type": "stream",
     "text": [
      "C:\\Users\\1570074\\AppData\\Local\\Temp\\ipykernel_11432\\3951986721.py:61: SettingWithCopyWarning: \n",
      "A value is trying to be set on a copy of a slice from a DataFrame.\n",
      "Try using .loc[row_indexer,col_indexer] = value instead\n",
      "\n",
      "See the caveats in the documentation: https://pandas.pydata.org/pandas-docs/stable/user_guide/indexing.html#returning-a-view-versus-a-copy\n",
      "  w_a_df['inside'] = w_a_df.apply(lambda row: isinside(barajas_zone,row['lat_deg'],row['lon_deg'])\n"
     ]
    },
    {
     "name": "stdout",
     "output_type": "stream",
     "text": [
      "1\n",
      "2\n"
     ]
    },
    {
     "name": "stderr",
     "output_type": "stream",
     "text": [
      "\n",
      "0it [00:00, ?it/s]\u001b[A\n",
      "1it [00:05,  5.08s/it]\u001b[A\n",
      "2it [00:09,  4.78s/it]\u001b[A\n",
      "3it [00:14,  4.91s/it]\u001b[A\n",
      "4it [00:20,  5.02s/it]\u001b[A\n",
      "C:\\Users\\1570074\\AppData\\Local\\Temp\\ipykernel_11432\\3951986721.py:119: SettingWithCopyWarning: \n",
      "A value is trying to be set on a copy of a slice from a DataFrame.\n",
      "Try using .loc[row_indexer,col_indexer] = value instead\n",
      "\n",
      "See the caveats in the documentation: https://pandas.pydata.org/pandas-docs/stable/user_guide/indexing.html#returning-a-view-versus-a-copy\n",
      "  model_df['min_dist'] = model_df.apply(lambda x: min_dist[min_dist['icao24']==x.icao24].rwy_dist.iloc[0] == x.rwy_dist ,axis=1)\n"
     ]
    },
    {
     "name": "stdout",
     "output_type": "stream",
     "text": [
      "3\n",
      "4\n"
     ]
    },
    {
     "name": "stderr",
     "output_type": "stream",
     "text": [
      "\r",
      " 46%|████▌     | 11/24 [07:36<10:36, 48.94s/it]"
     ]
    },
    {
     "name": "stdout",
     "output_type": "stream",
     "text": [
      "0\n",
      "data/engage-hackathon-2025/year=2024/month=12/day=16/hour=19\n",
      "si\n"
     ]
    },
    {
     "name": "stderr",
     "output_type": "stream",
     "text": [
      "C:\\Users\\1570074\\AppData\\Local\\Temp\\ipykernel_11432\\3951986721.py:61: SettingWithCopyWarning: \n",
      "A value is trying to be set on a copy of a slice from a DataFrame.\n",
      "Try using .loc[row_indexer,col_indexer] = value instead\n",
      "\n",
      "See the caveats in the documentation: https://pandas.pydata.org/pandas-docs/stable/user_guide/indexing.html#returning-a-view-versus-a-copy\n",
      "  w_a_df['inside'] = w_a_df.apply(lambda row: isinside(barajas_zone,row['lat_deg'],row['lon_deg'])\n"
     ]
    },
    {
     "name": "stdout",
     "output_type": "stream",
     "text": [
      "1\n",
      "2\n"
     ]
    },
    {
     "name": "stderr",
     "output_type": "stream",
     "text": [
      "\n",
      "0it [00:00, ?it/s]\u001b[A\n",
      "1it [00:03,  3.84s/it]\u001b[A\n",
      "2it [00:07,  3.74s/it]\u001b[A\n",
      "3it [00:11,  3.78s/it]\u001b[A\n",
      "4it [00:14,  3.73s/it]\u001b[A\n",
      "C:\\Users\\1570074\\AppData\\Local\\Temp\\ipykernel_11432\\3951986721.py:119: SettingWithCopyWarning: \n",
      "A value is trying to be set on a copy of a slice from a DataFrame.\n",
      "Try using .loc[row_indexer,col_indexer] = value instead\n",
      "\n",
      "See the caveats in the documentation: https://pandas.pydata.org/pandas-docs/stable/user_guide/indexing.html#returning-a-view-versus-a-copy\n",
      "  model_df['min_dist'] = model_df.apply(lambda x: min_dist[min_dist['icao24']==x.icao24].rwy_dist.iloc[0] == x.rwy_dist ,axis=1)\n"
     ]
    },
    {
     "name": "stdout",
     "output_type": "stream",
     "text": [
      "3\n",
      "4\n"
     ]
    },
    {
     "name": "stderr",
     "output_type": "stream",
     "text": [
      "\r",
      " 50%|█████     | 12/24 [08:19<09:25, 47.14s/it]"
     ]
    },
    {
     "name": "stdout",
     "output_type": "stream",
     "text": [
      "0\n",
      "data/engage-hackathon-2025/year=2024/month=12/day=16/hour=2\n",
      "si\n"
     ]
    },
    {
     "name": "stderr",
     "output_type": "stream",
     "text": [
      "C:\\Users\\1570074\\AppData\\Local\\Temp\\ipykernel_11432\\3951986721.py:61: SettingWithCopyWarning: \n",
      "A value is trying to be set on a copy of a slice from a DataFrame.\n",
      "Try using .loc[row_indexer,col_indexer] = value instead\n",
      "\n",
      "See the caveats in the documentation: https://pandas.pydata.org/pandas-docs/stable/user_guide/indexing.html#returning-a-view-versus-a-copy\n",
      "  w_a_df['inside'] = w_a_df.apply(lambda row: isinside(barajas_zone,row['lat_deg'],row['lon_deg'])\n"
     ]
    },
    {
     "name": "stdout",
     "output_type": "stream",
     "text": [
      "1\n",
      "2\n"
     ]
    },
    {
     "name": "stderr",
     "output_type": "stream",
     "text": [
      "\n",
      "0it [00:00, ?it/s]\u001b[A\n",
      "1it [00:00,  2.17it/s]\u001b[A\n",
      "2it [00:00,  2.22it/s]\u001b[A\n",
      "3it [00:01,  2.24it/s]\u001b[A\n",
      "4it [00:01,  2.28it/s]\u001b[A\n",
      " 54%|█████▍    | 13/24 [08:24<06:19, 34.49s/it]"
     ]
    },
    {
     "name": "stdout",
     "output_type": "stream",
     "text": [
      "3\n",
      "4\n",
      "0\n",
      "data/engage-hackathon-2025/year=2024/month=12/day=16/hour=20\n",
      "si\n"
     ]
    },
    {
     "name": "stderr",
     "output_type": "stream",
     "text": [
      "C:\\Users\\1570074\\AppData\\Local\\Temp\\ipykernel_11432\\3951986721.py:61: SettingWithCopyWarning: \n",
      "A value is trying to be set on a copy of a slice from a DataFrame.\n",
      "Try using .loc[row_indexer,col_indexer] = value instead\n",
      "\n",
      "See the caveats in the documentation: https://pandas.pydata.org/pandas-docs/stable/user_guide/indexing.html#returning-a-view-versus-a-copy\n",
      "  w_a_df['inside'] = w_a_df.apply(lambda row: isinside(barajas_zone,row['lat_deg'],row['lon_deg'])\n"
     ]
    },
    {
     "name": "stdout",
     "output_type": "stream",
     "text": [
      "1\n",
      "2\n"
     ]
    },
    {
     "name": "stderr",
     "output_type": "stream",
     "text": [
      "\n",
      "0it [00:00, ?it/s]\u001b[A\n",
      "1it [00:04,  4.39s/it]\u001b[A\n",
      "2it [00:08,  4.44s/it]\u001b[A\n",
      "3it [00:13,  4.69s/it]\u001b[A\n",
      "4it [00:18,  4.61s/it]\u001b[A\n",
      "C:\\Users\\1570074\\AppData\\Local\\Temp\\ipykernel_11432\\3951986721.py:119: SettingWithCopyWarning: \n",
      "A value is trying to be set on a copy of a slice from a DataFrame.\n",
      "Try using .loc[row_indexer,col_indexer] = value instead\n",
      "\n",
      "See the caveats in the documentation: https://pandas.pydata.org/pandas-docs/stable/user_guide/indexing.html#returning-a-view-versus-a-copy\n",
      "  model_df['min_dist'] = model_df.apply(lambda x: min_dist[min_dist['icao24']==x.icao24].rwy_dist.iloc[0] == x.rwy_dist ,axis=1)\n"
     ]
    },
    {
     "name": "stdout",
     "output_type": "stream",
     "text": [
      "3\n",
      "4\n"
     ]
    },
    {
     "name": "stderr",
     "output_type": "stream",
     "text": [
      "\r",
      " 58%|█████▊    | 14/24 [09:17<06:41, 40.13s/it]"
     ]
    },
    {
     "name": "stdout",
     "output_type": "stream",
     "text": [
      "0\n",
      "data/engage-hackathon-2025/year=2024/month=12/day=16/hour=21\n",
      "si\n"
     ]
    },
    {
     "name": "stderr",
     "output_type": "stream",
     "text": [
      "C:\\Users\\1570074\\AppData\\Local\\Temp\\ipykernel_11432\\3951986721.py:61: SettingWithCopyWarning: \n",
      "A value is trying to be set on a copy of a slice from a DataFrame.\n",
      "Try using .loc[row_indexer,col_indexer] = value instead\n",
      "\n",
      "See the caveats in the documentation: https://pandas.pydata.org/pandas-docs/stable/user_guide/indexing.html#returning-a-view-versus-a-copy\n",
      "  w_a_df['inside'] = w_a_df.apply(lambda row: isinside(barajas_zone,row['lat_deg'],row['lon_deg'])\n"
     ]
    },
    {
     "name": "stdout",
     "output_type": "stream",
     "text": [
      "1\n",
      "2\n"
     ]
    },
    {
     "name": "stderr",
     "output_type": "stream",
     "text": [
      "\n",
      "0it [00:00, ?it/s]\u001b[A\n",
      "1it [00:04,  4.93s/it]\u001b[A\n",
      "2it [00:09,  4.66s/it]\u001b[A\n",
      "3it [00:13,  4.56s/it]\u001b[A\n",
      "4it [00:18,  4.63s/it]\u001b[A\n",
      "C:\\Users\\1570074\\AppData\\Local\\Temp\\ipykernel_11432\\3951986721.py:119: SettingWithCopyWarning: \n",
      "A value is trying to be set on a copy of a slice from a DataFrame.\n",
      "Try using .loc[row_indexer,col_indexer] = value instead\n",
      "\n",
      "See the caveats in the documentation: https://pandas.pydata.org/pandas-docs/stable/user_guide/indexing.html#returning-a-view-versus-a-copy\n",
      "  model_df['min_dist'] = model_df.apply(lambda x: min_dist[min_dist['icao24']==x.icao24].rwy_dist.iloc[0] == x.rwy_dist ,axis=1)\n"
     ]
    },
    {
     "name": "stdout",
     "output_type": "stream",
     "text": [
      "3\n",
      "4\n"
     ]
    },
    {
     "name": "stderr",
     "output_type": "stream",
     "text": [
      "\r",
      " 62%|██████▎   | 15/24 [10:14<06:46, 45.22s/it]"
     ]
    },
    {
     "name": "stdout",
     "output_type": "stream",
     "text": [
      "0\n",
      "data/engage-hackathon-2025/year=2024/month=12/day=16/hour=22\n",
      "si\n"
     ]
    },
    {
     "name": "stderr",
     "output_type": "stream",
     "text": [
      "C:\\Users\\1570074\\AppData\\Local\\Temp\\ipykernel_11432\\3951986721.py:61: SettingWithCopyWarning: \n",
      "A value is trying to be set on a copy of a slice from a DataFrame.\n",
      "Try using .loc[row_indexer,col_indexer] = value instead\n",
      "\n",
      "See the caveats in the documentation: https://pandas.pydata.org/pandas-docs/stable/user_guide/indexing.html#returning-a-view-versus-a-copy\n",
      "  w_a_df['inside'] = w_a_df.apply(lambda row: isinside(barajas_zone,row['lat_deg'],row['lon_deg'])\n"
     ]
    },
    {
     "name": "stdout",
     "output_type": "stream",
     "text": [
      "1\n",
      "2\n"
     ]
    },
    {
     "name": "stderr",
     "output_type": "stream",
     "text": [
      "\n",
      "0it [00:00, ?it/s]\u001b[A\n",
      "1it [00:02,  2.97s/it]\u001b[A\n",
      "2it [00:05,  2.88s/it]\u001b[A\n",
      "3it [00:08,  2.97s/it]\u001b[A\n",
      "4it [00:11,  2.97s/it]\u001b[A\n",
      "C:\\Users\\1570074\\AppData\\Local\\Temp\\ipykernel_11432\\3951986721.py:119: SettingWithCopyWarning: \n",
      "A value is trying to be set on a copy of a slice from a DataFrame.\n",
      "Try using .loc[row_indexer,col_indexer] = value instead\n",
      "\n",
      "See the caveats in the documentation: https://pandas.pydata.org/pandas-docs/stable/user_guide/indexing.html#returning-a-view-versus-a-copy\n",
      "  model_df['min_dist'] = model_df.apply(lambda x: min_dist[min_dist['icao24']==x.icao24].rwy_dist.iloc[0] == x.rwy_dist ,axis=1)\n"
     ]
    },
    {
     "name": "stdout",
     "output_type": "stream",
     "text": [
      "3\n",
      "4\n"
     ]
    },
    {
     "name": "stderr",
     "output_type": "stream",
     "text": [
      "\r",
      " 67%|██████▋   | 16/24 [10:51<05:41, 42.72s/it]"
     ]
    },
    {
     "name": "stdout",
     "output_type": "stream",
     "text": [
      "0\n",
      "data/engage-hackathon-2025/year=2024/month=12/day=16/hour=23\n",
      "si\n"
     ]
    },
    {
     "name": "stderr",
     "output_type": "stream",
     "text": [
      "C:\\Users\\1570074\\AppData\\Local\\Temp\\ipykernel_11432\\3951986721.py:61: SettingWithCopyWarning: \n",
      "A value is trying to be set on a copy of a slice from a DataFrame.\n",
      "Try using .loc[row_indexer,col_indexer] = value instead\n",
      "\n",
      "See the caveats in the documentation: https://pandas.pydata.org/pandas-docs/stable/user_guide/indexing.html#returning-a-view-versus-a-copy\n",
      "  w_a_df['inside'] = w_a_df.apply(lambda row: isinside(barajas_zone,row['lat_deg'],row['lon_deg'])\n"
     ]
    },
    {
     "name": "stdout",
     "output_type": "stream",
     "text": [
      "1\n",
      "2\n"
     ]
    },
    {
     "name": "stderr",
     "output_type": "stream",
     "text": [
      "\n",
      "0it [00:00, ?it/s]\u001b[A\n",
      "1it [00:02,  2.96s/it]\u001b[A\n",
      "2it [00:05,  2.72s/it]\u001b[A\n",
      "3it [00:08,  2.75s/it]\u001b[A\n",
      "4it [00:10,  2.71s/it]\u001b[A\n"
     ]
    },
    {
     "name": "stdout",
     "output_type": "stream",
     "text": [
      "3\n",
      "4\n"
     ]
    },
    {
     "name": "stderr",
     "output_type": "stream",
     "text": [
      "\r",
      " 71%|███████   | 17/24 [11:25<04:39, 39.96s/it]"
     ]
    },
    {
     "name": "stdout",
     "output_type": "stream",
     "text": [
      "0\n",
      "data/engage-hackathon-2025/year=2024/month=12/day=16/hour=3\n",
      "si\n"
     ]
    },
    {
     "name": "stderr",
     "output_type": "stream",
     "text": [
      "C:\\Users\\1570074\\AppData\\Local\\Temp\\ipykernel_11432\\3951986721.py:61: SettingWithCopyWarning: \n",
      "A value is trying to be set on a copy of a slice from a DataFrame.\n",
      "Try using .loc[row_indexer,col_indexer] = value instead\n",
      "\n",
      "See the caveats in the documentation: https://pandas.pydata.org/pandas-docs/stable/user_guide/indexing.html#returning-a-view-versus-a-copy\n",
      "  w_a_df['inside'] = w_a_df.apply(lambda row: isinside(barajas_zone,row['lat_deg'],row['lon_deg'])\n"
     ]
    },
    {
     "name": "stdout",
     "output_type": "stream",
     "text": [
      "1\n",
      "2\n"
     ]
    },
    {
     "name": "stderr",
     "output_type": "stream",
     "text": [
      "\n",
      "0it [00:00, ?it/s]\u001b[A\n",
      "1it [00:02,  2.35s/it]\u001b[A\n",
      "2it [00:04,  2.32s/it]\u001b[A\n",
      "3it [00:07,  2.34s/it]\u001b[A\n",
      "4it [00:09,  2.40s/it]\u001b[A\n",
      "C:\\Users\\1570074\\AppData\\Local\\Temp\\ipykernel_11432\\3951986721.py:119: SettingWithCopyWarning: \n",
      "A value is trying to be set on a copy of a slice from a DataFrame.\n",
      "Try using .loc[row_indexer,col_indexer] = value instead\n",
      "\n",
      "See the caveats in the documentation: https://pandas.pydata.org/pandas-docs/stable/user_guide/indexing.html#returning-a-view-versus-a-copy\n",
      "  model_df['min_dist'] = model_df.apply(lambda x: min_dist[min_dist['icao24']==x.icao24].rwy_dist.iloc[0] == x.rwy_dist ,axis=1)\n",
      " 75%|███████▌  | 18/24 [11:54<03:40, 36.75s/it]"
     ]
    },
    {
     "name": "stdout",
     "output_type": "stream",
     "text": [
      "3\n",
      "4\n",
      "0\n",
      "data/engage-hackathon-2025/year=2024/month=12/day=16/hour=4\n",
      "si\n"
     ]
    },
    {
     "name": "stderr",
     "output_type": "stream",
     "text": [
      "C:\\Users\\1570074\\AppData\\Local\\Temp\\ipykernel_11432\\3951986721.py:61: SettingWithCopyWarning: \n",
      "A value is trying to be set on a copy of a slice from a DataFrame.\n",
      "Try using .loc[row_indexer,col_indexer] = value instead\n",
      "\n",
      "See the caveats in the documentation: https://pandas.pydata.org/pandas-docs/stable/user_guide/indexing.html#returning-a-view-versus-a-copy\n",
      "  w_a_df['inside'] = w_a_df.apply(lambda row: isinside(barajas_zone,row['lat_deg'],row['lon_deg'])\n"
     ]
    },
    {
     "name": "stdout",
     "output_type": "stream",
     "text": [
      "1\n",
      "2\n"
     ]
    },
    {
     "name": "stderr",
     "output_type": "stream",
     "text": [
      "\n",
      "0it [00:00, ?it/s]\u001b[A\n",
      "1it [00:01,  1.31s/it]\u001b[A\n",
      "2it [00:02,  1.33s/it]\u001b[A\n",
      "3it [00:04,  1.35s/it]\u001b[A\n",
      "4it [00:05,  1.33s/it]\u001b[A\n",
      " 79%|███████▉  | 19/24 [12:11<02:34, 30.92s/it]"
     ]
    },
    {
     "name": "stdout",
     "output_type": "stream",
     "text": [
      "3\n",
      "4\n",
      "0\n",
      "data/engage-hackathon-2025/year=2024/month=12/day=16/hour=5\n",
      "si\n"
     ]
    },
    {
     "name": "stderr",
     "output_type": "stream",
     "text": [
      "C:\\Users\\1570074\\AppData\\Local\\Temp\\ipykernel_11432\\3951986721.py:61: SettingWithCopyWarning: \n",
      "A value is trying to be set on a copy of a slice from a DataFrame.\n",
      "Try using .loc[row_indexer,col_indexer] = value instead\n",
      "\n",
      "See the caveats in the documentation: https://pandas.pydata.org/pandas-docs/stable/user_guide/indexing.html#returning-a-view-versus-a-copy\n",
      "  w_a_df['inside'] = w_a_df.apply(lambda row: isinside(barajas_zone,row['lat_deg'],row['lon_deg'])\n"
     ]
    },
    {
     "name": "stdout",
     "output_type": "stream",
     "text": [
      "1\n",
      "2\n"
     ]
    },
    {
     "name": "stderr",
     "output_type": "stream",
     "text": [
      "\n",
      "0it [00:00, ?it/s]\u001b[A\n",
      "1it [00:01,  1.52s/it]\u001b[A\n",
      "2it [00:03,  1.50s/it]\u001b[A\n",
      "3it [00:04,  1.53s/it]\u001b[A\n",
      "4it [00:06,  1.56s/it]\u001b[A\n",
      "C:\\Users\\1570074\\AppData\\Local\\Temp\\ipykernel_11432\\3951986721.py:119: SettingWithCopyWarning: \n",
      "A value is trying to be set on a copy of a slice from a DataFrame.\n",
      "Try using .loc[row_indexer,col_indexer] = value instead\n",
      "\n",
      "See the caveats in the documentation: https://pandas.pydata.org/pandas-docs/stable/user_guide/indexing.html#returning-a-view-versus-a-copy\n",
      "  model_df['min_dist'] = model_df.apply(lambda x: min_dist[min_dist['icao24']==x.icao24].rwy_dist.iloc[0] == x.rwy_dist ,axis=1)\n"
     ]
    },
    {
     "name": "stdout",
     "output_type": "stream",
     "text": [
      "3\n",
      "4\n"
     ]
    },
    {
     "name": "stderr",
     "output_type": "stream",
     "text": [
      "\r",
      " 83%|████████▎ | 20/24 [12:30<01:49, 27.29s/it]"
     ]
    },
    {
     "name": "stdout",
     "output_type": "stream",
     "text": [
      "0\n",
      "data/engage-hackathon-2025/year=2024/month=12/day=16/hour=6\n",
      "si\n"
     ]
    },
    {
     "name": "stderr",
     "output_type": "stream",
     "text": [
      "C:\\Users\\1570074\\AppData\\Local\\Temp\\ipykernel_11432\\3951986721.py:61: SettingWithCopyWarning: \n",
      "A value is trying to be set on a copy of a slice from a DataFrame.\n",
      "Try using .loc[row_indexer,col_indexer] = value instead\n",
      "\n",
      "See the caveats in the documentation: https://pandas.pydata.org/pandas-docs/stable/user_guide/indexing.html#returning-a-view-versus-a-copy\n",
      "  w_a_df['inside'] = w_a_df.apply(lambda row: isinside(barajas_zone,row['lat_deg'],row['lon_deg'])\n"
     ]
    },
    {
     "name": "stdout",
     "output_type": "stream",
     "text": [
      "1\n",
      "2\n"
     ]
    },
    {
     "name": "stderr",
     "output_type": "stream",
     "text": [
      "\n",
      "0it [00:00, ?it/s]\u001b[A\n",
      "1it [00:03,  3.39s/it]\u001b[A\n",
      "2it [00:06,  3.29s/it]\u001b[A\n",
      "3it [00:10,  3.34s/it]\u001b[A\n",
      "4it [00:13,  3.32s/it]\u001b[A\n",
      "C:\\Users\\1570074\\AppData\\Local\\Temp\\ipykernel_11432\\3951986721.py:119: SettingWithCopyWarning: \n",
      "A value is trying to be set on a copy of a slice from a DataFrame.\n",
      "Try using .loc[row_indexer,col_indexer] = value instead\n",
      "\n",
      "See the caveats in the documentation: https://pandas.pydata.org/pandas-docs/stable/user_guide/indexing.html#returning-a-view-versus-a-copy\n",
      "  model_df['min_dist'] = model_df.apply(lambda x: min_dist[min_dist['icao24']==x.icao24].rwy_dist.iloc[0] == x.rwy_dist ,axis=1)\n"
     ]
    },
    {
     "name": "stdout",
     "output_type": "stream",
     "text": [
      "3\n",
      "4\n"
     ]
    },
    {
     "name": "stderr",
     "output_type": "stream",
     "text": [
      "\r",
      " 88%|████████▊ | 21/24 [13:11<01:34, 31.41s/it]"
     ]
    },
    {
     "name": "stdout",
     "output_type": "stream",
     "text": [
      "0\n",
      "data/engage-hackathon-2025/year=2024/month=12/day=16/hour=7\n",
      "si\n"
     ]
    },
    {
     "name": "stderr",
     "output_type": "stream",
     "text": [
      "C:\\Users\\1570074\\AppData\\Local\\Temp\\ipykernel_11432\\3951986721.py:61: SettingWithCopyWarning: \n",
      "A value is trying to be set on a copy of a slice from a DataFrame.\n",
      "Try using .loc[row_indexer,col_indexer] = value instead\n",
      "\n",
      "See the caveats in the documentation: https://pandas.pydata.org/pandas-docs/stable/user_guide/indexing.html#returning-a-view-versus-a-copy\n",
      "  w_a_df['inside'] = w_a_df.apply(lambda row: isinside(barajas_zone,row['lat_deg'],row['lon_deg'])\n"
     ]
    },
    {
     "name": "stdout",
     "output_type": "stream",
     "text": [
      "1\n",
      "2\n"
     ]
    },
    {
     "name": "stderr",
     "output_type": "stream",
     "text": [
      "\n",
      "0it [00:00, ?it/s]\u001b[A\n",
      "1it [00:03,  3.84s/it]\u001b[A\n",
      "2it [00:07,  3.88s/it]\u001b[A\n",
      "3it [00:11,  3.95s/it]\u001b[A\n",
      "4it [00:15,  3.89s/it]\u001b[A\n",
      "C:\\Users\\1570074\\AppData\\Local\\Temp\\ipykernel_11432\\3951986721.py:119: SettingWithCopyWarning: \n",
      "A value is trying to be set on a copy of a slice from a DataFrame.\n",
      "Try using .loc[row_indexer,col_indexer] = value instead\n",
      "\n",
      "See the caveats in the documentation: https://pandas.pydata.org/pandas-docs/stable/user_guide/indexing.html#returning-a-view-versus-a-copy\n",
      "  model_df['min_dist'] = model_df.apply(lambda x: min_dist[min_dist['icao24']==x.icao24].rwy_dist.iloc[0] == x.rwy_dist ,axis=1)\n"
     ]
    },
    {
     "name": "stdout",
     "output_type": "stream",
     "text": [
      "3\n",
      "4\n"
     ]
    },
    {
     "name": "stderr",
     "output_type": "stream",
     "text": [
      "\r",
      " 92%|█████████▏| 22/24 [13:56<01:10, 35.46s/it]"
     ]
    },
    {
     "name": "stdout",
     "output_type": "stream",
     "text": [
      "0\n",
      "data/engage-hackathon-2025/year=2024/month=12/day=16/hour=8\n",
      "si\n"
     ]
    },
    {
     "name": "stderr",
     "output_type": "stream",
     "text": [
      "C:\\Users\\1570074\\AppData\\Local\\Temp\\ipykernel_11432\\3951986721.py:61: SettingWithCopyWarning: \n",
      "A value is trying to be set on a copy of a slice from a DataFrame.\n",
      "Try using .loc[row_indexer,col_indexer] = value instead\n",
      "\n",
      "See the caveats in the documentation: https://pandas.pydata.org/pandas-docs/stable/user_guide/indexing.html#returning-a-view-versus-a-copy\n",
      "  w_a_df['inside'] = w_a_df.apply(lambda row: isinside(barajas_zone,row['lat_deg'],row['lon_deg'])\n"
     ]
    },
    {
     "name": "stdout",
     "output_type": "stream",
     "text": [
      "1\n",
      "2\n"
     ]
    },
    {
     "name": "stderr",
     "output_type": "stream",
     "text": [
      "\n",
      "0it [00:00, ?it/s]\u001b[A\n",
      "1it [00:05,  5.71s/it]\u001b[A\n",
      "2it [00:11,  5.72s/it]\u001b[A\n",
      "3it [00:17,  5.76s/it]\u001b[A\n",
      "4it [00:22,  5.66s/it]\u001b[A\n",
      "C:\\Users\\1570074\\AppData\\Local\\Temp\\ipykernel_11432\\3951986721.py:119: SettingWithCopyWarning: \n",
      "A value is trying to be set on a copy of a slice from a DataFrame.\n",
      "Try using .loc[row_indexer,col_indexer] = value instead\n",
      "\n",
      "See the caveats in the documentation: https://pandas.pydata.org/pandas-docs/stable/user_guide/indexing.html#returning-a-view-versus-a-copy\n",
      "  model_df['min_dist'] = model_df.apply(lambda x: min_dist[min_dist['icao24']==x.icao24].rwy_dist.iloc[0] == x.rwy_dist ,axis=1)\n"
     ]
    },
    {
     "name": "stdout",
     "output_type": "stream",
     "text": [
      "3\n",
      "4\n"
     ]
    },
    {
     "name": "stderr",
     "output_type": "stream",
     "text": [
      "\r",
      " 96%|█████████▌| 23/24 [14:59<00:43, 43.70s/it]"
     ]
    },
    {
     "name": "stdout",
     "output_type": "stream",
     "text": [
      "0\n",
      "data/engage-hackathon-2025/year=2024/month=12/day=16/hour=9\n",
      "si\n"
     ]
    },
    {
     "name": "stderr",
     "output_type": "stream",
     "text": [
      "C:\\Users\\1570074\\AppData\\Local\\Temp\\ipykernel_11432\\3951986721.py:61: SettingWithCopyWarning: \n",
      "A value is trying to be set on a copy of a slice from a DataFrame.\n",
      "Try using .loc[row_indexer,col_indexer] = value instead\n",
      "\n",
      "See the caveats in the documentation: https://pandas.pydata.org/pandas-docs/stable/user_guide/indexing.html#returning-a-view-versus-a-copy\n",
      "  w_a_df['inside'] = w_a_df.apply(lambda row: isinside(barajas_zone,row['lat_deg'],row['lon_deg'])\n"
     ]
    },
    {
     "name": "stdout",
     "output_type": "stream",
     "text": [
      "1\n",
      "2\n"
     ]
    },
    {
     "name": "stderr",
     "output_type": "stream",
     "text": [
      "\n",
      "0it [00:00, ?it/s]\u001b[A\n",
      "1it [00:07,  7.25s/it]\u001b[A\n",
      "2it [00:14,  7.34s/it]\u001b[A\n",
      "3it [00:21,  7.13s/it]\u001b[A\n",
      "4it [00:28,  7.14s/it]\u001b[A\n",
      "C:\\Users\\1570074\\AppData\\Local\\Temp\\ipykernel_11432\\3951986721.py:119: SettingWithCopyWarning: \n",
      "A value is trying to be set on a copy of a slice from a DataFrame.\n",
      "Try using .loc[row_indexer,col_indexer] = value instead\n",
      "\n",
      "See the caveats in the documentation: https://pandas.pydata.org/pandas-docs/stable/user_guide/indexing.html#returning-a-view-versus-a-copy\n",
      "  model_df['min_dist'] = model_df.apply(lambda x: min_dist[min_dist['icao24']==x.icao24].rwy_dist.iloc[0] == x.rwy_dist ,axis=1)\n"
     ]
    },
    {
     "name": "stdout",
     "output_type": "stream",
     "text": [
      "3\n",
      "4\n"
     ]
    },
    {
     "name": "stderr",
     "output_type": "stream",
     "text": [
      "100%|██████████| 24/24 [16:08<00:00, 40.36s/it]\n",
      "  0%|          | 0/24 [00:00<?, ?it/s]"
     ]
    },
    {
     "name": "stdout",
     "output_type": "stream",
     "text": [
      "0\n",
      "data/engage-hackathon-2025/year=2024/month=12/day=17/hour=0\n",
      "si\n"
     ]
    },
    {
     "name": "stderr",
     "output_type": "stream",
     "text": [
      "C:\\Users\\1570074\\AppData\\Local\\Temp\\ipykernel_11432\\3951986721.py:61: SettingWithCopyWarning: \n",
      "A value is trying to be set on a copy of a slice from a DataFrame.\n",
      "Try using .loc[row_indexer,col_indexer] = value instead\n",
      "\n",
      "See the caveats in the documentation: https://pandas.pydata.org/pandas-docs/stable/user_guide/indexing.html#returning-a-view-versus-a-copy\n",
      "  w_a_df['inside'] = w_a_df.apply(lambda row: isinside(barajas_zone,row['lat_deg'],row['lon_deg'])\n"
     ]
    },
    {
     "name": "stdout",
     "output_type": "stream",
     "text": [
      "1\n",
      "2\n"
     ]
    },
    {
     "name": "stderr",
     "output_type": "stream",
     "text": [
      "\n",
      "0it [00:00, ?it/s]\u001b[A\n",
      "1it [00:01,  1.34s/it]\u001b[A\n",
      "2it [00:02,  1.31s/it]\u001b[A\n",
      "3it [00:03,  1.30s/it]\u001b[A\n",
      "4it [00:05,  1.29s/it]\u001b[A\n",
      "C:\\Users\\1570074\\AppData\\Local\\Temp\\ipykernel_11432\\3951986721.py:119: SettingWithCopyWarning: \n",
      "A value is trying to be set on a copy of a slice from a DataFrame.\n",
      "Try using .loc[row_indexer,col_indexer] = value instead\n",
      "\n",
      "See the caveats in the documentation: https://pandas.pydata.org/pandas-docs/stable/user_guide/indexing.html#returning-a-view-versus-a-copy\n",
      "  model_df['min_dist'] = model_df.apply(lambda x: min_dist[min_dist['icao24']==x.icao24].rwy_dist.iloc[0] == x.rwy_dist ,axis=1)\n",
      "  4%|▍         | 1/24 [00:15<05:54, 15.42s/it]"
     ]
    },
    {
     "name": "stdout",
     "output_type": "stream",
     "text": [
      "3\n",
      "4\n",
      "0\n",
      "data/engage-hackathon-2025/year=2024/month=12/day=17/hour=1\n",
      "si\n"
     ]
    },
    {
     "name": "stderr",
     "output_type": "stream",
     "text": [
      "C:\\Users\\1570074\\AppData\\Local\\Temp\\ipykernel_11432\\3951986721.py:61: SettingWithCopyWarning: \n",
      "A value is trying to be set on a copy of a slice from a DataFrame.\n",
      "Try using .loc[row_indexer,col_indexer] = value instead\n",
      "\n",
      "See the caveats in the documentation: https://pandas.pydata.org/pandas-docs/stable/user_guide/indexing.html#returning-a-view-versus-a-copy\n",
      "  w_a_df['inside'] = w_a_df.apply(lambda row: isinside(barajas_zone,row['lat_deg'],row['lon_deg'])\n"
     ]
    },
    {
     "name": "stdout",
     "output_type": "stream",
     "text": [
      "1\n",
      "2\n"
     ]
    },
    {
     "name": "stderr",
     "output_type": "stream",
     "text": [
      "\n",
      "0it [00:00, ?it/s]\u001b[A\n",
      "1it [00:00,  6.81it/s]\u001b[A\n",
      "2it [00:00,  6.86it/s]\u001b[A\n",
      "3it [00:00,  6.71it/s]\u001b[A\n",
      "4it [00:00,  6.55it/s]\u001b[A\n",
      "  8%|▊         | 2/24 [00:18<02:55,  7.97s/it]"
     ]
    },
    {
     "name": "stdout",
     "output_type": "stream",
     "text": [
      "3\n",
      "4\n",
      "0\n",
      "data/engage-hackathon-2025/year=2024/month=12/day=17/hour=10\n",
      "si\n"
     ]
    },
    {
     "name": "stderr",
     "output_type": "stream",
     "text": [
      "C:\\Users\\1570074\\AppData\\Local\\Temp\\ipykernel_11432\\3951986721.py:61: SettingWithCopyWarning: \n",
      "A value is trying to be set on a copy of a slice from a DataFrame.\n",
      "Try using .loc[row_indexer,col_indexer] = value instead\n",
      "\n",
      "See the caveats in the documentation: https://pandas.pydata.org/pandas-docs/stable/user_guide/indexing.html#returning-a-view-versus-a-copy\n",
      "  w_a_df['inside'] = w_a_df.apply(lambda row: isinside(barajas_zone,row['lat_deg'],row['lon_deg'])\n"
     ]
    },
    {
     "name": "stdout",
     "output_type": "stream",
     "text": [
      "1\n",
      "2\n"
     ]
    },
    {
     "name": "stderr",
     "output_type": "stream",
     "text": [
      "\n",
      "0it [00:00, ?it/s]\u001b[A\n",
      "1it [00:05,  5.02s/it]\u001b[A\n",
      "2it [00:10,  5.05s/it]\u001b[A\n",
      "3it [00:15,  5.15s/it]\u001b[A\n",
      "4it [00:20,  5.08s/it]\u001b[A\n",
      "C:\\Users\\1570074\\AppData\\Local\\Temp\\ipykernel_11432\\3951986721.py:119: SettingWithCopyWarning: \n",
      "A value is trying to be set on a copy of a slice from a DataFrame.\n",
      "Try using .loc[row_indexer,col_indexer] = value instead\n",
      "\n",
      "See the caveats in the documentation: https://pandas.pydata.org/pandas-docs/stable/user_guide/indexing.html#returning-a-view-versus-a-copy\n",
      "  model_df['min_dist'] = model_df.apply(lambda x: min_dist[min_dist['icao24']==x.icao24].rwy_dist.iloc[0] == x.rwy_dist ,axis=1)\n"
     ]
    },
    {
     "name": "stdout",
     "output_type": "stream",
     "text": [
      "3\n",
      "4\n"
     ]
    },
    {
     "name": "stderr",
     "output_type": "stream",
     "text": [
      "\r",
      " 12%|█▎        | 3/24 [01:07<09:21, 26.73s/it]"
     ]
    },
    {
     "name": "stdout",
     "output_type": "stream",
     "text": [
      "0\n",
      "data/engage-hackathon-2025/year=2024/month=12/day=17/hour=11\n",
      "si\n"
     ]
    },
    {
     "name": "stderr",
     "output_type": "stream",
     "text": [
      "C:\\Users\\1570074\\AppData\\Local\\Temp\\ipykernel_11432\\3951986721.py:61: SettingWithCopyWarning: \n",
      "A value is trying to be set on a copy of a slice from a DataFrame.\n",
      "Try using .loc[row_indexer,col_indexer] = value instead\n",
      "\n",
      "See the caveats in the documentation: https://pandas.pydata.org/pandas-docs/stable/user_guide/indexing.html#returning-a-view-versus-a-copy\n",
      "  w_a_df['inside'] = w_a_df.apply(lambda row: isinside(barajas_zone,row['lat_deg'],row['lon_deg'])\n"
     ]
    },
    {
     "name": "stdout",
     "output_type": "stream",
     "text": [
      "1\n",
      "2\n"
     ]
    },
    {
     "name": "stderr",
     "output_type": "stream",
     "text": [
      "\n",
      "0it [00:00, ?it/s]\u001b[A\n",
      "1it [00:03,  3.78s/it]\u001b[A\n",
      "2it [00:07,  3.89s/it]\u001b[A\n",
      "3it [00:11,  3.83s/it]\u001b[A\n",
      "4it [00:15,  3.81s/it]\u001b[A\n",
      "C:\\Users\\1570074\\AppData\\Local\\Temp\\ipykernel_11432\\3951986721.py:119: SettingWithCopyWarning: \n",
      "A value is trying to be set on a copy of a slice from a DataFrame.\n",
      "Try using .loc[row_indexer,col_indexer] = value instead\n",
      "\n",
      "See the caveats in the documentation: https://pandas.pydata.org/pandas-docs/stable/user_guide/indexing.html#returning-a-view-versus-a-copy\n",
      "  model_df['min_dist'] = model_df.apply(lambda x: min_dist[min_dist['icao24']==x.icao24].rwy_dist.iloc[0] == x.rwy_dist ,axis=1)\n"
     ]
    },
    {
     "name": "stdout",
     "output_type": "stream",
     "text": [
      "3\n",
      "4\n"
     ]
    },
    {
     "name": "stderr",
     "output_type": "stream",
     "text": [
      "\r",
      " 17%|█▋        | 4/24 [01:48<10:45, 32.28s/it]"
     ]
    },
    {
     "name": "stdout",
     "output_type": "stream",
     "text": [
      "0\n",
      "data/engage-hackathon-2025/year=2024/month=12/day=17/hour=12\n",
      "si\n"
     ]
    },
    {
     "name": "stderr",
     "output_type": "stream",
     "text": [
      "C:\\Users\\1570074\\AppData\\Local\\Temp\\ipykernel_11432\\3951986721.py:61: SettingWithCopyWarning: \n",
      "A value is trying to be set on a copy of a slice from a DataFrame.\n",
      "Try using .loc[row_indexer,col_indexer] = value instead\n",
      "\n",
      "See the caveats in the documentation: https://pandas.pydata.org/pandas-docs/stable/user_guide/indexing.html#returning-a-view-versus-a-copy\n",
      "  w_a_df['inside'] = w_a_df.apply(lambda row: isinside(barajas_zone,row['lat_deg'],row['lon_deg'])\n"
     ]
    },
    {
     "name": "stdout",
     "output_type": "stream",
     "text": [
      "1\n",
      "2\n"
     ]
    },
    {
     "name": "stderr",
     "output_type": "stream",
     "text": [
      "\n",
      "0it [00:00, ?it/s]\u001b[A\n",
      "1it [00:05,  5.77s/it]\u001b[A\n",
      "2it [00:11,  5.76s/it]\u001b[A\n",
      "3it [00:17,  5.77s/it]\u001b[A\n",
      "4it [00:23,  5.75s/it]\u001b[A\n",
      "C:\\Users\\1570074\\AppData\\Local\\Temp\\ipykernel_11432\\3951986721.py:119: SettingWithCopyWarning: \n",
      "A value is trying to be set on a copy of a slice from a DataFrame.\n",
      "Try using .loc[row_indexer,col_indexer] = value instead\n",
      "\n",
      "See the caveats in the documentation: https://pandas.pydata.org/pandas-docs/stable/user_guide/indexing.html#returning-a-view-versus-a-copy\n",
      "  model_df['min_dist'] = model_df.apply(lambda x: min_dist[min_dist['icao24']==x.icao24].rwy_dist.iloc[0] == x.rwy_dist ,axis=1)\n"
     ]
    },
    {
     "name": "stdout",
     "output_type": "stream",
     "text": [
      "3\n",
      "4\n"
     ]
    },
    {
     "name": "stderr",
     "output_type": "stream",
     "text": [
      "\r",
      " 21%|██        | 5/24 [02:52<13:57, 44.07s/it]"
     ]
    },
    {
     "name": "stdout",
     "output_type": "stream",
     "text": [
      "0\n",
      "data/engage-hackathon-2025/year=2024/month=12/day=17/hour=13\n",
      "si\n"
     ]
    },
    {
     "name": "stderr",
     "output_type": "stream",
     "text": [
      "C:\\Users\\1570074\\AppData\\Local\\Temp\\ipykernel_11432\\3951986721.py:61: SettingWithCopyWarning: \n",
      "A value is trying to be set on a copy of a slice from a DataFrame.\n",
      "Try using .loc[row_indexer,col_indexer] = value instead\n",
      "\n",
      "See the caveats in the documentation: https://pandas.pydata.org/pandas-docs/stable/user_guide/indexing.html#returning-a-view-versus-a-copy\n",
      "  w_a_df['inside'] = w_a_df.apply(lambda row: isinside(barajas_zone,row['lat_deg'],row['lon_deg'])\n"
     ]
    },
    {
     "name": "stdout",
     "output_type": "stream",
     "text": [
      "1\n",
      "2\n"
     ]
    },
    {
     "name": "stderr",
     "output_type": "stream",
     "text": [
      "\n",
      "0it [00:00, ?it/s]\u001b[A\n",
      "1it [00:06,  6.14s/it]\u001b[A\n",
      "2it [00:12,  6.27s/it]\u001b[A\n",
      "3it [00:18,  6.12s/it]\u001b[A\n",
      "4it [00:24,  6.12s/it]\u001b[A\n",
      "C:\\Users\\1570074\\AppData\\Local\\Temp\\ipykernel_11432\\3951986721.py:119: SettingWithCopyWarning: \n",
      "A value is trying to be set on a copy of a slice from a DataFrame.\n",
      "Try using .loc[row_indexer,col_indexer] = value instead\n",
      "\n",
      "See the caveats in the documentation: https://pandas.pydata.org/pandas-docs/stable/user_guide/indexing.html#returning-a-view-versus-a-copy\n",
      "  model_df['min_dist'] = model_df.apply(lambda x: min_dist[min_dist['icao24']==x.icao24].rwy_dist.iloc[0] == x.rwy_dist ,axis=1)\n"
     ]
    },
    {
     "name": "stdout",
     "output_type": "stream",
     "text": [
      "3\n",
      "4\n"
     ]
    },
    {
     "name": "stderr",
     "output_type": "stream",
     "text": [
      "\r",
      " 25%|██▌       | 6/24 [04:01<15:43, 52.43s/it]"
     ]
    },
    {
     "name": "stdout",
     "output_type": "stream",
     "text": [
      "0\n",
      "data/engage-hackathon-2025/year=2024/month=12/day=17/hour=14\n",
      "si\n"
     ]
    },
    {
     "name": "stderr",
     "output_type": "stream",
     "text": [
      "C:\\Users\\1570074\\AppData\\Local\\Temp\\ipykernel_11432\\3951986721.py:61: SettingWithCopyWarning: \n",
      "A value is trying to be set on a copy of a slice from a DataFrame.\n",
      "Try using .loc[row_indexer,col_indexer] = value instead\n",
      "\n",
      "See the caveats in the documentation: https://pandas.pydata.org/pandas-docs/stable/user_guide/indexing.html#returning-a-view-versus-a-copy\n",
      "  w_a_df['inside'] = w_a_df.apply(lambda row: isinside(barajas_zone,row['lat_deg'],row['lon_deg'])\n"
     ]
    },
    {
     "name": "stdout",
     "output_type": "stream",
     "text": [
      "1\n",
      "2\n"
     ]
    },
    {
     "name": "stderr",
     "output_type": "stream",
     "text": [
      "\n",
      "0it [00:00, ?it/s]\u001b[A\n",
      "1it [00:03,  3.85s/it]\u001b[A\n",
      "2it [00:07,  3.98s/it]\u001b[A\n",
      "3it [00:11,  3.96s/it]\u001b[A\n",
      "4it [00:15,  3.94s/it]\u001b[A\n",
      "C:\\Users\\1570074\\AppData\\Local\\Temp\\ipykernel_11432\\3951986721.py:119: SettingWithCopyWarning: \n",
      "A value is trying to be set on a copy of a slice from a DataFrame.\n",
      "Try using .loc[row_indexer,col_indexer] = value instead\n",
      "\n",
      "See the caveats in the documentation: https://pandas.pydata.org/pandas-docs/stable/user_guide/indexing.html#returning-a-view-versus-a-copy\n",
      "  model_df['min_dist'] = model_df.apply(lambda x: min_dist[min_dist['icao24']==x.icao24].rwy_dist.iloc[0] == x.rwy_dist ,axis=1)\n"
     ]
    },
    {
     "name": "stdout",
     "output_type": "stream",
     "text": [
      "3\n",
      "4\n"
     ]
    },
    {
     "name": "stderr",
     "output_type": "stream",
     "text": [
      "\r",
      " 29%|██▉       | 7/24 [04:41<13:41, 48.33s/it]"
     ]
    },
    {
     "name": "stdout",
     "output_type": "stream",
     "text": [
      "0\n",
      "data/engage-hackathon-2025/year=2024/month=12/day=17/hour=15\n",
      "si\n"
     ]
    },
    {
     "name": "stderr",
     "output_type": "stream",
     "text": [
      "C:\\Users\\1570074\\AppData\\Local\\Temp\\ipykernel_11432\\3951986721.py:61: SettingWithCopyWarning: \n",
      "A value is trying to be set on a copy of a slice from a DataFrame.\n",
      "Try using .loc[row_indexer,col_indexer] = value instead\n",
      "\n",
      "See the caveats in the documentation: https://pandas.pydata.org/pandas-docs/stable/user_guide/indexing.html#returning-a-view-versus-a-copy\n",
      "  w_a_df['inside'] = w_a_df.apply(lambda row: isinside(barajas_zone,row['lat_deg'],row['lon_deg'])\n"
     ]
    },
    {
     "name": "stdout",
     "output_type": "stream",
     "text": [
      "1\n",
      "2\n"
     ]
    },
    {
     "name": "stderr",
     "output_type": "stream",
     "text": [
      "\n",
      "0it [00:00, ?it/s]\u001b[A\n",
      "1it [00:02,  2.52s/it]\u001b[A\n",
      "2it [00:05,  2.77s/it]\u001b[A\n",
      "3it [00:08,  2.77s/it]\u001b[A\n",
      "4it [00:10,  2.71s/it]\u001b[A\n",
      "C:\\Users\\1570074\\AppData\\Local\\Temp\\ipykernel_11432\\3951986721.py:119: SettingWithCopyWarning: \n",
      "A value is trying to be set on a copy of a slice from a DataFrame.\n",
      "Try using .loc[row_indexer,col_indexer] = value instead\n",
      "\n",
      "See the caveats in the documentation: https://pandas.pydata.org/pandas-docs/stable/user_guide/indexing.html#returning-a-view-versus-a-copy\n",
      "  model_df['min_dist'] = model_df.apply(lambda x: min_dist[min_dist['icao24']==x.icao24].rwy_dist.iloc[0] == x.rwy_dist ,axis=1)\n"
     ]
    },
    {
     "name": "stdout",
     "output_type": "stream",
     "text": [
      "3\n",
      "4\n"
     ]
    },
    {
     "name": "stderr",
     "output_type": "stream",
     "text": [
      "\r",
      " 33%|███▎      | 8/24 [05:11<11:19, 42.49s/it]"
     ]
    },
    {
     "name": "stdout",
     "output_type": "stream",
     "text": [
      "0\n",
      "data/engage-hackathon-2025/year=2024/month=12/day=17/hour=16\n",
      "si\n"
     ]
    },
    {
     "name": "stderr",
     "output_type": "stream",
     "text": [
      "C:\\Users\\1570074\\AppData\\Local\\Temp\\ipykernel_11432\\3951986721.py:61: SettingWithCopyWarning: \n",
      "A value is trying to be set on a copy of a slice from a DataFrame.\n",
      "Try using .loc[row_indexer,col_indexer] = value instead\n",
      "\n",
      "See the caveats in the documentation: https://pandas.pydata.org/pandas-docs/stable/user_guide/indexing.html#returning-a-view-versus-a-copy\n",
      "  w_a_df['inside'] = w_a_df.apply(lambda row: isinside(barajas_zone,row['lat_deg'],row['lon_deg'])\n"
     ]
    },
    {
     "name": "stdout",
     "output_type": "stream",
     "text": [
      "1\n",
      "2\n"
     ]
    },
    {
     "name": "stderr",
     "output_type": "stream",
     "text": [
      "\n",
      "0it [00:00, ?it/s]\u001b[A\n",
      "1it [00:03,  3.66s/it]\u001b[A\n",
      "2it [00:06,  3.35s/it]\u001b[A\n",
      "3it [00:09,  3.22s/it]\u001b[A\n",
      "4it [00:12,  3.24s/it]\u001b[A\n",
      "C:\\Users\\1570074\\AppData\\Local\\Temp\\ipykernel_11432\\3951986721.py:119: SettingWithCopyWarning: \n",
      "A value is trying to be set on a copy of a slice from a DataFrame.\n",
      "Try using .loc[row_indexer,col_indexer] = value instead\n",
      "\n",
      "See the caveats in the documentation: https://pandas.pydata.org/pandas-docs/stable/user_guide/indexing.html#returning-a-view-versus-a-copy\n",
      "  model_df['min_dist'] = model_df.apply(lambda x: min_dist[min_dist['icao24']==x.icao24].rwy_dist.iloc[0] == x.rwy_dist ,axis=1)\n"
     ]
    },
    {
     "name": "stdout",
     "output_type": "stream",
     "text": [
      "3\n",
      "4\n"
     ]
    },
    {
     "name": "stderr",
     "output_type": "stream",
     "text": [
      "\r",
      " 38%|███▊      | 9/24 [05:47<10:06, 40.42s/it]"
     ]
    },
    {
     "name": "stdout",
     "output_type": "stream",
     "text": [
      "0\n",
      "data/engage-hackathon-2025/year=2024/month=12/day=17/hour=17\n",
      "si\n"
     ]
    },
    {
     "name": "stderr",
     "output_type": "stream",
     "text": [
      "C:\\Users\\1570074\\AppData\\Local\\Temp\\ipykernel_11432\\3951986721.py:61: SettingWithCopyWarning: \n",
      "A value is trying to be set on a copy of a slice from a DataFrame.\n",
      "Try using .loc[row_indexer,col_indexer] = value instead\n",
      "\n",
      "See the caveats in the documentation: https://pandas.pydata.org/pandas-docs/stable/user_guide/indexing.html#returning-a-view-versus-a-copy\n",
      "  w_a_df['inside'] = w_a_df.apply(lambda row: isinside(barajas_zone,row['lat_deg'],row['lon_deg'])\n"
     ]
    },
    {
     "name": "stdout",
     "output_type": "stream",
     "text": [
      "1\n",
      "2\n"
     ]
    },
    {
     "name": "stderr",
     "output_type": "stream",
     "text": [
      "\n",
      "0it [00:00, ?it/s]\u001b[A\n",
      "1it [00:04,  4.66s/it]\u001b[A\n",
      "2it [00:09,  4.71s/it]\u001b[A\n",
      "3it [00:14,  4.94s/it]\u001b[A\n",
      "4it [00:19,  4.85s/it]\u001b[A\n",
      "C:\\Users\\1570074\\AppData\\Local\\Temp\\ipykernel_11432\\3951986721.py:119: SettingWithCopyWarning: \n",
      "A value is trying to be set on a copy of a slice from a DataFrame.\n",
      "Try using .loc[row_indexer,col_indexer] = value instead\n",
      "\n",
      "See the caveats in the documentation: https://pandas.pydata.org/pandas-docs/stable/user_guide/indexing.html#returning-a-view-versus-a-copy\n",
      "  model_df['min_dist'] = model_df.apply(lambda x: min_dist[min_dist['icao24']==x.icao24].rwy_dist.iloc[0] == x.rwy_dist ,axis=1)\n"
     ]
    },
    {
     "name": "stdout",
     "output_type": "stream",
     "text": [
      "3\n",
      "4\n"
     ]
    },
    {
     "name": "stderr",
     "output_type": "stream",
     "text": [
      "\r",
      " 42%|████▏     | 10/24 [06:45<10:40, 45.74s/it]"
     ]
    },
    {
     "name": "stdout",
     "output_type": "stream",
     "text": [
      "0\n",
      "data/engage-hackathon-2025/year=2024/month=12/day=17/hour=18\n",
      "si\n"
     ]
    },
    {
     "name": "stderr",
     "output_type": "stream",
     "text": [
      "C:\\Users\\1570074\\AppData\\Local\\Temp\\ipykernel_11432\\3951986721.py:61: SettingWithCopyWarning: \n",
      "A value is trying to be set on a copy of a slice from a DataFrame.\n",
      "Try using .loc[row_indexer,col_indexer] = value instead\n",
      "\n",
      "See the caveats in the documentation: https://pandas.pydata.org/pandas-docs/stable/user_guide/indexing.html#returning-a-view-versus-a-copy\n",
      "  w_a_df['inside'] = w_a_df.apply(lambda row: isinside(barajas_zone,row['lat_deg'],row['lon_deg'])\n"
     ]
    },
    {
     "name": "stdout",
     "output_type": "stream",
     "text": [
      "1\n",
      "2\n"
     ]
    },
    {
     "name": "stderr",
     "output_type": "stream",
     "text": [
      "\n",
      "0it [00:00, ?it/s]\u001b[A\n",
      "1it [00:04,  4.41s/it]\u001b[A\n",
      "2it [00:08,  4.32s/it]\u001b[A\n",
      "3it [00:13,  4.34s/it]\u001b[A\n",
      "4it [00:17,  4.33s/it]\u001b[A\n",
      "C:\\Users\\1570074\\AppData\\Local\\Temp\\ipykernel_11432\\3951986721.py:119: SettingWithCopyWarning: \n",
      "A value is trying to be set on a copy of a slice from a DataFrame.\n",
      "Try using .loc[row_indexer,col_indexer] = value instead\n",
      "\n",
      "See the caveats in the documentation: https://pandas.pydata.org/pandas-docs/stable/user_guide/indexing.html#returning-a-view-versus-a-copy\n",
      "  model_df['min_dist'] = model_df.apply(lambda x: min_dist[min_dist['icao24']==x.icao24].rwy_dist.iloc[0] == x.rwy_dist ,axis=1)\n"
     ]
    },
    {
     "name": "stdout",
     "output_type": "stream",
     "text": [
      "3\n",
      "4\n"
     ]
    },
    {
     "name": "stderr",
     "output_type": "stream",
     "text": [
      "\r",
      " 46%|████▌     | 11/24 [07:33<10:06, 46.68s/it]"
     ]
    },
    {
     "name": "stdout",
     "output_type": "stream",
     "text": [
      "0\n",
      "data/engage-hackathon-2025/year=2024/month=12/day=17/hour=19\n",
      "si\n"
     ]
    },
    {
     "name": "stderr",
     "output_type": "stream",
     "text": [
      "C:\\Users\\1570074\\AppData\\Local\\Temp\\ipykernel_11432\\3951986721.py:61: SettingWithCopyWarning: \n",
      "A value is trying to be set on a copy of a slice from a DataFrame.\n",
      "Try using .loc[row_indexer,col_indexer] = value instead\n",
      "\n",
      "See the caveats in the documentation: https://pandas.pydata.org/pandas-docs/stable/user_guide/indexing.html#returning-a-view-versus-a-copy\n",
      "  w_a_df['inside'] = w_a_df.apply(lambda row: isinside(barajas_zone,row['lat_deg'],row['lon_deg'])\n"
     ]
    },
    {
     "name": "stdout",
     "output_type": "stream",
     "text": [
      "1\n",
      "2\n"
     ]
    },
    {
     "name": "stderr",
     "output_type": "stream",
     "text": [
      "\n",
      "0it [00:00, ?it/s]\u001b[A\n",
      "1it [00:02,  2.35s/it]\u001b[A\n",
      "2it [00:04,  2.45s/it]\u001b[A\n",
      "3it [00:07,  2.46s/it]\u001b[A\n",
      "4it [00:09,  2.42s/it]\u001b[A\n",
      "C:\\Users\\1570074\\AppData\\Local\\Temp\\ipykernel_11432\\3951986721.py:119: SettingWithCopyWarning: \n",
      "A value is trying to be set on a copy of a slice from a DataFrame.\n",
      "Try using .loc[row_indexer,col_indexer] = value instead\n",
      "\n",
      "See the caveats in the documentation: https://pandas.pydata.org/pandas-docs/stable/user_guide/indexing.html#returning-a-view-versus-a-copy\n",
      "  model_df['min_dist'] = model_df.apply(lambda x: min_dist[min_dist['icao24']==x.icao24].rwy_dist.iloc[0] == x.rwy_dist ,axis=1)\n"
     ]
    },
    {
     "name": "stdout",
     "output_type": "stream",
     "text": [
      "3\n",
      "4\n"
     ]
    },
    {
     "name": "stderr",
     "output_type": "stream",
     "text": [
      "\r",
      " 50%|█████     | 12/24 [08:06<08:27, 42.29s/it]"
     ]
    },
    {
     "name": "stdout",
     "output_type": "stream",
     "text": [
      "0\n",
      "data/engage-hackathon-2025/year=2024/month=12/day=17/hour=2\n",
      "si\n"
     ]
    },
    {
     "name": "stderr",
     "output_type": "stream",
     "text": [
      "C:\\Users\\1570074\\AppData\\Local\\Temp\\ipykernel_11432\\3951986721.py:61: SettingWithCopyWarning: \n",
      "A value is trying to be set on a copy of a slice from a DataFrame.\n",
      "Try using .loc[row_indexer,col_indexer] = value instead\n",
      "\n",
      "See the caveats in the documentation: https://pandas.pydata.org/pandas-docs/stable/user_guide/indexing.html#returning-a-view-versus-a-copy\n",
      "  w_a_df['inside'] = w_a_df.apply(lambda row: isinside(barajas_zone,row['lat_deg'],row['lon_deg'])\n"
     ]
    },
    {
     "name": "stdout",
     "output_type": "stream",
     "text": [
      "1\n",
      "2\n"
     ]
    },
    {
     "name": "stderr",
     "output_type": "stream",
     "text": [
      "\n",
      "0it [00:00, ?it/s]\u001b[A\n",
      "1it [00:00,  2.03it/s]\u001b[A\n",
      "2it [00:00,  2.18it/s]\u001b[A\n",
      "3it [00:01,  2.11it/s]\u001b[A\n",
      "4it [00:01,  2.09it/s]\u001b[A\n",
      " 54%|█████▍    | 13/24 [08:12<05:45, 31.37s/it]"
     ]
    },
    {
     "name": "stdout",
     "output_type": "stream",
     "text": [
      "3\n",
      "4\n",
      "0\n",
      "data/engage-hackathon-2025/year=2024/month=12/day=17/hour=20\n",
      "si\n"
     ]
    },
    {
     "name": "stderr",
     "output_type": "stream",
     "text": [
      "C:\\Users\\1570074\\AppData\\Local\\Temp\\ipykernel_11432\\3951986721.py:61: SettingWithCopyWarning: \n",
      "A value is trying to be set on a copy of a slice from a DataFrame.\n",
      "Try using .loc[row_indexer,col_indexer] = value instead\n",
      "\n",
      "See the caveats in the documentation: https://pandas.pydata.org/pandas-docs/stable/user_guide/indexing.html#returning-a-view-versus-a-copy\n",
      "  w_a_df['inside'] = w_a_df.apply(lambda row: isinside(barajas_zone,row['lat_deg'],row['lon_deg'])\n"
     ]
    },
    {
     "name": "stdout",
     "output_type": "stream",
     "text": [
      "1\n",
      "2\n"
     ]
    },
    {
     "name": "stderr",
     "output_type": "stream",
     "text": [
      "\n",
      "0it [00:00, ?it/s]\u001b[A\n",
      "1it [00:03,  3.70s/it]\u001b[A\n",
      "2it [00:07,  3.71s/it]\u001b[A\n",
      "3it [00:11,  3.72s/it]\u001b[A\n",
      "4it [00:15,  3.82s/it]\u001b[A\n",
      "C:\\Users\\1570074\\AppData\\Local\\Temp\\ipykernel_11432\\3951986721.py:119: SettingWithCopyWarning: \n",
      "A value is trying to be set on a copy of a slice from a DataFrame.\n",
      "Try using .loc[row_indexer,col_indexer] = value instead\n",
      "\n",
      "See the caveats in the documentation: https://pandas.pydata.org/pandas-docs/stable/user_guide/indexing.html#returning-a-view-versus-a-copy\n",
      "  model_df['min_dist'] = model_df.apply(lambda x: min_dist[min_dist['icao24']==x.icao24].rwy_dist.iloc[0] == x.rwy_dist ,axis=1)\n"
     ]
    },
    {
     "name": "stdout",
     "output_type": "stream",
     "text": [
      "3\n",
      "4\n"
     ]
    },
    {
     "name": "stderr",
     "output_type": "stream",
     "text": [
      "\r",
      " 58%|█████▊    | 14/24 [08:59<06:00, 36.01s/it]"
     ]
    },
    {
     "name": "stdout",
     "output_type": "stream",
     "text": [
      "0\n",
      "data/engage-hackathon-2025/year=2024/month=12/day=17/hour=21\n",
      "si\n"
     ]
    },
    {
     "name": "stderr",
     "output_type": "stream",
     "text": [
      "C:\\Users\\1570074\\AppData\\Local\\Temp\\ipykernel_11432\\3951986721.py:61: SettingWithCopyWarning: \n",
      "A value is trying to be set on a copy of a slice from a DataFrame.\n",
      "Try using .loc[row_indexer,col_indexer] = value instead\n",
      "\n",
      "See the caveats in the documentation: https://pandas.pydata.org/pandas-docs/stable/user_guide/indexing.html#returning-a-view-versus-a-copy\n",
      "  w_a_df['inside'] = w_a_df.apply(lambda row: isinside(barajas_zone,row['lat_deg'],row['lon_deg'])\n"
     ]
    },
    {
     "name": "stdout",
     "output_type": "stream",
     "text": [
      "1\n",
      "2\n"
     ]
    },
    {
     "name": "stderr",
     "output_type": "stream",
     "text": [
      "\n",
      "0it [00:00, ?it/s]\u001b[A\n",
      "1it [00:04,  4.50s/it]\u001b[A\n",
      "2it [00:08,  4.49s/it]\u001b[A\n",
      "3it [00:13,  4.57s/it]\u001b[A\n",
      "4it [00:18,  4.55s/it]\u001b[A\n",
      "C:\\Users\\1570074\\AppData\\Local\\Temp\\ipykernel_11432\\3951986721.py:119: SettingWithCopyWarning: \n",
      "A value is trying to be set on a copy of a slice from a DataFrame.\n",
      "Try using .loc[row_indexer,col_indexer] = value instead\n",
      "\n",
      "See the caveats in the documentation: https://pandas.pydata.org/pandas-docs/stable/user_guide/indexing.html#returning-a-view-versus-a-copy\n",
      "  model_df['min_dist'] = model_df.apply(lambda x: min_dist[min_dist['icao24']==x.icao24].rwy_dist.iloc[0] == x.rwy_dist ,axis=1)\n"
     ]
    },
    {
     "name": "stdout",
     "output_type": "stream",
     "text": [
      "3\n",
      "4\n"
     ]
    },
    {
     "name": "stderr",
     "output_type": "stream",
     "text": [
      "\r",
      " 62%|██████▎   | 15/24 [09:48<06:00, 40.00s/it]"
     ]
    },
    {
     "name": "stdout",
     "output_type": "stream",
     "text": [
      "0\n",
      "data/engage-hackathon-2025/year=2024/month=12/day=17/hour=22\n",
      "si\n"
     ]
    },
    {
     "name": "stderr",
     "output_type": "stream",
     "text": [
      "C:\\Users\\1570074\\AppData\\Local\\Temp\\ipykernel_11432\\3951986721.py:61: SettingWithCopyWarning: \n",
      "A value is trying to be set on a copy of a slice from a DataFrame.\n",
      "Try using .loc[row_indexer,col_indexer] = value instead\n",
      "\n",
      "See the caveats in the documentation: https://pandas.pydata.org/pandas-docs/stable/user_guide/indexing.html#returning-a-view-versus-a-copy\n",
      "  w_a_df['inside'] = w_a_df.apply(lambda row: isinside(barajas_zone,row['lat_deg'],row['lon_deg'])\n"
     ]
    },
    {
     "name": "stdout",
     "output_type": "stream",
     "text": [
      "1\n",
      "2\n"
     ]
    },
    {
     "name": "stderr",
     "output_type": "stream",
     "text": [
      "\n",
      "0it [00:00, ?it/s]\u001b[A\n",
      "1it [00:02,  2.82s/it]\u001b[A\n",
      "2it [00:05,  2.76s/it]\u001b[A\n",
      "3it [00:08,  2.74s/it]\u001b[A\n",
      "4it [00:10,  2.75s/it]\u001b[A\n"
     ]
    },
    {
     "name": "stdout",
     "output_type": "stream",
     "text": [
      "3\n",
      "4\n"
     ]
    },
    {
     "name": "stderr",
     "output_type": "stream",
     "text": [
      "\r",
      " 67%|██████▋   | 16/24 [10:24<05:09, 38.72s/it]"
     ]
    },
    {
     "name": "stdout",
     "output_type": "stream",
     "text": [
      "0\n",
      "data/engage-hackathon-2025/year=2024/month=12/day=17/hour=23\n",
      "si\n"
     ]
    },
    {
     "name": "stderr",
     "output_type": "stream",
     "text": [
      "C:\\Users\\1570074\\AppData\\Local\\Temp\\ipykernel_11432\\3951986721.py:61: SettingWithCopyWarning: \n",
      "A value is trying to be set on a copy of a slice from a DataFrame.\n",
      "Try using .loc[row_indexer,col_indexer] = value instead\n",
      "\n",
      "See the caveats in the documentation: https://pandas.pydata.org/pandas-docs/stable/user_guide/indexing.html#returning-a-view-versus-a-copy\n",
      "  w_a_df['inside'] = w_a_df.apply(lambda row: isinside(barajas_zone,row['lat_deg'],row['lon_deg'])\n"
     ]
    },
    {
     "name": "stdout",
     "output_type": "stream",
     "text": [
      "1\n",
      "2\n"
     ]
    },
    {
     "name": "stderr",
     "output_type": "stream",
     "text": [
      "\n",
      "0it [00:00, ?it/s]\u001b[A\n",
      "1it [00:00,  1.38it/s]\u001b[A\n",
      "2it [00:01,  1.42it/s]\u001b[A\n",
      "3it [00:02,  1.40it/s]\u001b[A\n",
      "4it [00:02,  1.42it/s]\u001b[A\n",
      "C:\\Users\\1570074\\AppData\\Local\\Temp\\ipykernel_11432\\3951986721.py:119: SettingWithCopyWarning: \n",
      "A value is trying to be set on a copy of a slice from a DataFrame.\n",
      "Try using .loc[row_indexer,col_indexer] = value instead\n",
      "\n",
      "See the caveats in the documentation: https://pandas.pydata.org/pandas-docs/stable/user_guide/indexing.html#returning-a-view-versus-a-copy\n",
      "  model_df['min_dist'] = model_df.apply(lambda x: min_dist[min_dist['icao24']==x.icao24].rwy_dist.iloc[0] == x.rwy_dist ,axis=1)\n",
      " 71%|███████   | 17/24 [10:33<03:28, 29.82s/it]"
     ]
    },
    {
     "name": "stdout",
     "output_type": "stream",
     "text": [
      "3\n",
      "4\n",
      "0\n",
      "data/engage-hackathon-2025/year=2024/month=12/day=17/hour=3\n",
      "si\n"
     ]
    },
    {
     "name": "stderr",
     "output_type": "stream",
     "text": [
      "C:\\Users\\1570074\\AppData\\Local\\Temp\\ipykernel_11432\\3951986721.py:61: SettingWithCopyWarning: \n",
      "A value is trying to be set on a copy of a slice from a DataFrame.\n",
      "Try using .loc[row_indexer,col_indexer] = value instead\n",
      "\n",
      "See the caveats in the documentation: https://pandas.pydata.org/pandas-docs/stable/user_guide/indexing.html#returning-a-view-versus-a-copy\n",
      "  w_a_df['inside'] = w_a_df.apply(lambda row: isinside(barajas_zone,row['lat_deg'],row['lon_deg'])\n"
     ]
    },
    {
     "name": "stdout",
     "output_type": "stream",
     "text": [
      "1\n",
      "2\n"
     ]
    },
    {
     "name": "stderr",
     "output_type": "stream",
     "text": [
      "\n",
      "0it [00:00, ?it/s]\u001b[A\n",
      "1it [00:02,  2.31s/it]\u001b[A\n",
      "2it [00:04,  2.37s/it]\u001b[A\n",
      "3it [00:07,  2.45s/it]\u001b[A\n",
      "4it [00:09,  2.42s/it]\u001b[A\n",
      "C:\\Users\\1570074\\AppData\\Local\\Temp\\ipykernel_11432\\3951986721.py:119: SettingWithCopyWarning: \n",
      "A value is trying to be set on a copy of a slice from a DataFrame.\n",
      "Try using .loc[row_indexer,col_indexer] = value instead\n",
      "\n",
      "See the caveats in the documentation: https://pandas.pydata.org/pandas-docs/stable/user_guide/indexing.html#returning-a-view-versus-a-copy\n",
      "  model_df['min_dist'] = model_df.apply(lambda x: min_dist[min_dist['icao24']==x.icao24].rwy_dist.iloc[0] == x.rwy_dist ,axis=1)\n",
      " 75%|███████▌  | 18/24 [11:01<02:56, 29.43s/it]"
     ]
    },
    {
     "name": "stdout",
     "output_type": "stream",
     "text": [
      "3\n",
      "4\n",
      "0\n",
      "data/engage-hackathon-2025/year=2024/month=12/day=17/hour=4\n",
      "si\n"
     ]
    },
    {
     "name": "stderr",
     "output_type": "stream",
     "text": [
      "C:\\Users\\1570074\\AppData\\Local\\Temp\\ipykernel_11432\\3951986721.py:61: SettingWithCopyWarning: \n",
      "A value is trying to be set on a copy of a slice from a DataFrame.\n",
      "Try using .loc[row_indexer,col_indexer] = value instead\n",
      "\n",
      "See the caveats in the documentation: https://pandas.pydata.org/pandas-docs/stable/user_guide/indexing.html#returning-a-view-versus-a-copy\n",
      "  w_a_df['inside'] = w_a_df.apply(lambda row: isinside(barajas_zone,row['lat_deg'],row['lon_deg'])\n"
     ]
    },
    {
     "name": "stdout",
     "output_type": "stream",
     "text": [
      "1\n",
      "2\n"
     ]
    },
    {
     "name": "stderr",
     "output_type": "stream",
     "text": [
      "\n",
      "0it [00:00, ?it/s]\u001b[A\n",
      "1it [00:03,  3.54s/it]\u001b[A\n",
      "2it [00:07,  3.83s/it]\u001b[A\n",
      "3it [00:11,  3.76s/it]\u001b[A\n",
      "4it [00:14,  3.68s/it]\u001b[A\n",
      "C:\\Users\\1570074\\AppData\\Local\\Temp\\ipykernel_11432\\3951986721.py:119: SettingWithCopyWarning: \n",
      "A value is trying to be set on a copy of a slice from a DataFrame.\n",
      "Try using .loc[row_indexer,col_indexer] = value instead\n",
      "\n",
      "See the caveats in the documentation: https://pandas.pydata.org/pandas-docs/stable/user_guide/indexing.html#returning-a-view-versus-a-copy\n",
      "  model_df['min_dist'] = model_df.apply(lambda x: min_dist[min_dist['icao24']==x.icao24].rwy_dist.iloc[0] == x.rwy_dist ,axis=1)\n"
     ]
    },
    {
     "name": "stdout",
     "output_type": "stream",
     "text": [
      "3\n",
      "4\n"
     ]
    },
    {
     "name": "stderr",
     "output_type": "stream",
     "text": [
      "\r",
      " 79%|███████▉  | 19/24 [11:43<02:45, 33.18s/it]"
     ]
    },
    {
     "name": "stdout",
     "output_type": "stream",
     "text": [
      "0\n",
      "data/engage-hackathon-2025/year=2024/month=12/day=17/hour=5\n",
      "si\n"
     ]
    },
    {
     "name": "stderr",
     "output_type": "stream",
     "text": [
      "C:\\Users\\1570074\\AppData\\Local\\Temp\\ipykernel_11432\\3951986721.py:61: SettingWithCopyWarning: \n",
      "A value is trying to be set on a copy of a slice from a DataFrame.\n",
      "Try using .loc[row_indexer,col_indexer] = value instead\n",
      "\n",
      "See the caveats in the documentation: https://pandas.pydata.org/pandas-docs/stable/user_guide/indexing.html#returning-a-view-versus-a-copy\n",
      "  w_a_df['inside'] = w_a_df.apply(lambda row: isinside(barajas_zone,row['lat_deg'],row['lon_deg'])\n"
     ]
    },
    {
     "name": "stdout",
     "output_type": "stream",
     "text": [
      "1\n",
      "2\n"
     ]
    },
    {
     "name": "stderr",
     "output_type": "stream",
     "text": [
      "\n",
      "0it [00:00, ?it/s]\u001b[A\n",
      "1it [00:02,  2.05s/it]\u001b[A\n",
      "2it [00:04,  2.00s/it]\u001b[A\n",
      "3it [00:06,  2.00s/it]\u001b[A\n",
      "4it [00:08,  2.01s/it]\u001b[A\n",
      "C:\\Users\\1570074\\AppData\\Local\\Temp\\ipykernel_11432\\3951986721.py:119: SettingWithCopyWarning: \n",
      "A value is trying to be set on a copy of a slice from a DataFrame.\n",
      "Try using .loc[row_indexer,col_indexer] = value instead\n",
      "\n",
      "See the caveats in the documentation: https://pandas.pydata.org/pandas-docs/stable/user_guide/indexing.html#returning-a-view-versus-a-copy\n",
      "  model_df['min_dist'] = model_df.apply(lambda x: min_dist[min_dist['icao24']==x.icao24].rwy_dist.iloc[0] == x.rwy_dist ,axis=1)\n"
     ]
    },
    {
     "name": "stdout",
     "output_type": "stream",
     "text": [
      "3\n",
      "4\n"
     ]
    },
    {
     "name": "stderr",
     "output_type": "stream",
     "text": [
      "\r",
      " 83%|████████▎ | 20/24 [12:08<02:03, 30.81s/it]"
     ]
    },
    {
     "name": "stdout",
     "output_type": "stream",
     "text": [
      "0\n",
      "data/engage-hackathon-2025/year=2024/month=12/day=17/hour=6\n",
      "si\n"
     ]
    },
    {
     "name": "stderr",
     "output_type": "stream",
     "text": [
      "C:\\Users\\1570074\\AppData\\Local\\Temp\\ipykernel_11432\\3951986721.py:61: SettingWithCopyWarning: \n",
      "A value is trying to be set on a copy of a slice from a DataFrame.\n",
      "Try using .loc[row_indexer,col_indexer] = value instead\n",
      "\n",
      "See the caveats in the documentation: https://pandas.pydata.org/pandas-docs/stable/user_guide/indexing.html#returning-a-view-versus-a-copy\n",
      "  w_a_df['inside'] = w_a_df.apply(lambda row: isinside(barajas_zone,row['lat_deg'],row['lon_deg'])\n"
     ]
    },
    {
     "name": "stdout",
     "output_type": "stream",
     "text": [
      "1\n",
      "2\n"
     ]
    },
    {
     "name": "stderr",
     "output_type": "stream",
     "text": [
      "\n",
      "0it [00:00, ?it/s]\u001b[A\n",
      "1it [00:02,  2.69s/it]\u001b[A\n",
      "2it [00:05,  2.59s/it]\u001b[A\n",
      "3it [00:07,  2.58s/it]\u001b[A\n",
      "4it [00:10,  2.57s/it]\u001b[A\n",
      "C:\\Users\\1570074\\AppData\\Local\\Temp\\ipykernel_11432\\3951986721.py:119: SettingWithCopyWarning: \n",
      "A value is trying to be set on a copy of a slice from a DataFrame.\n",
      "Try using .loc[row_indexer,col_indexer] = value instead\n",
      "\n",
      "See the caveats in the documentation: https://pandas.pydata.org/pandas-docs/stable/user_guide/indexing.html#returning-a-view-versus-a-copy\n",
      "  model_df['min_dist'] = model_df.apply(lambda x: min_dist[min_dist['icao24']==x.icao24].rwy_dist.iloc[0] == x.rwy_dist ,axis=1)\n"
     ]
    },
    {
     "name": "stdout",
     "output_type": "stream",
     "text": [
      "3\n",
      "4\n"
     ]
    },
    {
     "name": "stderr",
     "output_type": "stream",
     "text": [
      "\r",
      " 88%|████████▊ | 21/24 [12:39<01:32, 30.82s/it]"
     ]
    },
    {
     "name": "stdout",
     "output_type": "stream",
     "text": [
      "0\n",
      "data/engage-hackathon-2025/year=2024/month=12/day=17/hour=7\n",
      "si\n"
     ]
    },
    {
     "name": "stderr",
     "output_type": "stream",
     "text": [
      "C:\\Users\\1570074\\AppData\\Local\\Temp\\ipykernel_11432\\3951986721.py:61: SettingWithCopyWarning: \n",
      "A value is trying to be set on a copy of a slice from a DataFrame.\n",
      "Try using .loc[row_indexer,col_indexer] = value instead\n",
      "\n",
      "See the caveats in the documentation: https://pandas.pydata.org/pandas-docs/stable/user_guide/indexing.html#returning-a-view-versus-a-copy\n",
      "  w_a_df['inside'] = w_a_df.apply(lambda row: isinside(barajas_zone,row['lat_deg'],row['lon_deg'])\n"
     ]
    },
    {
     "name": "stdout",
     "output_type": "stream",
     "text": [
      "1\n",
      "2\n"
     ]
    },
    {
     "name": "stderr",
     "output_type": "stream",
     "text": [
      "\n",
      "0it [00:00, ?it/s]\u001b[A\n",
      "1it [00:02,  2.18s/it]\u001b[A\n",
      "2it [00:04,  2.19s/it]\u001b[A\n",
      "3it [00:06,  2.29s/it]\u001b[A\n",
      "4it [00:08,  2.24s/it]\u001b[A\n",
      "C:\\Users\\1570074\\AppData\\Local\\Temp\\ipykernel_11432\\3951986721.py:119: SettingWithCopyWarning: \n",
      "A value is trying to be set on a copy of a slice from a DataFrame.\n",
      "Try using .loc[row_indexer,col_indexer] = value instead\n",
      "\n",
      "See the caveats in the documentation: https://pandas.pydata.org/pandas-docs/stable/user_guide/indexing.html#returning-a-view-versus-a-copy\n",
      "  model_df['min_dist'] = model_df.apply(lambda x: min_dist[min_dist['icao24']==x.icao24].rwy_dist.iloc[0] == x.rwy_dist ,axis=1)\n"
     ]
    },
    {
     "name": "stdout",
     "output_type": "stream",
     "text": [
      "3\n",
      "4\n"
     ]
    },
    {
     "name": "stderr",
     "output_type": "stream",
     "text": [
      "\r",
      " 92%|█████████▏| 22/24 [13:10<01:01, 30.69s/it]"
     ]
    },
    {
     "name": "stdout",
     "output_type": "stream",
     "text": [
      "0\n",
      "data/engage-hackathon-2025/year=2024/month=12/day=17/hour=8\n",
      "si\n"
     ]
    },
    {
     "name": "stderr",
     "output_type": "stream",
     "text": [
      "C:\\Users\\1570074\\AppData\\Local\\Temp\\ipykernel_11432\\3951986721.py:61: SettingWithCopyWarning: \n",
      "A value is trying to be set on a copy of a slice from a DataFrame.\n",
      "Try using .loc[row_indexer,col_indexer] = value instead\n",
      "\n",
      "See the caveats in the documentation: https://pandas.pydata.org/pandas-docs/stable/user_guide/indexing.html#returning-a-view-versus-a-copy\n",
      "  w_a_df['inside'] = w_a_df.apply(lambda row: isinside(barajas_zone,row['lat_deg'],row['lon_deg'])\n"
     ]
    },
    {
     "name": "stdout",
     "output_type": "stream",
     "text": [
      "1\n",
      "2\n"
     ]
    },
    {
     "name": "stderr",
     "output_type": "stream",
     "text": [
      "\n",
      "0it [00:00, ?it/s]\u001b[A\n",
      "1it [00:05,  5.93s/it]\u001b[A\n",
      "2it [00:11,  5.79s/it]\u001b[A\n",
      "3it [00:17,  5.96s/it]\u001b[A\n",
      "4it [00:23,  5.92s/it]\u001b[A\n",
      "C:\\Users\\1570074\\AppData\\Local\\Temp\\ipykernel_11432\\3951986721.py:119: SettingWithCopyWarning: \n",
      "A value is trying to be set on a copy of a slice from a DataFrame.\n",
      "Try using .loc[row_indexer,col_indexer] = value instead\n",
      "\n",
      "See the caveats in the documentation: https://pandas.pydata.org/pandas-docs/stable/user_guide/indexing.html#returning-a-view-versus-a-copy\n",
      "  model_df['min_dist'] = model_df.apply(lambda x: min_dist[min_dist['icao24']==x.icao24].rwy_dist.iloc[0] == x.rwy_dist ,axis=1)\n"
     ]
    },
    {
     "name": "stdout",
     "output_type": "stream",
     "text": [
      "3\n",
      "4\n"
     ]
    },
    {
     "name": "stderr",
     "output_type": "stream",
     "text": [
      "\r",
      " 96%|█████████▌| 23/24 [14:15<00:41, 41.12s/it]"
     ]
    },
    {
     "name": "stdout",
     "output_type": "stream",
     "text": [
      "0\n",
      "data/engage-hackathon-2025/year=2024/month=12/day=17/hour=9\n",
      "si\n"
     ]
    },
    {
     "name": "stderr",
     "output_type": "stream",
     "text": [
      "C:\\Users\\1570074\\AppData\\Local\\Temp\\ipykernel_11432\\3951986721.py:61: SettingWithCopyWarning: \n",
      "A value is trying to be set on a copy of a slice from a DataFrame.\n",
      "Try using .loc[row_indexer,col_indexer] = value instead\n",
      "\n",
      "See the caveats in the documentation: https://pandas.pydata.org/pandas-docs/stable/user_guide/indexing.html#returning-a-view-versus-a-copy\n",
      "  w_a_df['inside'] = w_a_df.apply(lambda row: isinside(barajas_zone,row['lat_deg'],row['lon_deg'])\n"
     ]
    },
    {
     "name": "stdout",
     "output_type": "stream",
     "text": [
      "1\n",
      "2\n"
     ]
    },
    {
     "name": "stderr",
     "output_type": "stream",
     "text": [
      "\n",
      "0it [00:00, ?it/s]\u001b[A\n",
      "1it [00:06,  6.70s/it]\u001b[A\n",
      "2it [00:13,  6.79s/it]\u001b[A\n",
      "3it [00:20,  6.89s/it]\u001b[A\n",
      "4it [00:27,  6.95s/it]\u001b[A\n",
      "C:\\Users\\1570074\\AppData\\Local\\Temp\\ipykernel_11432\\3951986721.py:119: SettingWithCopyWarning: \n",
      "A value is trying to be set on a copy of a slice from a DataFrame.\n",
      "Try using .loc[row_indexer,col_indexer] = value instead\n",
      "\n",
      "See the caveats in the documentation: https://pandas.pydata.org/pandas-docs/stable/user_guide/indexing.html#returning-a-view-versus-a-copy\n",
      "  model_df['min_dist'] = model_df.apply(lambda x: min_dist[min_dist['icao24']==x.icao24].rwy_dist.iloc[0] == x.rwy_dist ,axis=1)\n"
     ]
    },
    {
     "name": "stdout",
     "output_type": "stream",
     "text": [
      "3\n",
      "4\n"
     ]
    },
    {
     "name": "stderr",
     "output_type": "stream",
     "text": [
      "100%|██████████| 24/24 [15:25<00:00, 38.54s/it]\n",
      "  0%|          | 0/24 [00:00<?, ?it/s]"
     ]
    },
    {
     "name": "stdout",
     "output_type": "stream",
     "text": [
      "0\n",
      "data/engage-hackathon-2025/year=2024/month=12/day=18/hour=0\n",
      "si\n"
     ]
    },
    {
     "name": "stderr",
     "output_type": "stream",
     "text": [
      "C:\\Users\\1570074\\AppData\\Local\\Temp\\ipykernel_11432\\3951986721.py:61: SettingWithCopyWarning: \n",
      "A value is trying to be set on a copy of a slice from a DataFrame.\n",
      "Try using .loc[row_indexer,col_indexer] = value instead\n",
      "\n",
      "See the caveats in the documentation: https://pandas.pydata.org/pandas-docs/stable/user_guide/indexing.html#returning-a-view-versus-a-copy\n",
      "  w_a_df['inside'] = w_a_df.apply(lambda row: isinside(barajas_zone,row['lat_deg'],row['lon_deg'])\n"
     ]
    },
    {
     "name": "stdout",
     "output_type": "stream",
     "text": [
      "1\n",
      "2\n"
     ]
    },
    {
     "name": "stderr",
     "output_type": "stream",
     "text": [
      "\n",
      "0it [00:00, ?it/s]\u001b[A\n",
      "1it [00:00,  1.42it/s]\u001b[A\n",
      "2it [00:01,  1.29it/s]\u001b[A\n",
      "3it [00:02,  1.25it/s]\u001b[A\n",
      "4it [00:03,  1.28it/s]\u001b[A\n",
      "  4%|▍         | 1/24 [00:09<03:40,  9.60s/it]"
     ]
    },
    {
     "name": "stdout",
     "output_type": "stream",
     "text": [
      "3\n",
      "4\n",
      "0\n",
      "data/engage-hackathon-2025/year=2024/month=12/day=18/hour=1\n",
      "si\n"
     ]
    },
    {
     "name": "stderr",
     "output_type": "stream",
     "text": [
      "C:\\Users\\1570074\\AppData\\Local\\Temp\\ipykernel_11432\\3951986721.py:61: SettingWithCopyWarning: \n",
      "A value is trying to be set on a copy of a slice from a DataFrame.\n",
      "Try using .loc[row_indexer,col_indexer] = value instead\n",
      "\n",
      "See the caveats in the documentation: https://pandas.pydata.org/pandas-docs/stable/user_guide/indexing.html#returning-a-view-versus-a-copy\n",
      "  w_a_df['inside'] = w_a_df.apply(lambda row: isinside(barajas_zone,row['lat_deg'],row['lon_deg'])\n"
     ]
    },
    {
     "name": "stdout",
     "output_type": "stream",
     "text": [
      "1\n",
      "2\n"
     ]
    },
    {
     "name": "stderr",
     "output_type": "stream",
     "text": [
      "\n",
      "0it [00:00, ?it/s]\u001b[A\n",
      "1it [00:00,  6.36it/s]\u001b[A\n",
      "2it [00:00,  6.76it/s]\u001b[A\n",
      "3it [00:00,  6.57it/s]\u001b[A\n",
      "4it [00:00,  6.52it/s]\u001b[A\n",
      "  8%|▊         | 2/24 [00:11<01:54,  5.22s/it]"
     ]
    },
    {
     "name": "stdout",
     "output_type": "stream",
     "text": [
      "3\n",
      "4\n",
      "0\n",
      "data/engage-hackathon-2025/year=2024/month=12/day=18/hour=10\n",
      "si\n"
     ]
    },
    {
     "name": "stderr",
     "output_type": "stream",
     "text": [
      "C:\\Users\\1570074\\AppData\\Local\\Temp\\ipykernel_11432\\3951986721.py:61: SettingWithCopyWarning: \n",
      "A value is trying to be set on a copy of a slice from a DataFrame.\n",
      "Try using .loc[row_indexer,col_indexer] = value instead\n",
      "\n",
      "See the caveats in the documentation: https://pandas.pydata.org/pandas-docs/stable/user_guide/indexing.html#returning-a-view-versus-a-copy\n",
      "  w_a_df['inside'] = w_a_df.apply(lambda row: isinside(barajas_zone,row['lat_deg'],row['lon_deg'])\n"
     ]
    },
    {
     "name": "stdout",
     "output_type": "stream",
     "text": [
      "1\n",
      "2\n"
     ]
    },
    {
     "name": "stderr",
     "output_type": "stream",
     "text": [
      "\n",
      "0it [00:00, ?it/s]\u001b[A\n",
      "1it [00:04,  4.04s/it]\u001b[A\n",
      "2it [00:07,  3.90s/it]\u001b[A\n",
      "3it [00:11,  3.79s/it]\u001b[A\n",
      "4it [00:15,  3.83s/it]\u001b[A\n",
      "C:\\Users\\1570074\\AppData\\Local\\Temp\\ipykernel_11432\\3951986721.py:119: SettingWithCopyWarning: \n",
      "A value is trying to be set on a copy of a slice from a DataFrame.\n",
      "Try using .loc[row_indexer,col_indexer] = value instead\n",
      "\n",
      "See the caveats in the documentation: https://pandas.pydata.org/pandas-docs/stable/user_guide/indexing.html#returning-a-view-versus-a-copy\n",
      "  model_df['min_dist'] = model_df.apply(lambda x: min_dist[min_dist['icao24']==x.icao24].rwy_dist.iloc[0] == x.rwy_dist ,axis=1)\n"
     ]
    },
    {
     "name": "stdout",
     "output_type": "stream",
     "text": [
      "3\n",
      "4\n"
     ]
    },
    {
     "name": "stderr",
     "output_type": "stream",
     "text": [
      "\r",
      " 12%|█▎        | 3/24 [00:53<07:35, 21.68s/it]"
     ]
    },
    {
     "name": "stdout",
     "output_type": "stream",
     "text": [
      "0\n",
      "data/engage-hackathon-2025/year=2024/month=12/day=18/hour=11\n",
      "si\n"
     ]
    },
    {
     "name": "stderr",
     "output_type": "stream",
     "text": [
      "C:\\Users\\1570074\\AppData\\Local\\Temp\\ipykernel_11432\\3951986721.py:61: SettingWithCopyWarning: \n",
      "A value is trying to be set on a copy of a slice from a DataFrame.\n",
      "Try using .loc[row_indexer,col_indexer] = value instead\n",
      "\n",
      "See the caveats in the documentation: https://pandas.pydata.org/pandas-docs/stable/user_guide/indexing.html#returning-a-view-versus-a-copy\n",
      "  w_a_df['inside'] = w_a_df.apply(lambda row: isinside(barajas_zone,row['lat_deg'],row['lon_deg'])\n"
     ]
    },
    {
     "name": "stdout",
     "output_type": "stream",
     "text": [
      "1\n",
      "2\n"
     ]
    },
    {
     "name": "stderr",
     "output_type": "stream",
     "text": [
      "\n",
      "0it [00:00, ?it/s]\u001b[A\n",
      "1it [00:03,  3.97s/it]\u001b[A\n",
      "2it [00:08,  4.12s/it]\u001b[A\n",
      "3it [00:12,  4.08s/it]\u001b[A\n",
      "4it [00:16,  4.15s/it]\u001b[A\n",
      "C:\\Users\\1570074\\AppData\\Local\\Temp\\ipykernel_11432\\3951986721.py:119: SettingWithCopyWarning: \n",
      "A value is trying to be set on a copy of a slice from a DataFrame.\n",
      "Try using .loc[row_indexer,col_indexer] = value instead\n",
      "\n",
      "See the caveats in the documentation: https://pandas.pydata.org/pandas-docs/stable/user_guide/indexing.html#returning-a-view-versus-a-copy\n",
      "  model_df['min_dist'] = model_df.apply(lambda x: min_dist[min_dist['icao24']==x.icao24].rwy_dist.iloc[0] == x.rwy_dist ,axis=1)\n"
     ]
    },
    {
     "name": "stdout",
     "output_type": "stream",
     "text": [
      "3\n",
      "4\n"
     ]
    },
    {
     "name": "stderr",
     "output_type": "stream",
     "text": [
      "\r",
      " 17%|█▋        | 4/24 [01:35<10:00, 30.00s/it]"
     ]
    },
    {
     "name": "stdout",
     "output_type": "stream",
     "text": [
      "0\n",
      "data/engage-hackathon-2025/year=2024/month=12/day=18/hour=12\n",
      "si\n"
     ]
    },
    {
     "name": "stderr",
     "output_type": "stream",
     "text": [
      "C:\\Users\\1570074\\AppData\\Local\\Temp\\ipykernel_11432\\3951986721.py:61: SettingWithCopyWarning: \n",
      "A value is trying to be set on a copy of a slice from a DataFrame.\n",
      "Try using .loc[row_indexer,col_indexer] = value instead\n",
      "\n",
      "See the caveats in the documentation: https://pandas.pydata.org/pandas-docs/stable/user_guide/indexing.html#returning-a-view-versus-a-copy\n",
      "  w_a_df['inside'] = w_a_df.apply(lambda row: isinside(barajas_zone,row['lat_deg'],row['lon_deg'])\n"
     ]
    },
    {
     "name": "stdout",
     "output_type": "stream",
     "text": [
      "1\n",
      "2\n"
     ]
    },
    {
     "name": "stderr",
     "output_type": "stream",
     "text": [
      "\n",
      "0it [00:00, ?it/s]\u001b[A\n",
      "1it [00:05,  5.95s/it]\u001b[A\n",
      "2it [00:12,  6.21s/it]\u001b[A\n",
      "3it [00:18,  6.16s/it]\u001b[A\n",
      "4it [00:24,  6.12s/it]\u001b[A\n",
      "C:\\Users\\1570074\\AppData\\Local\\Temp\\ipykernel_11432\\3951986721.py:119: SettingWithCopyWarning: \n",
      "A value is trying to be set on a copy of a slice from a DataFrame.\n",
      "Try using .loc[row_indexer,col_indexer] = value instead\n",
      "\n",
      "See the caveats in the documentation: https://pandas.pydata.org/pandas-docs/stable/user_guide/indexing.html#returning-a-view-versus-a-copy\n",
      "  model_df['min_dist'] = model_df.apply(lambda x: min_dist[min_dist['icao24']==x.icao24].rwy_dist.iloc[0] == x.rwy_dist ,axis=1)\n"
     ]
    },
    {
     "name": "stdout",
     "output_type": "stream",
     "text": [
      "3\n",
      "4\n"
     ]
    },
    {
     "name": "stderr",
     "output_type": "stream",
     "text": [
      "\r",
      " 21%|██        | 5/24 [02:48<14:21, 45.36s/it]"
     ]
    },
    {
     "name": "stdout",
     "output_type": "stream",
     "text": [
      "0\n",
      "data/engage-hackathon-2025/year=2024/month=12/day=18/hour=13\n",
      "si\n"
     ]
    },
    {
     "name": "stderr",
     "output_type": "stream",
     "text": [
      "C:\\Users\\1570074\\AppData\\Local\\Temp\\ipykernel_11432\\3951986721.py:61: SettingWithCopyWarning: \n",
      "A value is trying to be set on a copy of a slice from a DataFrame.\n",
      "Try using .loc[row_indexer,col_indexer] = value instead\n",
      "\n",
      "See the caveats in the documentation: https://pandas.pydata.org/pandas-docs/stable/user_guide/indexing.html#returning-a-view-versus-a-copy\n",
      "  w_a_df['inside'] = w_a_df.apply(lambda row: isinside(barajas_zone,row['lat_deg'],row['lon_deg'])\n"
     ]
    },
    {
     "name": "stdout",
     "output_type": "stream",
     "text": [
      "1\n",
      "2\n"
     ]
    },
    {
     "name": "stderr",
     "output_type": "stream",
     "text": [
      "\n",
      "0it [00:00, ?it/s]\u001b[A\n",
      "1it [00:06,  6.90s/it]\u001b[A\n",
      "2it [00:13,  6.95s/it]\u001b[A\n",
      "3it [00:20,  6.92s/it]\u001b[A\n",
      "4it [00:28,  7.02s/it]\u001b[A\n",
      "C:\\Users\\1570074\\AppData\\Local\\Temp\\ipykernel_11432\\3951986721.py:119: SettingWithCopyWarning: \n",
      "A value is trying to be set on a copy of a slice from a DataFrame.\n",
      "Try using .loc[row_indexer,col_indexer] = value instead\n",
      "\n",
      "See the caveats in the documentation: https://pandas.pydata.org/pandas-docs/stable/user_guide/indexing.html#returning-a-view-versus-a-copy\n",
      "  model_df['min_dist'] = model_df.apply(lambda x: min_dist[min_dist['icao24']==x.icao24].rwy_dist.iloc[0] == x.rwy_dist ,axis=1)\n"
     ]
    },
    {
     "name": "stdout",
     "output_type": "stream",
     "text": [
      "3\n",
      "4\n"
     ]
    },
    {
     "name": "stderr",
     "output_type": "stream",
     "text": [
      "\r",
      " 25%|██▌       | 6/24 [04:06<16:56, 56.50s/it]"
     ]
    },
    {
     "name": "stdout",
     "output_type": "stream",
     "text": [
      "0\n",
      "data/engage-hackathon-2025/year=2024/month=12/day=18/hour=14\n",
      "si\n"
     ]
    },
    {
     "name": "stderr",
     "output_type": "stream",
     "text": [
      "C:\\Users\\1570074\\AppData\\Local\\Temp\\ipykernel_11432\\3951986721.py:61: SettingWithCopyWarning: \n",
      "A value is trying to be set on a copy of a slice from a DataFrame.\n",
      "Try using .loc[row_indexer,col_indexer] = value instead\n",
      "\n",
      "See the caveats in the documentation: https://pandas.pydata.org/pandas-docs/stable/user_guide/indexing.html#returning-a-view-versus-a-copy\n",
      "  w_a_df['inside'] = w_a_df.apply(lambda row: isinside(barajas_zone,row['lat_deg'],row['lon_deg'])\n"
     ]
    },
    {
     "name": "stdout",
     "output_type": "stream",
     "text": [
      "1\n",
      "2\n"
     ]
    },
    {
     "name": "stderr",
     "output_type": "stream",
     "text": [
      "\n",
      "0it [00:00, ?it/s]\u001b[A\n",
      "1it [00:03,  3.92s/it]\u001b[A\n",
      "2it [00:08,  4.17s/it]\u001b[A\n",
      "3it [00:11,  3.92s/it]\u001b[A\n",
      "4it [00:15,  3.90s/it]\u001b[A\n",
      "C:\\Users\\1570074\\AppData\\Local\\Temp\\ipykernel_11432\\3951986721.py:119: SettingWithCopyWarning: \n",
      "A value is trying to be set on a copy of a slice from a DataFrame.\n",
      "Try using .loc[row_indexer,col_indexer] = value instead\n",
      "\n",
      "See the caveats in the documentation: https://pandas.pydata.org/pandas-docs/stable/user_guide/indexing.html#returning-a-view-versus-a-copy\n",
      "  model_df['min_dist'] = model_df.apply(lambda x: min_dist[min_dist['icao24']==x.icao24].rwy_dist.iloc[0] == x.rwy_dist ,axis=1)\n"
     ]
    },
    {
     "name": "stdout",
     "output_type": "stream",
     "text": [
      "3\n",
      "4\n"
     ]
    },
    {
     "name": "stderr",
     "output_type": "stream",
     "text": [
      "\r",
      " 29%|██▉       | 7/24 [04:48<14:41, 51.86s/it]"
     ]
    },
    {
     "name": "stdout",
     "output_type": "stream",
     "text": [
      "0\n",
      "data/engage-hackathon-2025/year=2024/month=12/day=18/hour=15\n",
      "si\n"
     ]
    },
    {
     "name": "stderr",
     "output_type": "stream",
     "text": [
      "C:\\Users\\1570074\\AppData\\Local\\Temp\\ipykernel_11432\\3951986721.py:61: SettingWithCopyWarning: \n",
      "A value is trying to be set on a copy of a slice from a DataFrame.\n",
      "Try using .loc[row_indexer,col_indexer] = value instead\n",
      "\n",
      "See the caveats in the documentation: https://pandas.pydata.org/pandas-docs/stable/user_guide/indexing.html#returning-a-view-versus-a-copy\n",
      "  w_a_df['inside'] = w_a_df.apply(lambda row: isinside(barajas_zone,row['lat_deg'],row['lon_deg'])\n"
     ]
    },
    {
     "name": "stdout",
     "output_type": "stream",
     "text": [
      "1\n",
      "2\n"
     ]
    },
    {
     "name": "stderr",
     "output_type": "stream",
     "text": [
      "\n",
      "0it [00:00, ?it/s]\u001b[A\n",
      "1it [00:03,  3.82s/it]\u001b[A\n",
      "2it [00:07,  3.80s/it]\u001b[A\n",
      "3it [00:11,  3.90s/it]\u001b[A\n",
      "4it [00:15,  3.88s/it]\u001b[A\n",
      "C:\\Users\\1570074\\AppData\\Local\\Temp\\ipykernel_11432\\3951986721.py:119: SettingWithCopyWarning: \n",
      "A value is trying to be set on a copy of a slice from a DataFrame.\n",
      "Try using .loc[row_indexer,col_indexer] = value instead\n",
      "\n",
      "See the caveats in the documentation: https://pandas.pydata.org/pandas-docs/stable/user_guide/indexing.html#returning-a-view-versus-a-copy\n",
      "  model_df['min_dist'] = model_df.apply(lambda x: min_dist[min_dist['icao24']==x.icao24].rwy_dist.iloc[0] == x.rwy_dist ,axis=1)\n"
     ]
    },
    {
     "name": "stdout",
     "output_type": "stream",
     "text": [
      "3\n",
      "4\n"
     ]
    },
    {
     "name": "stderr",
     "output_type": "stream",
     "text": [
      "\r",
      " 33%|███▎      | 8/24 [05:30<12:56, 48.50s/it]"
     ]
    },
    {
     "name": "stdout",
     "output_type": "stream",
     "text": [
      "0\n",
      "data/engage-hackathon-2025/year=2024/month=12/day=18/hour=16\n",
      "si\n"
     ]
    },
    {
     "name": "stderr",
     "output_type": "stream",
     "text": [
      "C:\\Users\\1570074\\AppData\\Local\\Temp\\ipykernel_11432\\3951986721.py:61: SettingWithCopyWarning: \n",
      "A value is trying to be set on a copy of a slice from a DataFrame.\n",
      "Try using .loc[row_indexer,col_indexer] = value instead\n",
      "\n",
      "See the caveats in the documentation: https://pandas.pydata.org/pandas-docs/stable/user_guide/indexing.html#returning-a-view-versus-a-copy\n",
      "  w_a_df['inside'] = w_a_df.apply(lambda row: isinside(barajas_zone,row['lat_deg'],row['lon_deg'])\n"
     ]
    },
    {
     "name": "stdout",
     "output_type": "stream",
     "text": [
      "1\n",
      "2\n"
     ]
    },
    {
     "name": "stderr",
     "output_type": "stream",
     "text": [
      "\n",
      "0it [00:00, ?it/s]\u001b[A\n",
      "1it [00:02,  2.92s/it]\u001b[A\n",
      "2it [00:06,  3.02s/it]\u001b[A\n",
      "3it [00:08,  2.92s/it]\u001b[A\n",
      "4it [00:11,  2.92s/it]\u001b[A\n",
      "C:\\Users\\1570074\\AppData\\Local\\Temp\\ipykernel_11432\\3951986721.py:119: SettingWithCopyWarning: \n",
      "A value is trying to be set on a copy of a slice from a DataFrame.\n",
      "Try using .loc[row_indexer,col_indexer] = value instead\n",
      "\n",
      "See the caveats in the documentation: https://pandas.pydata.org/pandas-docs/stable/user_guide/indexing.html#returning-a-view-versus-a-copy\n",
      "  model_df['min_dist'] = model_df.apply(lambda x: min_dist[min_dist['icao24']==x.icao24].rwy_dist.iloc[0] == x.rwy_dist ,axis=1)\n"
     ]
    },
    {
     "name": "stdout",
     "output_type": "stream",
     "text": [
      "3\n",
      "4\n"
     ]
    },
    {
     "name": "stderr",
     "output_type": "stream",
     "text": [
      "\r",
      " 38%|███▊      | 9/24 [06:02<10:54, 43.60s/it]"
     ]
    },
    {
     "name": "stdout",
     "output_type": "stream",
     "text": [
      "0\n",
      "data/engage-hackathon-2025/year=2024/month=12/day=18/hour=17\n",
      "si\n"
     ]
    },
    {
     "name": "stderr",
     "output_type": "stream",
     "text": [
      "C:\\Users\\1570074\\AppData\\Local\\Temp\\ipykernel_11432\\3951986721.py:61: SettingWithCopyWarning: \n",
      "A value is trying to be set on a copy of a slice from a DataFrame.\n",
      "Try using .loc[row_indexer,col_indexer] = value instead\n",
      "\n",
      "See the caveats in the documentation: https://pandas.pydata.org/pandas-docs/stable/user_guide/indexing.html#returning-a-view-versus-a-copy\n",
      "  w_a_df['inside'] = w_a_df.apply(lambda row: isinside(barajas_zone,row['lat_deg'],row['lon_deg'])\n"
     ]
    },
    {
     "name": "stdout",
     "output_type": "stream",
     "text": [
      "1\n",
      "2\n"
     ]
    },
    {
     "name": "stderr",
     "output_type": "stream",
     "text": [
      "\n",
      "0it [00:00, ?it/s]\u001b[A\n",
      "1it [00:05,  5.66s/it]\u001b[A\n",
      "2it [00:11,  5.72s/it]\u001b[A\n",
      "3it [00:17,  5.87s/it]\u001b[A\n",
      "4it [00:23,  5.88s/it]\u001b[A\n",
      "C:\\Users\\1570074\\AppData\\Local\\Temp\\ipykernel_11432\\3951986721.py:119: SettingWithCopyWarning: \n",
      "A value is trying to be set on a copy of a slice from a DataFrame.\n",
      "Try using .loc[row_indexer,col_indexer] = value instead\n",
      "\n",
      "See the caveats in the documentation: https://pandas.pydata.org/pandas-docs/stable/user_guide/indexing.html#returning-a-view-versus-a-copy\n",
      "  model_df['min_dist'] = model_df.apply(lambda x: min_dist[min_dist['icao24']==x.icao24].rwy_dist.iloc[0] == x.rwy_dist ,axis=1)\n"
     ]
    },
    {
     "name": "stdout",
     "output_type": "stream",
     "text": [
      "3\n",
      "4\n"
     ]
    },
    {
     "name": "stderr",
     "output_type": "stream",
     "text": [
      "\r",
      " 42%|████▏     | 10/24 [07:14<12:10, 52.15s/it]"
     ]
    },
    {
     "name": "stdout",
     "output_type": "stream",
     "text": [
      "0\n",
      "data/engage-hackathon-2025/year=2024/month=12/day=18/hour=18\n",
      "si\n"
     ]
    },
    {
     "name": "stderr",
     "output_type": "stream",
     "text": [
      "C:\\Users\\1570074\\AppData\\Local\\Temp\\ipykernel_11432\\3951986721.py:61: SettingWithCopyWarning: \n",
      "A value is trying to be set on a copy of a slice from a DataFrame.\n",
      "Try using .loc[row_indexer,col_indexer] = value instead\n",
      "\n",
      "See the caveats in the documentation: https://pandas.pydata.org/pandas-docs/stable/user_guide/indexing.html#returning-a-view-versus-a-copy\n",
      "  w_a_df['inside'] = w_a_df.apply(lambda row: isinside(barajas_zone,row['lat_deg'],row['lon_deg'])\n"
     ]
    },
    {
     "name": "stdout",
     "output_type": "stream",
     "text": [
      "1\n",
      "2\n"
     ]
    },
    {
     "name": "stderr",
     "output_type": "stream",
     "text": [
      "\n",
      "0it [00:00, ?it/s]\u001b[A\n",
      "1it [00:04,  4.55s/it]\u001b[A\n",
      "2it [00:09,  4.58s/it]\u001b[A\n",
      "3it [00:13,  4.66s/it]\u001b[A\n",
      "4it [00:18,  4.59s/it]\u001b[A\n",
      "C:\\Users\\1570074\\AppData\\Local\\Temp\\ipykernel_11432\\3951986721.py:119: SettingWithCopyWarning: \n",
      "A value is trying to be set on a copy of a slice from a DataFrame.\n",
      "Try using .loc[row_indexer,col_indexer] = value instead\n",
      "\n",
      "See the caveats in the documentation: https://pandas.pydata.org/pandas-docs/stable/user_guide/indexing.html#returning-a-view-versus-a-copy\n",
      "  model_df['min_dist'] = model_df.apply(lambda x: min_dist[min_dist['icao24']==x.icao24].rwy_dist.iloc[0] == x.rwy_dist ,axis=1)\n"
     ]
    },
    {
     "name": "stdout",
     "output_type": "stream",
     "text": [
      "3\n",
      "4\n"
     ]
    },
    {
     "name": "stderr",
     "output_type": "stream",
     "text": [
      "\r",
      " 46%|████▌     | 11/24 [08:06<11:18, 52.18s/it]"
     ]
    },
    {
     "name": "stdout",
     "output_type": "stream",
     "text": [
      "0\n",
      "data/engage-hackathon-2025/year=2024/month=12/day=18/hour=19\n",
      "si\n"
     ]
    },
    {
     "name": "stderr",
     "output_type": "stream",
     "text": [
      "C:\\Users\\1570074\\AppData\\Local\\Temp\\ipykernel_11432\\3951986721.py:61: SettingWithCopyWarning: \n",
      "A value is trying to be set on a copy of a slice from a DataFrame.\n",
      "Try using .loc[row_indexer,col_indexer] = value instead\n",
      "\n",
      "See the caveats in the documentation: https://pandas.pydata.org/pandas-docs/stable/user_guide/indexing.html#returning-a-view-versus-a-copy\n",
      "  w_a_df['inside'] = w_a_df.apply(lambda row: isinside(barajas_zone,row['lat_deg'],row['lon_deg'])\n"
     ]
    },
    {
     "name": "stdout",
     "output_type": "stream",
     "text": [
      "1\n",
      "2\n"
     ]
    },
    {
     "name": "stderr",
     "output_type": "stream",
     "text": [
      "\n",
      "0it [00:00, ?it/s]\u001b[A\n",
      "1it [00:03,  3.44s/it]\u001b[A\n",
      "2it [00:07,  3.80s/it]\u001b[A\n",
      "3it [00:11,  3.72s/it]\u001b[A\n",
      "4it [00:14,  3.68s/it]\u001b[A\n",
      "C:\\Users\\1570074\\AppData\\Local\\Temp\\ipykernel_11432\\3951986721.py:119: SettingWithCopyWarning: \n",
      "A value is trying to be set on a copy of a slice from a DataFrame.\n",
      "Try using .loc[row_indexer,col_indexer] = value instead\n",
      "\n",
      "See the caveats in the documentation: https://pandas.pydata.org/pandas-docs/stable/user_guide/indexing.html#returning-a-view-versus-a-copy\n",
      "  model_df['min_dist'] = model_df.apply(lambda x: min_dist[min_dist['icao24']==x.icao24].rwy_dist.iloc[0] == x.rwy_dist ,axis=1)\n"
     ]
    },
    {
     "name": "stdout",
     "output_type": "stream",
     "text": [
      "3\n",
      "4\n"
     ]
    },
    {
     "name": "stderr",
     "output_type": "stream",
     "text": [
      "\r",
      " 50%|█████     | 12/24 [08:49<09:51, 49.32s/it]"
     ]
    },
    {
     "name": "stdout",
     "output_type": "stream",
     "text": [
      "0\n",
      "data/engage-hackathon-2025/year=2024/month=12/day=18/hour=2\n",
      "si\n"
     ]
    },
    {
     "name": "stderr",
     "output_type": "stream",
     "text": [
      "C:\\Users\\1570074\\AppData\\Local\\Temp\\ipykernel_11432\\3951986721.py:61: SettingWithCopyWarning: \n",
      "A value is trying to be set on a copy of a slice from a DataFrame.\n",
      "Try using .loc[row_indexer,col_indexer] = value instead\n",
      "\n",
      "See the caveats in the documentation: https://pandas.pydata.org/pandas-docs/stable/user_guide/indexing.html#returning-a-view-versus-a-copy\n",
      "  w_a_df['inside'] = w_a_df.apply(lambda row: isinside(barajas_zone,row['lat_deg'],row['lon_deg'])\n"
     ]
    },
    {
     "name": "stdout",
     "output_type": "stream",
     "text": [
      "1\n",
      "2\n"
     ]
    },
    {
     "name": "stderr",
     "output_type": "stream",
     "text": [
      "\n",
      "0it [00:00, ?it/s]\u001b[A\n",
      "4it [00:00, 25.57it/s]\u001b[A\n",
      " 54%|█████▍    | 13/24 [08:50<06:21, 34.65s/it]"
     ]
    },
    {
     "name": "stdout",
     "output_type": "stream",
     "text": [
      "3\n",
      "4\n",
      "0\n",
      "data/engage-hackathon-2025/year=2024/month=12/day=18/hour=20\n",
      "si\n"
     ]
    },
    {
     "name": "stderr",
     "output_type": "stream",
     "text": [
      "C:\\Users\\1570074\\AppData\\Local\\Temp\\ipykernel_11432\\3951986721.py:61: SettingWithCopyWarning: \n",
      "A value is trying to be set on a copy of a slice from a DataFrame.\n",
      "Try using .loc[row_indexer,col_indexer] = value instead\n",
      "\n",
      "See the caveats in the documentation: https://pandas.pydata.org/pandas-docs/stable/user_guide/indexing.html#returning-a-view-versus-a-copy\n",
      "  w_a_df['inside'] = w_a_df.apply(lambda row: isinside(barajas_zone,row['lat_deg'],row['lon_deg'])\n"
     ]
    },
    {
     "name": "stdout",
     "output_type": "stream",
     "text": [
      "1\n",
      "2\n"
     ]
    },
    {
     "name": "stderr",
     "output_type": "stream",
     "text": [
      "\n",
      "0it [00:00, ?it/s]\u001b[A\n",
      "1it [00:04,  4.03s/it]\u001b[A\n",
      "2it [00:08,  4.03s/it]\u001b[A\n",
      "3it [00:12,  4.20s/it]\u001b[A\n",
      "4it [00:16,  4.18s/it]\u001b[A\n",
      "C:\\Users\\1570074\\AppData\\Local\\Temp\\ipykernel_11432\\3951986721.py:119: SettingWithCopyWarning: \n",
      "A value is trying to be set on a copy of a slice from a DataFrame.\n",
      "Try using .loc[row_indexer,col_indexer] = value instead\n",
      "\n",
      "See the caveats in the documentation: https://pandas.pydata.org/pandas-docs/stable/user_guide/indexing.html#returning-a-view-versus-a-copy\n",
      "  model_df['min_dist'] = model_df.apply(lambda x: min_dist[min_dist['icao24']==x.icao24].rwy_dist.iloc[0] == x.rwy_dist ,axis=1)\n"
     ]
    },
    {
     "name": "stdout",
     "output_type": "stream",
     "text": [
      "3\n",
      "4\n"
     ]
    },
    {
     "name": "stderr",
     "output_type": "stream",
     "text": [
      "\r",
      " 58%|█████▊    | 14/24 [09:35<06:17, 37.73s/it]"
     ]
    },
    {
     "name": "stdout",
     "output_type": "stream",
     "text": [
      "0\n",
      "data/engage-hackathon-2025/year=2024/month=12/day=18/hour=21\n",
      "si\n"
     ]
    },
    {
     "name": "stderr",
     "output_type": "stream",
     "text": [
      "C:\\Users\\1570074\\AppData\\Local\\Temp\\ipykernel_11432\\3951986721.py:61: SettingWithCopyWarning: \n",
      "A value is trying to be set on a copy of a slice from a DataFrame.\n",
      "Try using .loc[row_indexer,col_indexer] = value instead\n",
      "\n",
      "See the caveats in the documentation: https://pandas.pydata.org/pandas-docs/stable/user_guide/indexing.html#returning-a-view-versus-a-copy\n",
      "  w_a_df['inside'] = w_a_df.apply(lambda row: isinside(barajas_zone,row['lat_deg'],row['lon_deg'])\n"
     ]
    },
    {
     "name": "stdout",
     "output_type": "stream",
     "text": [
      "1\n",
      "2\n"
     ]
    },
    {
     "name": "stderr",
     "output_type": "stream",
     "text": [
      "\n",
      "0it [00:00, ?it/s]\u001b[A\n",
      "1it [00:05,  5.85s/it]\u001b[A\n",
      "2it [00:11,  5.84s/it]\u001b[A\n",
      "3it [00:17,  5.74s/it]\u001b[A\n",
      "4it [00:22,  5.74s/it]\u001b[A\n",
      "C:\\Users\\1570074\\AppData\\Local\\Temp\\ipykernel_11432\\3951986721.py:119: SettingWithCopyWarning: \n",
      "A value is trying to be set on a copy of a slice from a DataFrame.\n",
      "Try using .loc[row_indexer,col_indexer] = value instead\n",
      "\n",
      "See the caveats in the documentation: https://pandas.pydata.org/pandas-docs/stable/user_guide/indexing.html#returning-a-view-versus-a-copy\n",
      "  model_df['min_dist'] = model_df.apply(lambda x: min_dist[min_dist['icao24']==x.icao24].rwy_dist.iloc[0] == x.rwy_dist ,axis=1)\n"
     ]
    },
    {
     "name": "stdout",
     "output_type": "stream",
     "text": [
      "3\n",
      "4\n"
     ]
    },
    {
     "name": "stderr",
     "output_type": "stream",
     "text": [
      "\r",
      " 62%|██████▎   | 15/24 [10:39<06:51, 45.70s/it]"
     ]
    },
    {
     "name": "stdout",
     "output_type": "stream",
     "text": [
      "0\n",
      "data/engage-hackathon-2025/year=2024/month=12/day=18/hour=22\n",
      "si\n"
     ]
    },
    {
     "name": "stderr",
     "output_type": "stream",
     "text": [
      "C:\\Users\\1570074\\AppData\\Local\\Temp\\ipykernel_11432\\3951986721.py:61: SettingWithCopyWarning: \n",
      "A value is trying to be set on a copy of a slice from a DataFrame.\n",
      "Try using .loc[row_indexer,col_indexer] = value instead\n",
      "\n",
      "See the caveats in the documentation: https://pandas.pydata.org/pandas-docs/stable/user_guide/indexing.html#returning-a-view-versus-a-copy\n",
      "  w_a_df['inside'] = w_a_df.apply(lambda row: isinside(barajas_zone,row['lat_deg'],row['lon_deg'])\n"
     ]
    },
    {
     "name": "stdout",
     "output_type": "stream",
     "text": [
      "1\n",
      "2\n"
     ]
    },
    {
     "name": "stderr",
     "output_type": "stream",
     "text": [
      "\n",
      "0it [00:00, ?it/s]\u001b[A\n",
      "1it [00:02,  2.80s/it]\u001b[A\n",
      "2it [00:05,  2.74s/it]\u001b[A\n",
      "3it [00:08,  2.74s/it]\u001b[A\n",
      "4it [00:10,  2.75s/it]\u001b[A\n",
      "C:\\Users\\1570074\\AppData\\Local\\Temp\\ipykernel_11432\\3951986721.py:119: SettingWithCopyWarning: \n",
      "A value is trying to be set on a copy of a slice from a DataFrame.\n",
      "Try using .loc[row_indexer,col_indexer] = value instead\n",
      "\n",
      "See the caveats in the documentation: https://pandas.pydata.org/pandas-docs/stable/user_guide/indexing.html#returning-a-view-versus-a-copy\n",
      "  model_df['min_dist'] = model_df.apply(lambda x: min_dist[min_dist['icao24']==x.icao24].rwy_dist.iloc[0] == x.rwy_dist ,axis=1)\n"
     ]
    },
    {
     "name": "stdout",
     "output_type": "stream",
     "text": [
      "3\n",
      "4\n"
     ]
    },
    {
     "name": "stderr",
     "output_type": "stream",
     "text": [
      "\r",
      " 67%|██████▋   | 16/24 [11:13<05:37, 42.13s/it]"
     ]
    },
    {
     "name": "stdout",
     "output_type": "stream",
     "text": [
      "0\n",
      "data/engage-hackathon-2025/year=2024/month=12/day=18/hour=23\n",
      "si\n"
     ]
    },
    {
     "name": "stderr",
     "output_type": "stream",
     "text": [
      "C:\\Users\\1570074\\AppData\\Local\\Temp\\ipykernel_11432\\3951986721.py:61: SettingWithCopyWarning: \n",
      "A value is trying to be set on a copy of a slice from a DataFrame.\n",
      "Try using .loc[row_indexer,col_indexer] = value instead\n",
      "\n",
      "See the caveats in the documentation: https://pandas.pydata.org/pandas-docs/stable/user_guide/indexing.html#returning-a-view-versus-a-copy\n",
      "  w_a_df['inside'] = w_a_df.apply(lambda row: isinside(barajas_zone,row['lat_deg'],row['lon_deg'])\n"
     ]
    },
    {
     "name": "stdout",
     "output_type": "stream",
     "text": [
      "1\n",
      "2\n"
     ]
    },
    {
     "name": "stderr",
     "output_type": "stream",
     "text": [
      "\n",
      "0it [00:00, ?it/s]\u001b[A\n",
      "1it [00:00,  1.19it/s]\u001b[A\n",
      "2it [00:01,  1.17it/s]\u001b[A\n",
      "3it [00:02,  1.18it/s]\u001b[A\n",
      "4it [00:03,  1.19it/s]\u001b[A\n",
      "C:\\Users\\1570074\\AppData\\Local\\Temp\\ipykernel_11432\\3951986721.py:119: SettingWithCopyWarning: \n",
      "A value is trying to be set on a copy of a slice from a DataFrame.\n",
      "Try using .loc[row_indexer,col_indexer] = value instead\n",
      "\n",
      "See the caveats in the documentation: https://pandas.pydata.org/pandas-docs/stable/user_guide/indexing.html#returning-a-view-versus-a-copy\n",
      "  model_df['min_dist'] = model_df.apply(lambda x: min_dist[min_dist['icao24']==x.icao24].rwy_dist.iloc[0] == x.rwy_dist ,axis=1)\n"
     ]
    },
    {
     "name": "stdout",
     "output_type": "stream",
     "text": [
      "3\n",
      "4\n"
     ]
    },
    {
     "name": "stderr",
     "output_type": "stream",
     "text": [
      "\r",
      " 71%|███████   | 17/24 [11:24<03:50, 32.99s/it]"
     ]
    },
    {
     "name": "stdout",
     "output_type": "stream",
     "text": [
      "0\n",
      "data/engage-hackathon-2025/year=2024/month=12/day=18/hour=3\n",
      "si\n"
     ]
    },
    {
     "name": "stderr",
     "output_type": "stream",
     "text": [
      "C:\\Users\\1570074\\AppData\\Local\\Temp\\ipykernel_11432\\3951986721.py:61: SettingWithCopyWarning: \n",
      "A value is trying to be set on a copy of a slice from a DataFrame.\n",
      "Try using .loc[row_indexer,col_indexer] = value instead\n",
      "\n",
      "See the caveats in the documentation: https://pandas.pydata.org/pandas-docs/stable/user_guide/indexing.html#returning-a-view-versus-a-copy\n",
      "  w_a_df['inside'] = w_a_df.apply(lambda row: isinside(barajas_zone,row['lat_deg'],row['lon_deg'])\n"
     ]
    },
    {
     "name": "stdout",
     "output_type": "stream",
     "text": [
      "1\n",
      "2\n"
     ]
    },
    {
     "name": "stderr",
     "output_type": "stream",
     "text": [
      "\n",
      "0it [00:00, ?it/s]\u001b[A\n",
      "1it [00:03,  3.29s/it]\u001b[A\n",
      "2it [00:06,  3.41s/it]\u001b[A\n",
      "3it [00:09,  3.32s/it]\u001b[A\n",
      "4it [00:13,  3.33s/it]\u001b[A\n",
      "C:\\Users\\1570074\\AppData\\Local\\Temp\\ipykernel_11432\\3951986721.py:119: SettingWithCopyWarning: \n",
      "A value is trying to be set on a copy of a slice from a DataFrame.\n",
      "Try using .loc[row_indexer,col_indexer] = value instead\n",
      "\n",
      "See the caveats in the documentation: https://pandas.pydata.org/pandas-docs/stable/user_guide/indexing.html#returning-a-view-versus-a-copy\n",
      "  model_df['min_dist'] = model_df.apply(lambda x: min_dist[min_dist['icao24']==x.icao24].rwy_dist.iloc[0] == x.rwy_dist ,axis=1)\n",
      " 75%|███████▌  | 18/24 [12:03<03:27, 34.57s/it]"
     ]
    },
    {
     "name": "stdout",
     "output_type": "stream",
     "text": [
      "3\n",
      "4\n",
      "0\n",
      "data/engage-hackathon-2025/year=2024/month=12/day=18/hour=4\n",
      "si\n"
     ]
    },
    {
     "name": "stderr",
     "output_type": "stream",
     "text": [
      "C:\\Users\\1570074\\AppData\\Local\\Temp\\ipykernel_11432\\3951986721.py:61: SettingWithCopyWarning: \n",
      "A value is trying to be set on a copy of a slice from a DataFrame.\n",
      "Try using .loc[row_indexer,col_indexer] = value instead\n",
      "\n",
      "See the caveats in the documentation: https://pandas.pydata.org/pandas-docs/stable/user_guide/indexing.html#returning-a-view-versus-a-copy\n",
      "  w_a_df['inside'] = w_a_df.apply(lambda row: isinside(barajas_zone,row['lat_deg'],row['lon_deg'])\n"
     ]
    },
    {
     "name": "stdout",
     "output_type": "stream",
     "text": [
      "1\n",
      "2\n"
     ]
    },
    {
     "name": "stderr",
     "output_type": "stream",
     "text": [
      "\n",
      "0it [00:00, ?it/s]\u001b[A\n",
      "1it [00:02,  2.88s/it]\u001b[A\n",
      "2it [00:05,  2.93s/it]\u001b[A\n",
      "3it [00:08,  2.90s/it]\u001b[A\n",
      "4it [00:11,  2.91s/it]\u001b[A\n",
      " 79%|███████▉  | 19/24 [12:38<02:54, 34.88s/it]"
     ]
    },
    {
     "name": "stdout",
     "output_type": "stream",
     "text": [
      "3\n",
      "4\n",
      "0\n",
      "data/engage-hackathon-2025/year=2024/month=12/day=18/hour=5\n",
      "si\n"
     ]
    },
    {
     "name": "stderr",
     "output_type": "stream",
     "text": [
      "C:\\Users\\1570074\\AppData\\Local\\Temp\\ipykernel_11432\\3951986721.py:61: SettingWithCopyWarning: \n",
      "A value is trying to be set on a copy of a slice from a DataFrame.\n",
      "Try using .loc[row_indexer,col_indexer] = value instead\n",
      "\n",
      "See the caveats in the documentation: https://pandas.pydata.org/pandas-docs/stable/user_guide/indexing.html#returning-a-view-versus-a-copy\n",
      "  w_a_df['inside'] = w_a_df.apply(lambda row: isinside(barajas_zone,row['lat_deg'],row['lon_deg'])\n"
     ]
    },
    {
     "name": "stdout",
     "output_type": "stream",
     "text": [
      "1\n",
      "2\n"
     ]
    },
    {
     "name": "stderr",
     "output_type": "stream",
     "text": [
      "\n",
      "0it [00:00, ?it/s]\u001b[A\n",
      "1it [00:00,  1.35it/s]\u001b[A\n",
      "2it [00:01,  1.38it/s]\u001b[A\n",
      "3it [00:02,  1.31it/s]\u001b[A\n",
      "4it [00:02,  1.34it/s]\u001b[A\n"
     ]
    },
    {
     "name": "stdout",
     "output_type": "stream",
     "text": [
      "3\n",
      "4\n"
     ]
    },
    {
     "name": "stderr",
     "output_type": "stream",
     "text": [
      "\r",
      " 83%|████████▎ | 20/24 [12:49<01:50, 27.60s/it]"
     ]
    },
    {
     "name": "stdout",
     "output_type": "stream",
     "text": [
      "0\n",
      "data/engage-hackathon-2025/year=2024/month=12/day=18/hour=6\n",
      "si\n"
     ]
    },
    {
     "name": "stderr",
     "output_type": "stream",
     "text": [
      "C:\\Users\\1570074\\AppData\\Local\\Temp\\ipykernel_11432\\3951986721.py:61: SettingWithCopyWarning: \n",
      "A value is trying to be set on a copy of a slice from a DataFrame.\n",
      "Try using .loc[row_indexer,col_indexer] = value instead\n",
      "\n",
      "See the caveats in the documentation: https://pandas.pydata.org/pandas-docs/stable/user_guide/indexing.html#returning-a-view-versus-a-copy\n",
      "  w_a_df['inside'] = w_a_df.apply(lambda row: isinside(barajas_zone,row['lat_deg'],row['lon_deg'])\n"
     ]
    },
    {
     "name": "stdout",
     "output_type": "stream",
     "text": [
      "1\n",
      "2\n"
     ]
    },
    {
     "name": "stderr",
     "output_type": "stream",
     "text": [
      "\n",
      "0it [00:00, ?it/s]\u001b[A\n",
      "1it [00:02,  2.83s/it]\u001b[A\n",
      "2it [00:05,  2.88s/it]\u001b[A\n",
      "3it [00:08,  2.92s/it]\u001b[A\n",
      "4it [00:11,  2.93s/it]\u001b[A\n",
      "C:\\Users\\1570074\\AppData\\Local\\Temp\\ipykernel_11432\\3951986721.py:119: SettingWithCopyWarning: \n",
      "A value is trying to be set on a copy of a slice from a DataFrame.\n",
      "Try using .loc[row_indexer,col_indexer] = value instead\n",
      "\n",
      "See the caveats in the documentation: https://pandas.pydata.org/pandas-docs/stable/user_guide/indexing.html#returning-a-view-versus-a-copy\n",
      "  model_df['min_dist'] = model_df.apply(lambda x: min_dist[min_dist['icao24']==x.icao24].rwy_dist.iloc[0] == x.rwy_dist ,axis=1)\n"
     ]
    },
    {
     "name": "stdout",
     "output_type": "stream",
     "text": [
      "3\n",
      "4\n"
     ]
    },
    {
     "name": "stderr",
     "output_type": "stream",
     "text": [
      "\r",
      " 88%|████████▊ | 21/24 [13:25<01:30, 30.10s/it]"
     ]
    },
    {
     "name": "stdout",
     "output_type": "stream",
     "text": [
      "0\n",
      "data/engage-hackathon-2025/year=2024/month=12/day=18/hour=7\n",
      "si\n"
     ]
    },
    {
     "name": "stderr",
     "output_type": "stream",
     "text": [
      "C:\\Users\\1570074\\AppData\\Local\\Temp\\ipykernel_11432\\3951986721.py:61: SettingWithCopyWarning: \n",
      "A value is trying to be set on a copy of a slice from a DataFrame.\n",
      "Try using .loc[row_indexer,col_indexer] = value instead\n",
      "\n",
      "See the caveats in the documentation: https://pandas.pydata.org/pandas-docs/stable/user_guide/indexing.html#returning-a-view-versus-a-copy\n",
      "  w_a_df['inside'] = w_a_df.apply(lambda row: isinside(barajas_zone,row['lat_deg'],row['lon_deg'])\n"
     ]
    },
    {
     "name": "stdout",
     "output_type": "stream",
     "text": [
      "1\n",
      "2\n"
     ]
    },
    {
     "name": "stderr",
     "output_type": "stream",
     "text": [
      "\n",
      "0it [00:00, ?it/s]\u001b[A\n",
      "1it [00:02,  2.36s/it]\u001b[A\n",
      "2it [00:04,  2.46s/it]\u001b[A\n",
      "3it [00:07,  2.44s/it]\u001b[A\n",
      "4it [00:09,  2.49s/it]\u001b[A\n",
      "C:\\Users\\1570074\\AppData\\Local\\Temp\\ipykernel_11432\\3951986721.py:119: SettingWithCopyWarning: \n",
      "A value is trying to be set on a copy of a slice from a DataFrame.\n",
      "Try using .loc[row_indexer,col_indexer] = value instead\n",
      "\n",
      "See the caveats in the documentation: https://pandas.pydata.org/pandas-docs/stable/user_guide/indexing.html#returning-a-view-versus-a-copy\n",
      "  model_df['min_dist'] = model_df.apply(lambda x: min_dist[min_dist['icao24']==x.icao24].rwy_dist.iloc[0] == x.rwy_dist ,axis=1)\n"
     ]
    },
    {
     "name": "stdout",
     "output_type": "stream",
     "text": [
      "3\n",
      "4\n"
     ]
    },
    {
     "name": "stderr",
     "output_type": "stream",
     "text": [
      "\r",
      " 92%|█████████▏| 22/24 [13:56<01:00, 30.37s/it]"
     ]
    },
    {
     "name": "stdout",
     "output_type": "stream",
     "text": [
      "0\n",
      "data/engage-hackathon-2025/year=2024/month=12/day=18/hour=8\n",
      "si\n"
     ]
    },
    {
     "name": "stderr",
     "output_type": "stream",
     "text": [
      "C:\\Users\\1570074\\AppData\\Local\\Temp\\ipykernel_11432\\3951986721.py:61: SettingWithCopyWarning: \n",
      "A value is trying to be set on a copy of a slice from a DataFrame.\n",
      "Try using .loc[row_indexer,col_indexer] = value instead\n",
      "\n",
      "See the caveats in the documentation: https://pandas.pydata.org/pandas-docs/stable/user_guide/indexing.html#returning-a-view-versus-a-copy\n",
      "  w_a_df['inside'] = w_a_df.apply(lambda row: isinside(barajas_zone,row['lat_deg'],row['lon_deg'])\n"
     ]
    },
    {
     "name": "stdout",
     "output_type": "stream",
     "text": [
      "1\n",
      "2\n"
     ]
    },
    {
     "name": "stderr",
     "output_type": "stream",
     "text": [
      "\n",
      "0it [00:00, ?it/s]\u001b[A\n",
      "1it [00:05,  5.21s/it]\u001b[A\n",
      "2it [00:10,  5.25s/it]\u001b[A\n",
      "3it [00:16,  5.81s/it]\u001b[A\n",
      "4it [00:23,  5.76s/it]\u001b[A\n",
      "C:\\Users\\1570074\\AppData\\Local\\Temp\\ipykernel_11432\\3951986721.py:119: SettingWithCopyWarning: \n",
      "A value is trying to be set on a copy of a slice from a DataFrame.\n",
      "Try using .loc[row_indexer,col_indexer] = value instead\n",
      "\n",
      "See the caveats in the documentation: https://pandas.pydata.org/pandas-docs/stable/user_guide/indexing.html#returning-a-view-versus-a-copy\n",
      "  model_df['min_dist'] = model_df.apply(lambda x: min_dist[min_dist['icao24']==x.icao24].rwy_dist.iloc[0] == x.rwy_dist ,axis=1)\n"
     ]
    },
    {
     "name": "stdout",
     "output_type": "stream",
     "text": [
      "3\n",
      "4\n"
     ]
    },
    {
     "name": "stderr",
     "output_type": "stream",
     "text": [
      "\r",
      " 96%|█████████▌| 23/24 [14:57<00:39, 39.53s/it]"
     ]
    },
    {
     "name": "stdout",
     "output_type": "stream",
     "text": [
      "0\n",
      "data/engage-hackathon-2025/year=2024/month=12/day=18/hour=9\n",
      "si\n"
     ]
    },
    {
     "name": "stderr",
     "output_type": "stream",
     "text": [
      "C:\\Users\\1570074\\AppData\\Local\\Temp\\ipykernel_11432\\3951986721.py:61: SettingWithCopyWarning: \n",
      "A value is trying to be set on a copy of a slice from a DataFrame.\n",
      "Try using .loc[row_indexer,col_indexer] = value instead\n",
      "\n",
      "See the caveats in the documentation: https://pandas.pydata.org/pandas-docs/stable/user_guide/indexing.html#returning-a-view-versus-a-copy\n",
      "  w_a_df['inside'] = w_a_df.apply(lambda row: isinside(barajas_zone,row['lat_deg'],row['lon_deg'])\n"
     ]
    },
    {
     "name": "stdout",
     "output_type": "stream",
     "text": [
      "1\n",
      "2\n"
     ]
    },
    {
     "name": "stderr",
     "output_type": "stream",
     "text": [
      "\n",
      "0it [00:00, ?it/s]\u001b[A\n",
      "1it [00:08,  8.00s/it]\u001b[A\n",
      "2it [00:15,  7.61s/it]\u001b[A\n",
      "3it [00:23,  7.66s/it]\u001b[A\n",
      "4it [00:30,  7.64s/it]\u001b[A\n",
      "C:\\Users\\1570074\\AppData\\Local\\Temp\\ipykernel_11432\\3951986721.py:119: SettingWithCopyWarning: \n",
      "A value is trying to be set on a copy of a slice from a DataFrame.\n",
      "Try using .loc[row_indexer,col_indexer] = value instead\n",
      "\n",
      "See the caveats in the documentation: https://pandas.pydata.org/pandas-docs/stable/user_guide/indexing.html#returning-a-view-versus-a-copy\n",
      "  model_df['min_dist'] = model_df.apply(lambda x: min_dist[min_dist['icao24']==x.icao24].rwy_dist.iloc[0] == x.rwy_dist ,axis=1)\n"
     ]
    },
    {
     "name": "stdout",
     "output_type": "stream",
     "text": [
      "3\n",
      "4\n"
     ]
    },
    {
     "name": "stderr",
     "output_type": "stream",
     "text": [
      "100%|██████████| 24/24 [16:09<00:00, 40.41s/it]\n",
      "  0%|          | 0/24 [00:00<?, ?it/s]"
     ]
    },
    {
     "name": "stdout",
     "output_type": "stream",
     "text": [
      "0\n",
      "data/engage-hackathon-2025/year=2024/month=12/day=19/hour=0\n",
      "si\n"
     ]
    },
    {
     "name": "stderr",
     "output_type": "stream",
     "text": [
      "C:\\Users\\1570074\\AppData\\Local\\Temp\\ipykernel_11432\\3951986721.py:61: SettingWithCopyWarning: \n",
      "A value is trying to be set on a copy of a slice from a DataFrame.\n",
      "Try using .loc[row_indexer,col_indexer] = value instead\n",
      "\n",
      "See the caveats in the documentation: https://pandas.pydata.org/pandas-docs/stable/user_guide/indexing.html#returning-a-view-versus-a-copy\n",
      "  w_a_df['inside'] = w_a_df.apply(lambda row: isinside(barajas_zone,row['lat_deg'],row['lon_deg'])\n"
     ]
    },
    {
     "name": "stdout",
     "output_type": "stream",
     "text": [
      "1\n",
      "2\n"
     ]
    },
    {
     "name": "stderr",
     "output_type": "stream",
     "text": [
      "\n",
      "0it [00:00, ?it/s]\u001b[A\n",
      "1it [00:00,  5.02it/s]\u001b[A\n",
      "2it [00:00,  5.33it/s]\u001b[A\n",
      "3it [00:00,  5.17it/s]\u001b[A\n",
      "4it [00:00,  5.05it/s]\u001b[A\n",
      "  4%|▍         | 1/24 [00:02<01:06,  2.89s/it]"
     ]
    },
    {
     "name": "stdout",
     "output_type": "stream",
     "text": [
      "3\n",
      "4\n",
      "0\n",
      "data/engage-hackathon-2025/year=2024/month=12/day=19/hour=1\n",
      "si\n"
     ]
    },
    {
     "name": "stderr",
     "output_type": "stream",
     "text": [
      "C:\\Users\\1570074\\AppData\\Local\\Temp\\ipykernel_11432\\3951986721.py:61: SettingWithCopyWarning: \n",
      "A value is trying to be set on a copy of a slice from a DataFrame.\n",
      "Try using .loc[row_indexer,col_indexer] = value instead\n",
      "\n",
      "See the caveats in the documentation: https://pandas.pydata.org/pandas-docs/stable/user_guide/indexing.html#returning-a-view-versus-a-copy\n",
      "  w_a_df['inside'] = w_a_df.apply(lambda row: isinside(barajas_zone,row['lat_deg'],row['lon_deg'])\n"
     ]
    },
    {
     "name": "stdout",
     "output_type": "stream",
     "text": [
      "1\n",
      "2\n"
     ]
    },
    {
     "name": "stderr",
     "output_type": "stream",
     "text": [
      "\n",
      "0it [00:00, ?it/s]\u001b[A\n",
      "1it [00:00,  9.66it/s]\u001b[A\n",
      "2it [00:00,  7.56it/s]\u001b[A\n",
      "3it [00:00,  8.07it/s]\u001b[A\n",
      "4it [00:00,  8.20it/s]\u001b[A\n",
      "  8%|▊         | 2/24 [00:04<00:47,  2.15s/it]"
     ]
    },
    {
     "name": "stdout",
     "output_type": "stream",
     "text": [
      "3\n",
      "4\n",
      "0\n",
      "data/engage-hackathon-2025/year=2024/month=12/day=19/hour=10\n",
      "si\n"
     ]
    },
    {
     "name": "stderr",
     "output_type": "stream",
     "text": [
      "C:\\Users\\1570074\\AppData\\Local\\Temp\\ipykernel_11432\\3951986721.py:61: SettingWithCopyWarning: \n",
      "A value is trying to be set on a copy of a slice from a DataFrame.\n",
      "Try using .loc[row_indexer,col_indexer] = value instead\n",
      "\n",
      "See the caveats in the documentation: https://pandas.pydata.org/pandas-docs/stable/user_guide/indexing.html#returning-a-view-versus-a-copy\n",
      "  w_a_df['inside'] = w_a_df.apply(lambda row: isinside(barajas_zone,row['lat_deg'],row['lon_deg'])\n"
     ]
    },
    {
     "name": "stdout",
     "output_type": "stream",
     "text": [
      "1\n",
      "2\n"
     ]
    },
    {
     "name": "stderr",
     "output_type": "stream",
     "text": [
      "\n",
      "0it [00:00, ?it/s]\u001b[A\n",
      "1it [00:03,  3.28s/it]\u001b[A\n",
      "2it [00:06,  3.36s/it]\u001b[A\n",
      "3it [00:10,  3.38s/it]\u001b[A\n",
      "4it [00:13,  3.40s/it]\u001b[A\n",
      "C:\\Users\\1570074\\AppData\\Local\\Temp\\ipykernel_11432\\3951986721.py:119: SettingWithCopyWarning: \n",
      "A value is trying to be set on a copy of a slice from a DataFrame.\n",
      "Try using .loc[row_indexer,col_indexer] = value instead\n",
      "\n",
      "See the caveats in the documentation: https://pandas.pydata.org/pandas-docs/stable/user_guide/indexing.html#returning-a-view-versus-a-copy\n",
      "  model_df['min_dist'] = model_df.apply(lambda x: min_dist[min_dist['icao24']==x.icao24].rwy_dist.iloc[0] == x.rwy_dist ,axis=1)\n"
     ]
    },
    {
     "name": "stdout",
     "output_type": "stream",
     "text": [
      "3\n",
      "4\n"
     ]
    },
    {
     "name": "stderr",
     "output_type": "stream",
     "text": [
      "\r",
      " 12%|█▎        | 3/24 [00:44<06:45, 19.29s/it]"
     ]
    },
    {
     "name": "stdout",
     "output_type": "stream",
     "text": [
      "0\n",
      "data/engage-hackathon-2025/year=2024/month=12/day=19/hour=11\n",
      "si\n"
     ]
    },
    {
     "name": "stderr",
     "output_type": "stream",
     "text": [
      "C:\\Users\\1570074\\AppData\\Local\\Temp\\ipykernel_11432\\3951986721.py:61: SettingWithCopyWarning: \n",
      "A value is trying to be set on a copy of a slice from a DataFrame.\n",
      "Try using .loc[row_indexer,col_indexer] = value instead\n",
      "\n",
      "See the caveats in the documentation: https://pandas.pydata.org/pandas-docs/stable/user_guide/indexing.html#returning-a-view-versus-a-copy\n",
      "  w_a_df['inside'] = w_a_df.apply(lambda row: isinside(barajas_zone,row['lat_deg'],row['lon_deg'])\n"
     ]
    },
    {
     "name": "stdout",
     "output_type": "stream",
     "text": [
      "1\n",
      "2\n"
     ]
    },
    {
     "name": "stderr",
     "output_type": "stream",
     "text": [
      "\n",
      "0it [00:00, ?it/s]\u001b[A\n",
      "1it [00:05,  5.07s/it]\u001b[A\n",
      "2it [00:10,  5.10s/it]\u001b[A\n",
      "3it [00:15,  5.00s/it]\u001b[A\n",
      "4it [00:21,  5.30s/it]\u001b[A\n",
      "C:\\Users\\1570074\\AppData\\Local\\Temp\\ipykernel_11432\\3951986721.py:119: SettingWithCopyWarning: \n",
      "A value is trying to be set on a copy of a slice from a DataFrame.\n",
      "Try using .loc[row_indexer,col_indexer] = value instead\n",
      "\n",
      "See the caveats in the documentation: https://pandas.pydata.org/pandas-docs/stable/user_guide/indexing.html#returning-a-view-versus-a-copy\n",
      "  model_df['min_dist'] = model_df.apply(lambda x: min_dist[min_dist['icao24']==x.icao24].rwy_dist.iloc[0] == x.rwy_dist ,axis=1)\n"
     ]
    },
    {
     "name": "stdout",
     "output_type": "stream",
     "text": [
      "3\n",
      "4\n"
     ]
    },
    {
     "name": "stderr",
     "output_type": "stream",
     "text": [
      "\r",
      " 17%|█▋        | 4/24 [01:40<11:19, 33.98s/it]"
     ]
    },
    {
     "name": "stdout",
     "output_type": "stream",
     "text": [
      "0\n",
      "data/engage-hackathon-2025/year=2024/month=12/day=19/hour=12\n",
      "si\n"
     ]
    },
    {
     "name": "stderr",
     "output_type": "stream",
     "text": [
      "C:\\Users\\1570074\\AppData\\Local\\Temp\\ipykernel_11432\\3951986721.py:61: SettingWithCopyWarning: \n",
      "A value is trying to be set on a copy of a slice from a DataFrame.\n",
      "Try using .loc[row_indexer,col_indexer] = value instead\n",
      "\n",
      "See the caveats in the documentation: https://pandas.pydata.org/pandas-docs/stable/user_guide/indexing.html#returning-a-view-versus-a-copy\n",
      "  w_a_df['inside'] = w_a_df.apply(lambda row: isinside(barajas_zone,row['lat_deg'],row['lon_deg'])\n"
     ]
    },
    {
     "name": "stdout",
     "output_type": "stream",
     "text": [
      "1\n",
      "2\n"
     ]
    },
    {
     "name": "stderr",
     "output_type": "stream",
     "text": [
      "\n",
      "0it [00:00, ?it/s]\u001b[A\n",
      "1it [00:07,  7.08s/it]\u001b[A\n",
      "2it [00:14,  7.21s/it]\u001b[A\n",
      "3it [00:21,  7.14s/it]\u001b[A\n",
      "4it [00:28,  7.17s/it]\u001b[A\n",
      "C:\\Users\\1570074\\AppData\\Local\\Temp\\ipykernel_11432\\3951986721.py:119: SettingWithCopyWarning: \n",
      "A value is trying to be set on a copy of a slice from a DataFrame.\n",
      "Try using .loc[row_indexer,col_indexer] = value instead\n",
      "\n",
      "See the caveats in the documentation: https://pandas.pydata.org/pandas-docs/stable/user_guide/indexing.html#returning-a-view-versus-a-copy\n",
      "  model_df['min_dist'] = model_df.apply(lambda x: min_dist[min_dist['icao24']==x.icao24].rwy_dist.iloc[0] == x.rwy_dist ,axis=1)\n"
     ]
    },
    {
     "name": "stdout",
     "output_type": "stream",
     "text": [
      "3\n",
      "4\n"
     ]
    },
    {
     "name": "stderr",
     "output_type": "stream",
     "text": [
      "\r",
      " 21%|██        | 5/24 [02:55<15:28, 48.86s/it]"
     ]
    },
    {
     "name": "stdout",
     "output_type": "stream",
     "text": [
      "0\n",
      "data/engage-hackathon-2025/year=2024/month=12/day=19/hour=13\n",
      "si\n"
     ]
    },
    {
     "name": "stderr",
     "output_type": "stream",
     "text": [
      "C:\\Users\\1570074\\AppData\\Local\\Temp\\ipykernel_11432\\3951986721.py:61: SettingWithCopyWarning: \n",
      "A value is trying to be set on a copy of a slice from a DataFrame.\n",
      "Try using .loc[row_indexer,col_indexer] = value instead\n",
      "\n",
      "See the caveats in the documentation: https://pandas.pydata.org/pandas-docs/stable/user_guide/indexing.html#returning-a-view-versus-a-copy\n",
      "  w_a_df['inside'] = w_a_df.apply(lambda row: isinside(barajas_zone,row['lat_deg'],row['lon_deg'])\n"
     ]
    },
    {
     "name": "stdout",
     "output_type": "stream",
     "text": [
      "1\n",
      "2\n"
     ]
    },
    {
     "name": "stderr",
     "output_type": "stream",
     "text": [
      "\n",
      "0it [00:00, ?it/s]\u001b[A\n",
      "1it [00:07,  7.43s/it]\u001b[A\n",
      "2it [00:15,  7.63s/it]\u001b[A\n",
      "3it [00:22,  7.56s/it]\u001b[A\n",
      "4it [00:30,  7.61s/it]\u001b[A\n",
      "C:\\Users\\1570074\\AppData\\Local\\Temp\\ipykernel_11432\\3951986721.py:119: SettingWithCopyWarning: \n",
      "A value is trying to be set on a copy of a slice from a DataFrame.\n",
      "Try using .loc[row_indexer,col_indexer] = value instead\n",
      "\n",
      "See the caveats in the documentation: https://pandas.pydata.org/pandas-docs/stable/user_guide/indexing.html#returning-a-view-versus-a-copy\n",
      "  model_df['min_dist'] = model_df.apply(lambda x: min_dist[min_dist['icao24']==x.icao24].rwy_dist.iloc[0] == x.rwy_dist ,axis=1)\n"
     ]
    },
    {
     "name": "stdout",
     "output_type": "stream",
     "text": [
      "3\n",
      "4\n"
     ]
    },
    {
     "name": "stderr",
     "output_type": "stream",
     "text": [
      "\r",
      " 25%|██▌       | 6/24 [04:26<18:57, 63.20s/it]"
     ]
    },
    {
     "name": "stdout",
     "output_type": "stream",
     "text": [
      "0\n",
      "data/engage-hackathon-2025/year=2024/month=12/day=19/hour=14\n",
      "si\n"
     ]
    },
    {
     "name": "stderr",
     "output_type": "stream",
     "text": [
      "C:\\Users\\1570074\\AppData\\Local\\Temp\\ipykernel_11432\\3951986721.py:61: SettingWithCopyWarning: \n",
      "A value is trying to be set on a copy of a slice from a DataFrame.\n",
      "Try using .loc[row_indexer,col_indexer] = value instead\n",
      "\n",
      "See the caveats in the documentation: https://pandas.pydata.org/pandas-docs/stable/user_guide/indexing.html#returning-a-view-versus-a-copy\n",
      "  w_a_df['inside'] = w_a_df.apply(lambda row: isinside(barajas_zone,row['lat_deg'],row['lon_deg'])\n"
     ]
    },
    {
     "name": "stdout",
     "output_type": "stream",
     "text": [
      "1\n",
      "2\n"
     ]
    },
    {
     "name": "stderr",
     "output_type": "stream",
     "text": [
      "\n",
      "0it [00:00, ?it/s]\u001b[A\n",
      "1it [00:04,  4.49s/it]\u001b[A\n",
      "2it [00:09,  4.58s/it]\u001b[A\n",
      "3it [00:13,  4.49s/it]\u001b[A\n",
      "4it [00:17,  4.49s/it]\u001b[A\n",
      "C:\\Users\\1570074\\AppData\\Local\\Temp\\ipykernel_11432\\3951986721.py:119: SettingWithCopyWarning: \n",
      "A value is trying to be set on a copy of a slice from a DataFrame.\n",
      "Try using .loc[row_indexer,col_indexer] = value instead\n",
      "\n",
      "See the caveats in the documentation: https://pandas.pydata.org/pandas-docs/stable/user_guide/indexing.html#returning-a-view-versus-a-copy\n",
      "  model_df['min_dist'] = model_df.apply(lambda x: min_dist[min_dist['icao24']==x.icao24].rwy_dist.iloc[0] == x.rwy_dist ,axis=1)\n"
     ]
    },
    {
     "name": "stdout",
     "output_type": "stream",
     "text": [
      "3\n",
      "4\n"
     ]
    },
    {
     "name": "stderr",
     "output_type": "stream",
     "text": [
      "\r",
      " 29%|██▉       | 7/24 [05:23<17:15, 60.90s/it]"
     ]
    },
    {
     "name": "stdout",
     "output_type": "stream",
     "text": [
      "0\n",
      "data/engage-hackathon-2025/year=2024/month=12/day=19/hour=15\n",
      "si\n"
     ]
    },
    {
     "name": "stderr",
     "output_type": "stream",
     "text": [
      "C:\\Users\\1570074\\AppData\\Local\\Temp\\ipykernel_11432\\3951986721.py:61: SettingWithCopyWarning: \n",
      "A value is trying to be set on a copy of a slice from a DataFrame.\n",
      "Try using .loc[row_indexer,col_indexer] = value instead\n",
      "\n",
      "See the caveats in the documentation: https://pandas.pydata.org/pandas-docs/stable/user_guide/indexing.html#returning-a-view-versus-a-copy\n",
      "  w_a_df['inside'] = w_a_df.apply(lambda row: isinside(barajas_zone,row['lat_deg'],row['lon_deg'])\n"
     ]
    },
    {
     "name": "stdout",
     "output_type": "stream",
     "text": [
      "1\n",
      "2\n"
     ]
    },
    {
     "name": "stderr",
     "output_type": "stream",
     "text": [
      "\n",
      "0it [00:00, ?it/s]\u001b[A\n",
      "1it [00:03,  3.73s/it]\u001b[A\n",
      "2it [00:07,  3.62s/it]\u001b[A\n",
      "3it [00:10,  3.64s/it]\u001b[A\n",
      "4it [00:14,  3.66s/it]\u001b[A\n",
      "C:\\Users\\1570074\\AppData\\Local\\Temp\\ipykernel_11432\\3951986721.py:119: SettingWithCopyWarning: \n",
      "A value is trying to be set on a copy of a slice from a DataFrame.\n",
      "Try using .loc[row_indexer,col_indexer] = value instead\n",
      "\n",
      "See the caveats in the documentation: https://pandas.pydata.org/pandas-docs/stable/user_guide/indexing.html#returning-a-view-versus-a-copy\n",
      "  model_df['min_dist'] = model_df.apply(lambda x: min_dist[min_dist['icao24']==x.icao24].rwy_dist.iloc[0] == x.rwy_dist ,axis=1)\n"
     ]
    },
    {
     "name": "stdout",
     "output_type": "stream",
     "text": [
      "3\n",
      "4\n"
     ]
    },
    {
     "name": "stderr",
     "output_type": "stream",
     "text": [
      "\r",
      " 33%|███▎      | 8/24 [06:06<14:43, 55.21s/it]"
     ]
    },
    {
     "name": "stdout",
     "output_type": "stream",
     "text": [
      "0\n",
      "data/engage-hackathon-2025/year=2024/month=12/day=19/hour=16\n",
      "si\n"
     ]
    },
    {
     "name": "stderr",
     "output_type": "stream",
     "text": [
      "C:\\Users\\1570074\\AppData\\Local\\Temp\\ipykernel_11432\\3951986721.py:61: SettingWithCopyWarning: \n",
      "A value is trying to be set on a copy of a slice from a DataFrame.\n",
      "Try using .loc[row_indexer,col_indexer] = value instead\n",
      "\n",
      "See the caveats in the documentation: https://pandas.pydata.org/pandas-docs/stable/user_guide/indexing.html#returning-a-view-versus-a-copy\n",
      "  w_a_df['inside'] = w_a_df.apply(lambda row: isinside(barajas_zone,row['lat_deg'],row['lon_deg'])\n"
     ]
    },
    {
     "name": "stdout",
     "output_type": "stream",
     "text": [
      "1\n",
      "2\n"
     ]
    },
    {
     "name": "stderr",
     "output_type": "stream",
     "text": [
      "\n",
      "0it [00:00, ?it/s]\u001b[A\n",
      "1it [00:04,  4.07s/it]\u001b[A\n",
      "2it [00:08,  4.07s/it]\u001b[A\n",
      "3it [00:12,  3.99s/it]\u001b[A\n",
      "4it [00:15,  3.97s/it]\u001b[A\n",
      "C:\\Users\\1570074\\AppData\\Local\\Temp\\ipykernel_11432\\3951986721.py:119: SettingWithCopyWarning: \n",
      "A value is trying to be set on a copy of a slice from a DataFrame.\n",
      "Try using .loc[row_indexer,col_indexer] = value instead\n",
      "\n",
      "See the caveats in the documentation: https://pandas.pydata.org/pandas-docs/stable/user_guide/indexing.html#returning-a-view-versus-a-copy\n",
      "  model_df['min_dist'] = model_df.apply(lambda x: min_dist[min_dist['icao24']==x.icao24].rwy_dist.iloc[0] == x.rwy_dist ,axis=1)\n"
     ]
    },
    {
     "name": "stdout",
     "output_type": "stream",
     "text": [
      "3\n",
      "4\n"
     ]
    },
    {
     "name": "stderr",
     "output_type": "stream",
     "text": [
      "\r",
      " 38%|███▊      | 9/24 [06:51<13:01, 52.08s/it]"
     ]
    },
    {
     "name": "stdout",
     "output_type": "stream",
     "text": [
      "0\n",
      "data/engage-hackathon-2025/year=2024/month=12/day=19/hour=17\n",
      "si\n"
     ]
    },
    {
     "name": "stderr",
     "output_type": "stream",
     "text": [
      "C:\\Users\\1570074\\AppData\\Local\\Temp\\ipykernel_11432\\3951986721.py:61: SettingWithCopyWarning: \n",
      "A value is trying to be set on a copy of a slice from a DataFrame.\n",
      "Try using .loc[row_indexer,col_indexer] = value instead\n",
      "\n",
      "See the caveats in the documentation: https://pandas.pydata.org/pandas-docs/stable/user_guide/indexing.html#returning-a-view-versus-a-copy\n",
      "  w_a_df['inside'] = w_a_df.apply(lambda row: isinside(barajas_zone,row['lat_deg'],row['lon_deg'])\n"
     ]
    },
    {
     "name": "stdout",
     "output_type": "stream",
     "text": [
      "1\n",
      "2\n"
     ]
    },
    {
     "name": "stderr",
     "output_type": "stream",
     "text": [
      "\n",
      "0it [00:00, ?it/s]\u001b[A\n",
      "1it [00:05,  5.16s/it]\u001b[A\n",
      "2it [00:09,  4.91s/it]\u001b[A\n",
      "3it [00:14,  4.88s/it]\u001b[A\n",
      "4it [00:19,  4.87s/it]\u001b[A\n",
      "C:\\Users\\1570074\\AppData\\Local\\Temp\\ipykernel_11432\\3951986721.py:119: SettingWithCopyWarning: \n",
      "A value is trying to be set on a copy of a slice from a DataFrame.\n",
      "Try using .loc[row_indexer,col_indexer] = value instead\n",
      "\n",
      "See the caveats in the documentation: https://pandas.pydata.org/pandas-docs/stable/user_guide/indexing.html#returning-a-view-versus-a-copy\n",
      "  model_df['min_dist'] = model_df.apply(lambda x: min_dist[min_dist['icao24']==x.icao24].rwy_dist.iloc[0] == x.rwy_dist ,axis=1)\n"
     ]
    },
    {
     "name": "stdout",
     "output_type": "stream",
     "text": [
      "3\n",
      "4\n"
     ]
    },
    {
     "name": "stderr",
     "output_type": "stream",
     "text": [
      "\r",
      " 42%|████▏     | 10/24 [07:47<12:28, 53.46s/it]"
     ]
    },
    {
     "name": "stdout",
     "output_type": "stream",
     "text": [
      "0\n",
      "data/engage-hackathon-2025/year=2024/month=12/day=19/hour=18\n",
      "si\n"
     ]
    },
    {
     "name": "stderr",
     "output_type": "stream",
     "text": [
      "C:\\Users\\1570074\\AppData\\Local\\Temp\\ipykernel_11432\\3951986721.py:61: SettingWithCopyWarning: \n",
      "A value is trying to be set on a copy of a slice from a DataFrame.\n",
      "Try using .loc[row_indexer,col_indexer] = value instead\n",
      "\n",
      "See the caveats in the documentation: https://pandas.pydata.org/pandas-docs/stable/user_guide/indexing.html#returning-a-view-versus-a-copy\n",
      "  w_a_df['inside'] = w_a_df.apply(lambda row: isinside(barajas_zone,row['lat_deg'],row['lon_deg'])\n"
     ]
    },
    {
     "name": "stdout",
     "output_type": "stream",
     "text": [
      "1\n",
      "2\n"
     ]
    },
    {
     "name": "stderr",
     "output_type": "stream",
     "text": [
      "\n",
      "0it [00:00, ?it/s]\u001b[A\n",
      "1it [00:04,  4.69s/it]\u001b[A\n",
      "2it [00:09,  4.74s/it]\u001b[A\n",
      "3it [00:14,  4.81s/it]\u001b[A\n",
      "4it [00:19,  4.78s/it]\u001b[A\n",
      "C:\\Users\\1570074\\AppData\\Local\\Temp\\ipykernel_11432\\3951986721.py:119: SettingWithCopyWarning: \n",
      "A value is trying to be set on a copy of a slice from a DataFrame.\n",
      "Try using .loc[row_indexer,col_indexer] = value instead\n",
      "\n",
      "See the caveats in the documentation: https://pandas.pydata.org/pandas-docs/stable/user_guide/indexing.html#returning-a-view-versus-a-copy\n",
      "  model_df['min_dist'] = model_df.apply(lambda x: min_dist[min_dist['icao24']==x.icao24].rwy_dist.iloc[0] == x.rwy_dist ,axis=1)\n"
     ]
    },
    {
     "name": "stdout",
     "output_type": "stream",
     "text": [
      "3\n",
      "4\n"
     ]
    },
    {
     "name": "stderr",
     "output_type": "stream",
     "text": [
      "\r",
      " 46%|████▌     | 11/24 [08:48<12:01, 55.51s/it]"
     ]
    },
    {
     "name": "stdout",
     "output_type": "stream",
     "text": [
      "0\n",
      "data/engage-hackathon-2025/year=2024/month=12/day=19/hour=19\n",
      "si\n"
     ]
    },
    {
     "name": "stderr",
     "output_type": "stream",
     "text": [
      "C:\\Users\\1570074\\AppData\\Local\\Temp\\ipykernel_11432\\3951986721.py:61: SettingWithCopyWarning: \n",
      "A value is trying to be set on a copy of a slice from a DataFrame.\n",
      "Try using .loc[row_indexer,col_indexer] = value instead\n",
      "\n",
      "See the caveats in the documentation: https://pandas.pydata.org/pandas-docs/stable/user_guide/indexing.html#returning-a-view-versus-a-copy\n",
      "  w_a_df['inside'] = w_a_df.apply(lambda row: isinside(barajas_zone,row['lat_deg'],row['lon_deg'])\n"
     ]
    },
    {
     "name": "stdout",
     "output_type": "stream",
     "text": [
      "1\n",
      "2\n"
     ]
    },
    {
     "name": "stderr",
     "output_type": "stream",
     "text": [
      "\n",
      "0it [00:00, ?it/s]\u001b[A\n",
      "1it [00:03,  3.44s/it]\u001b[A\n",
      "2it [00:07,  3.60s/it]\u001b[A\n",
      "3it [00:10,  3.51s/it]\u001b[A\n",
      "4it [00:13,  3.47s/it]\u001b[A\n",
      "C:\\Users\\1570074\\AppData\\Local\\Temp\\ipykernel_11432\\3951986721.py:119: SettingWithCopyWarning: \n",
      "A value is trying to be set on a copy of a slice from a DataFrame.\n",
      "Try using .loc[row_indexer,col_indexer] = value instead\n",
      "\n",
      "See the caveats in the documentation: https://pandas.pydata.org/pandas-docs/stable/user_guide/indexing.html#returning-a-view-versus-a-copy\n",
      "  model_df['min_dist'] = model_df.apply(lambda x: min_dist[min_dist['icao24']==x.icao24].rwy_dist.iloc[0] == x.rwy_dist ,axis=1)\n"
     ]
    },
    {
     "name": "stdout",
     "output_type": "stream",
     "text": [
      "3\n",
      "4\n"
     ]
    },
    {
     "name": "stderr",
     "output_type": "stream",
     "text": [
      "\r",
      " 50%|█████     | 12/24 [09:31<10:20, 51.74s/it]"
     ]
    },
    {
     "name": "stdout",
     "output_type": "stream",
     "text": [
      "0\n",
      "data/engage-hackathon-2025/year=2024/month=12/day=19/hour=2\n",
      "si\n"
     ]
    },
    {
     "name": "stderr",
     "output_type": "stream",
     "text": [
      "C:\\Users\\1570074\\AppData\\Local\\Temp\\ipykernel_11432\\3951986721.py:61: SettingWithCopyWarning: \n",
      "A value is trying to be set on a copy of a slice from a DataFrame.\n",
      "Try using .loc[row_indexer,col_indexer] = value instead\n",
      "\n",
      "See the caveats in the documentation: https://pandas.pydata.org/pandas-docs/stable/user_guide/indexing.html#returning-a-view-versus-a-copy\n",
      "  w_a_df['inside'] = w_a_df.apply(lambda row: isinside(barajas_zone,row['lat_deg'],row['lon_deg'])\n"
     ]
    },
    {
     "name": "stdout",
     "output_type": "stream",
     "text": [
      "1\n",
      "2\n"
     ]
    },
    {
     "name": "stderr",
     "output_type": "stream",
     "text": [
      "\n",
      "0it [00:00, ?it/s]\u001b[A\n",
      "1it [00:00,  1.65it/s]\u001b[A\n",
      "2it [00:01,  1.57it/s]\u001b[A\n",
      "3it [00:01,  1.62it/s]\u001b[A\n",
      "4it [00:02,  1.62it/s]\u001b[A\n",
      " 54%|█████▍    | 13/24 [09:38<07:02, 38.42s/it]"
     ]
    },
    {
     "name": "stdout",
     "output_type": "stream",
     "text": [
      "3\n",
      "4\n",
      "0\n",
      "data/engage-hackathon-2025/year=2024/month=12/day=19/hour=20\n",
      "si\n"
     ]
    },
    {
     "name": "stderr",
     "output_type": "stream",
     "text": [
      "C:\\Users\\1570074\\AppData\\Local\\Temp\\ipykernel_11432\\3951986721.py:61: SettingWithCopyWarning: \n",
      "A value is trying to be set on a copy of a slice from a DataFrame.\n",
      "Try using .loc[row_indexer,col_indexer] = value instead\n",
      "\n",
      "See the caveats in the documentation: https://pandas.pydata.org/pandas-docs/stable/user_guide/indexing.html#returning-a-view-versus-a-copy\n",
      "  w_a_df['inside'] = w_a_df.apply(lambda row: isinside(barajas_zone,row['lat_deg'],row['lon_deg'])\n"
     ]
    },
    {
     "name": "stdout",
     "output_type": "stream",
     "text": [
      "1\n",
      "2\n"
     ]
    },
    {
     "name": "stderr",
     "output_type": "stream",
     "text": [
      "\n",
      "0it [00:00, ?it/s]\u001b[A\n",
      "1it [00:03,  3.57s/it]\u001b[A\n",
      "2it [00:06,  3.46s/it]\u001b[A\n",
      "3it [00:10,  3.57s/it]\u001b[A\n",
      "4it [00:14,  3.54s/it]\u001b[A\n",
      "C:\\Users\\1570074\\AppData\\Local\\Temp\\ipykernel_11432\\3951986721.py:119: SettingWithCopyWarning: \n",
      "A value is trying to be set on a copy of a slice from a DataFrame.\n",
      "Try using .loc[row_indexer,col_indexer] = value instead\n",
      "\n",
      "See the caveats in the documentation: https://pandas.pydata.org/pandas-docs/stable/user_guide/indexing.html#returning-a-view-versus-a-copy\n",
      "  model_df['min_dist'] = model_df.apply(lambda x: min_dist[min_dist['icao24']==x.icao24].rwy_dist.iloc[0] == x.rwy_dist ,axis=1)\n"
     ]
    },
    {
     "name": "stdout",
     "output_type": "stream",
     "text": [
      "3\n",
      "4\n"
     ]
    },
    {
     "name": "stderr",
     "output_type": "stream",
     "text": [
      "\r",
      " 58%|█████▊    | 14/24 [10:22<06:38, 39.83s/it]"
     ]
    },
    {
     "name": "stdout",
     "output_type": "stream",
     "text": [
      "0\n",
      "data/engage-hackathon-2025/year=2024/month=12/day=19/hour=21\n",
      "si\n"
     ]
    },
    {
     "name": "stderr",
     "output_type": "stream",
     "text": [
      "C:\\Users\\1570074\\AppData\\Local\\Temp\\ipykernel_11432\\3951986721.py:61: SettingWithCopyWarning: \n",
      "A value is trying to be set on a copy of a slice from a DataFrame.\n",
      "Try using .loc[row_indexer,col_indexer] = value instead\n",
      "\n",
      "See the caveats in the documentation: https://pandas.pydata.org/pandas-docs/stable/user_guide/indexing.html#returning-a-view-versus-a-copy\n",
      "  w_a_df['inside'] = w_a_df.apply(lambda row: isinside(barajas_zone,row['lat_deg'],row['lon_deg'])\n"
     ]
    },
    {
     "name": "stdout",
     "output_type": "stream",
     "text": [
      "1\n",
      "2\n"
     ]
    },
    {
     "name": "stderr",
     "output_type": "stream",
     "text": [
      "\n",
      "0it [00:00, ?it/s]\u001b[A\n",
      "1it [00:05,  5.90s/it]\u001b[A\n",
      "2it [00:11,  5.74s/it]\u001b[A\n",
      "3it [00:17,  5.73s/it]\u001b[A\n",
      "4it [00:23,  5.77s/it]\u001b[A\n",
      "C:\\Users\\1570074\\AppData\\Local\\Temp\\ipykernel_11432\\3951986721.py:119: SettingWithCopyWarning: \n",
      "A value is trying to be set on a copy of a slice from a DataFrame.\n",
      "Try using .loc[row_indexer,col_indexer] = value instead\n",
      "\n",
      "See the caveats in the documentation: https://pandas.pydata.org/pandas-docs/stable/user_guide/indexing.html#returning-a-view-versus-a-copy\n",
      "  model_df['min_dist'] = model_df.apply(lambda x: min_dist[min_dist['icao24']==x.icao24].rwy_dist.iloc[0] == x.rwy_dist ,axis=1)\n"
     ]
    },
    {
     "name": "stdout",
     "output_type": "stream",
     "text": [
      "3\n",
      "4\n"
     ]
    },
    {
     "name": "stderr",
     "output_type": "stream",
     "text": [
      "\r",
      " 62%|██████▎   | 15/24 [11:29<07:13, 48.17s/it]"
     ]
    },
    {
     "name": "stdout",
     "output_type": "stream",
     "text": [
      "0\n",
      "data/engage-hackathon-2025/year=2024/month=12/day=19/hour=22\n",
      "si\n"
     ]
    },
    {
     "name": "stderr",
     "output_type": "stream",
     "text": [
      "C:\\Users\\1570074\\AppData\\Local\\Temp\\ipykernel_11432\\3951986721.py:61: SettingWithCopyWarning: \n",
      "A value is trying to be set on a copy of a slice from a DataFrame.\n",
      "Try using .loc[row_indexer,col_indexer] = value instead\n",
      "\n",
      "See the caveats in the documentation: https://pandas.pydata.org/pandas-docs/stable/user_guide/indexing.html#returning-a-view-versus-a-copy\n",
      "  w_a_df['inside'] = w_a_df.apply(lambda row: isinside(barajas_zone,row['lat_deg'],row['lon_deg'])\n"
     ]
    },
    {
     "name": "stdout",
     "output_type": "stream",
     "text": [
      "1\n",
      "2\n"
     ]
    },
    {
     "name": "stderr",
     "output_type": "stream",
     "text": [
      "\n",
      "0it [00:00, ?it/s]\u001b[A\n",
      "1it [00:03,  3.47s/it]\u001b[A\n",
      "2it [00:06,  3.38s/it]\u001b[A\n",
      "3it [00:09,  3.27s/it]\u001b[A\n",
      "4it [00:13,  3.26s/it]\u001b[A\n",
      "C:\\Users\\1570074\\AppData\\Local\\Temp\\ipykernel_11432\\3951986721.py:119: SettingWithCopyWarning: \n",
      "A value is trying to be set on a copy of a slice from a DataFrame.\n",
      "Try using .loc[row_indexer,col_indexer] = value instead\n",
      "\n",
      "See the caveats in the documentation: https://pandas.pydata.org/pandas-docs/stable/user_guide/indexing.html#returning-a-view-versus-a-copy\n",
      "  model_df['min_dist'] = model_df.apply(lambda x: min_dist[min_dist['icao24']==x.icao24].rwy_dist.iloc[0] == x.rwy_dist ,axis=1)\n"
     ]
    },
    {
     "name": "stdout",
     "output_type": "stream",
     "text": [
      "3\n",
      "4\n"
     ]
    },
    {
     "name": "stderr",
     "output_type": "stream",
     "text": [
      "\r",
      " 67%|██████▋   | 16/24 [12:09<06:05, 45.64s/it]"
     ]
    },
    {
     "name": "stdout",
     "output_type": "stream",
     "text": [
      "0\n",
      "data/engage-hackathon-2025/year=2024/month=12/day=19/hour=23\n",
      "si\n"
     ]
    },
    {
     "name": "stderr",
     "output_type": "stream",
     "text": [
      "C:\\Users\\1570074\\AppData\\Local\\Temp\\ipykernel_11432\\3951986721.py:61: SettingWithCopyWarning: \n",
      "A value is trying to be set on a copy of a slice from a DataFrame.\n",
      "Try using .loc[row_indexer,col_indexer] = value instead\n",
      "\n",
      "See the caveats in the documentation: https://pandas.pydata.org/pandas-docs/stable/user_guide/indexing.html#returning-a-view-versus-a-copy\n",
      "  w_a_df['inside'] = w_a_df.apply(lambda row: isinside(barajas_zone,row['lat_deg'],row['lon_deg'])\n"
     ]
    },
    {
     "name": "stdout",
     "output_type": "stream",
     "text": [
      "1\n",
      "2\n"
     ]
    },
    {
     "name": "stderr",
     "output_type": "stream",
     "text": [
      "\n",
      "0it [00:00, ?it/s]\u001b[A\n",
      "1it [00:01,  1.98s/it]\u001b[A\n",
      "2it [00:03,  1.98s/it]\u001b[A\n",
      "3it [00:06,  2.01s/it]\u001b[A\n",
      "4it [00:08,  2.02s/it]\u001b[A\n",
      "C:\\Users\\1570074\\AppData\\Local\\Temp\\ipykernel_11432\\3951986721.py:119: SettingWithCopyWarning: \n",
      "A value is trying to be set on a copy of a slice from a DataFrame.\n",
      "Try using .loc[row_indexer,col_indexer] = value instead\n",
      "\n",
      "See the caveats in the documentation: https://pandas.pydata.org/pandas-docs/stable/user_guide/indexing.html#returning-a-view-versus-a-copy\n",
      "  model_df['min_dist'] = model_df.apply(lambda x: min_dist[min_dist['icao24']==x.icao24].rwy_dist.iloc[0] == x.rwy_dist ,axis=1)\n"
     ]
    },
    {
     "name": "stdout",
     "output_type": "stream",
     "text": [
      "3\n",
      "4\n"
     ]
    },
    {
     "name": "stderr",
     "output_type": "stream",
     "text": [
      "\r",
      " 71%|███████   | 17/24 [12:35<04:37, 39.70s/it]"
     ]
    },
    {
     "name": "stdout",
     "output_type": "stream",
     "text": [
      "0\n",
      "data/engage-hackathon-2025/year=2024/month=12/day=19/hour=3\n",
      "si\n"
     ]
    },
    {
     "name": "stderr",
     "output_type": "stream",
     "text": [
      "C:\\Users\\1570074\\AppData\\Local\\Temp\\ipykernel_11432\\3951986721.py:61: SettingWithCopyWarning: \n",
      "A value is trying to be set on a copy of a slice from a DataFrame.\n",
      "Try using .loc[row_indexer,col_indexer] = value instead\n",
      "\n",
      "See the caveats in the documentation: https://pandas.pydata.org/pandas-docs/stable/user_guide/indexing.html#returning-a-view-versus-a-copy\n",
      "  w_a_df['inside'] = w_a_df.apply(lambda row: isinside(barajas_zone,row['lat_deg'],row['lon_deg'])\n"
     ]
    },
    {
     "name": "stdout",
     "output_type": "stream",
     "text": [
      "1\n",
      "2\n"
     ]
    },
    {
     "name": "stderr",
     "output_type": "stream",
     "text": [
      "\n",
      "0it [00:00, ?it/s]\u001b[A\n",
      "1it [00:02,  2.14s/it]\u001b[A\n",
      "2it [00:04,  2.13s/it]\u001b[A\n",
      "3it [00:06,  2.10s/it]\u001b[A\n",
      "4it [00:08,  2.07s/it]\u001b[A\n",
      " 75%|███████▌  | 18/24 [13:00<03:31, 35.23s/it]"
     ]
    },
    {
     "name": "stdout",
     "output_type": "stream",
     "text": [
      "3\n",
      "4\n",
      "0\n",
      "data/engage-hackathon-2025/year=2024/month=12/day=19/hour=4\n",
      "si\n"
     ]
    },
    {
     "name": "stderr",
     "output_type": "stream",
     "text": [
      "C:\\Users\\1570074\\AppData\\Local\\Temp\\ipykernel_11432\\3951986721.py:61: SettingWithCopyWarning: \n",
      "A value is trying to be set on a copy of a slice from a DataFrame.\n",
      "Try using .loc[row_indexer,col_indexer] = value instead\n",
      "\n",
      "See the caveats in the documentation: https://pandas.pydata.org/pandas-docs/stable/user_guide/indexing.html#returning-a-view-versus-a-copy\n",
      "  w_a_df['inside'] = w_a_df.apply(lambda row: isinside(barajas_zone,row['lat_deg'],row['lon_deg'])\n"
     ]
    },
    {
     "name": "stdout",
     "output_type": "stream",
     "text": [
      "1\n",
      "2\n"
     ]
    },
    {
     "name": "stderr",
     "output_type": "stream",
     "text": [
      "\n",
      "0it [00:00, ?it/s]\u001b[A\n",
      "1it [00:02,  2.68s/it]\u001b[A\n",
      "2it [00:05,  2.61s/it]\u001b[A\n",
      "3it [00:07,  2.62s/it]\u001b[A\n",
      "4it [00:10,  2.63s/it]\u001b[A\n",
      " 79%|███████▉  | 19/24 [13:32<02:51, 34.26s/it]"
     ]
    },
    {
     "name": "stdout",
     "output_type": "stream",
     "text": [
      "3\n",
      "4\n",
      "0\n",
      "data/engage-hackathon-2025/year=2024/month=12/day=19/hour=5\n",
      "si\n"
     ]
    },
    {
     "name": "stderr",
     "output_type": "stream",
     "text": [
      "C:\\Users\\1570074\\AppData\\Local\\Temp\\ipykernel_11432\\3951986721.py:61: SettingWithCopyWarning: \n",
      "A value is trying to be set on a copy of a slice from a DataFrame.\n",
      "Try using .loc[row_indexer,col_indexer] = value instead\n",
      "\n",
      "See the caveats in the documentation: https://pandas.pydata.org/pandas-docs/stable/user_guide/indexing.html#returning-a-view-versus-a-copy\n",
      "  w_a_df['inside'] = w_a_df.apply(lambda row: isinside(barajas_zone,row['lat_deg'],row['lon_deg'])\n"
     ]
    },
    {
     "name": "stdout",
     "output_type": "stream",
     "text": [
      "1\n",
      "2\n"
     ]
    },
    {
     "name": "stderr",
     "output_type": "stream",
     "text": [
      "\n",
      "0it [00:00, ?it/s]\u001b[A\n",
      "1it [00:01,  1.96s/it]\u001b[A\n",
      "2it [00:03,  1.97s/it]\u001b[A\n",
      "3it [00:06,  2.04s/it]\u001b[A\n",
      "4it [00:08,  2.02s/it]\u001b[A\n",
      "C:\\Users\\1570074\\AppData\\Local\\Temp\\ipykernel_11432\\3951986721.py:119: SettingWithCopyWarning: \n",
      "A value is trying to be set on a copy of a slice from a DataFrame.\n",
      "Try using .loc[row_indexer,col_indexer] = value instead\n",
      "\n",
      "See the caveats in the documentation: https://pandas.pydata.org/pandas-docs/stable/user_guide/indexing.html#returning-a-view-versus-a-copy\n",
      "  model_df['min_dist'] = model_df.apply(lambda x: min_dist[min_dist['icao24']==x.icao24].rwy_dist.iloc[0] == x.rwy_dist ,axis=1)\n"
     ]
    },
    {
     "name": "stdout",
     "output_type": "stream",
     "text": [
      "3\n",
      "4\n"
     ]
    },
    {
     "name": "stderr",
     "output_type": "stream",
     "text": [
      "\r",
      " 83%|████████▎ | 20/24 [13:56<02:05, 31.40s/it]"
     ]
    },
    {
     "name": "stdout",
     "output_type": "stream",
     "text": [
      "0\n",
      "data/engage-hackathon-2025/year=2024/month=12/day=19/hour=6\n",
      "si\n"
     ]
    },
    {
     "name": "stderr",
     "output_type": "stream",
     "text": [
      "C:\\Users\\1570074\\AppData\\Local\\Temp\\ipykernel_11432\\3951986721.py:61: SettingWithCopyWarning: \n",
      "A value is trying to be set on a copy of a slice from a DataFrame.\n",
      "Try using .loc[row_indexer,col_indexer] = value instead\n",
      "\n",
      "See the caveats in the documentation: https://pandas.pydata.org/pandas-docs/stable/user_guide/indexing.html#returning-a-view-versus-a-copy\n",
      "  w_a_df['inside'] = w_a_df.apply(lambda row: isinside(barajas_zone,row['lat_deg'],row['lon_deg'])\n"
     ]
    },
    {
     "name": "stdout",
     "output_type": "stream",
     "text": [
      "1\n",
      "2\n"
     ]
    },
    {
     "name": "stderr",
     "output_type": "stream",
     "text": [
      "\n",
      "0it [00:00, ?it/s]\u001b[A\n",
      "1it [00:02,  2.22s/it]\u001b[A\n",
      "2it [00:04,  2.30s/it]\u001b[A\n",
      "3it [00:06,  2.29s/it]\u001b[A\n",
      "4it [00:09,  2.29s/it]\u001b[A\n",
      "C:\\Users\\1570074\\AppData\\Local\\Temp\\ipykernel_11432\\3951986721.py:119: SettingWithCopyWarning: \n",
      "A value is trying to be set on a copy of a slice from a DataFrame.\n",
      "Try using .loc[row_indexer,col_indexer] = value instead\n",
      "\n",
      "See the caveats in the documentation: https://pandas.pydata.org/pandas-docs/stable/user_guide/indexing.html#returning-a-view-versus-a-copy\n",
      "  model_df['min_dist'] = model_df.apply(lambda x: min_dist[min_dist['icao24']==x.icao24].rwy_dist.iloc[0] == x.rwy_dist ,axis=1)\n"
     ]
    },
    {
     "name": "stdout",
     "output_type": "stream",
     "text": [
      "3\n",
      "4\n"
     ]
    },
    {
     "name": "stderr",
     "output_type": "stream",
     "text": [
      "\r",
      " 88%|████████▊ | 21/24 [14:27<01:33, 31.17s/it]"
     ]
    },
    {
     "name": "stdout",
     "output_type": "stream",
     "text": [
      "0\n",
      "data/engage-hackathon-2025/year=2024/month=12/day=19/hour=7\n",
      "si\n"
     ]
    },
    {
     "name": "stderr",
     "output_type": "stream",
     "text": [
      "C:\\Users\\1570074\\AppData\\Local\\Temp\\ipykernel_11432\\3951986721.py:61: SettingWithCopyWarning: \n",
      "A value is trying to be set on a copy of a slice from a DataFrame.\n",
      "Try using .loc[row_indexer,col_indexer] = value instead\n",
      "\n",
      "See the caveats in the documentation: https://pandas.pydata.org/pandas-docs/stable/user_guide/indexing.html#returning-a-view-versus-a-copy\n",
      "  w_a_df['inside'] = w_a_df.apply(lambda row: isinside(barajas_zone,row['lat_deg'],row['lon_deg'])\n"
     ]
    },
    {
     "name": "stdout",
     "output_type": "stream",
     "text": [
      "1\n",
      "2\n"
     ]
    },
    {
     "name": "stderr",
     "output_type": "stream",
     "text": [
      "\n",
      "0it [00:00, ?it/s]\u001b[A\n",
      "1it [00:02,  2.88s/it]\u001b[A\n",
      "2it [00:05,  2.84s/it]\u001b[A\n",
      "3it [00:08,  2.86s/it]\u001b[A\n",
      "4it [00:11,  2.85s/it]\u001b[A\n",
      "C:\\Users\\1570074\\AppData\\Local\\Temp\\ipykernel_11432\\3951986721.py:119: SettingWithCopyWarning: \n",
      "A value is trying to be set on a copy of a slice from a DataFrame.\n",
      "Try using .loc[row_indexer,col_indexer] = value instead\n",
      "\n",
      "See the caveats in the documentation: https://pandas.pydata.org/pandas-docs/stable/user_guide/indexing.html#returning-a-view-versus-a-copy\n",
      "  model_df['min_dist'] = model_df.apply(lambda x: min_dist[min_dist['icao24']==x.icao24].rwy_dist.iloc[0] == x.rwy_dist ,axis=1)\n"
     ]
    },
    {
     "name": "stdout",
     "output_type": "stream",
     "text": [
      "3\n",
      "4\n"
     ]
    },
    {
     "name": "stderr",
     "output_type": "stream",
     "text": [
      "\r",
      " 92%|█████████▏| 22/24 [15:01<01:03, 31.92s/it]"
     ]
    },
    {
     "name": "stdout",
     "output_type": "stream",
     "text": [
      "0\n",
      "data/engage-hackathon-2025/year=2024/month=12/day=19/hour=8\n",
      "si\n"
     ]
    },
    {
     "name": "stderr",
     "output_type": "stream",
     "text": [
      "C:\\Users\\1570074\\AppData\\Local\\Temp\\ipykernel_11432\\3951986721.py:61: SettingWithCopyWarning: \n",
      "A value is trying to be set on a copy of a slice from a DataFrame.\n",
      "Try using .loc[row_indexer,col_indexer] = value instead\n",
      "\n",
      "See the caveats in the documentation: https://pandas.pydata.org/pandas-docs/stable/user_guide/indexing.html#returning-a-view-versus-a-copy\n",
      "  w_a_df['inside'] = w_a_df.apply(lambda row: isinside(barajas_zone,row['lat_deg'],row['lon_deg'])\n"
     ]
    },
    {
     "name": "stdout",
     "output_type": "stream",
     "text": [
      "1\n",
      "2\n"
     ]
    },
    {
     "name": "stderr",
     "output_type": "stream",
     "text": [
      "\n",
      "0it [00:00, ?it/s]\u001b[A\n",
      "1it [00:04,  4.21s/it]\u001b[A\n",
      "2it [00:08,  4.21s/it]\u001b[A\n",
      "3it [00:12,  4.27s/it]\u001b[A\n",
      "4it [00:17,  4.28s/it]\u001b[A\n",
      "C:\\Users\\1570074\\AppData\\Local\\Temp\\ipykernel_11432\\3951986721.py:119: SettingWithCopyWarning: \n",
      "A value is trying to be set on a copy of a slice from a DataFrame.\n",
      "Try using .loc[row_indexer,col_indexer] = value instead\n",
      "\n",
      "See the caveats in the documentation: https://pandas.pydata.org/pandas-docs/stable/user_guide/indexing.html#returning-a-view-versus-a-copy\n",
      "  model_df['min_dist'] = model_df.apply(lambda x: min_dist[min_dist['icao24']==x.icao24].rwy_dist.iloc[0] == x.rwy_dist ,axis=1)\n"
     ]
    },
    {
     "name": "stdout",
     "output_type": "stream",
     "text": [
      "3\n",
      "4\n"
     ]
    },
    {
     "name": "stderr",
     "output_type": "stream",
     "text": [
      "\r",
      " 96%|█████████▌| 23/24 [15:48<00:36, 36.54s/it]"
     ]
    },
    {
     "name": "stdout",
     "output_type": "stream",
     "text": [
      "0\n",
      "data/engage-hackathon-2025/year=2024/month=12/day=19/hour=9\n",
      "si\n"
     ]
    },
    {
     "name": "stderr",
     "output_type": "stream",
     "text": [
      "C:\\Users\\1570074\\AppData\\Local\\Temp\\ipykernel_11432\\3951986721.py:61: SettingWithCopyWarning: \n",
      "A value is trying to be set on a copy of a slice from a DataFrame.\n",
      "Try using .loc[row_indexer,col_indexer] = value instead\n",
      "\n",
      "See the caveats in the documentation: https://pandas.pydata.org/pandas-docs/stable/user_guide/indexing.html#returning-a-view-versus-a-copy\n",
      "  w_a_df['inside'] = w_a_df.apply(lambda row: isinside(barajas_zone,row['lat_deg'],row['lon_deg'])\n"
     ]
    },
    {
     "name": "stdout",
     "output_type": "stream",
     "text": [
      "1\n",
      "2\n"
     ]
    },
    {
     "name": "stderr",
     "output_type": "stream",
     "text": [
      "\n",
      "0it [00:00, ?it/s]\u001b[A\n",
      "1it [00:06,  6.71s/it]\u001b[A\n",
      "2it [00:13,  6.72s/it]\u001b[A\n",
      "3it [00:21,  7.23s/it]\u001b[A\n",
      "4it [00:29,  7.32s/it]\u001b[A\n",
      "C:\\Users\\1570074\\AppData\\Local\\Temp\\ipykernel_11432\\3951986721.py:119: SettingWithCopyWarning: \n",
      "A value is trying to be set on a copy of a slice from a DataFrame.\n",
      "Try using .loc[row_indexer,col_indexer] = value instead\n",
      "\n",
      "See the caveats in the documentation: https://pandas.pydata.org/pandas-docs/stable/user_guide/indexing.html#returning-a-view-versus-a-copy\n",
      "  model_df['min_dist'] = model_df.apply(lambda x: min_dist[min_dist['icao24']==x.icao24].rwy_dist.iloc[0] == x.rwy_dist ,axis=1)\n"
     ]
    },
    {
     "name": "stdout",
     "output_type": "stream",
     "text": [
      "3\n",
      "4\n"
     ]
    },
    {
     "name": "stderr",
     "output_type": "stream",
     "text": [
      "100%|██████████| 24/24 [17:09<00:00, 42.88s/it]\n",
      "  0%|          | 0/21 [00:00<?, ?it/s]"
     ]
    },
    {
     "name": "stdout",
     "output_type": "stream",
     "text": [
      "0\n",
      "data/engage-hackathon-2025/year=2024/month=12/day=2/hour=10\n",
      "si\n"
     ]
    },
    {
     "name": "stderr",
     "output_type": "stream",
     "text": [
      "C:\\Users\\1570074\\AppData\\Local\\Temp\\ipykernel_11432\\3951986721.py:61: SettingWithCopyWarning: \n",
      "A value is trying to be set on a copy of a slice from a DataFrame.\n",
      "Try using .loc[row_indexer,col_indexer] = value instead\n",
      "\n",
      "See the caveats in the documentation: https://pandas.pydata.org/pandas-docs/stable/user_guide/indexing.html#returning-a-view-versus-a-copy\n",
      "  w_a_df['inside'] = w_a_df.apply(lambda row: isinside(barajas_zone,row['lat_deg'],row['lon_deg'])\n"
     ]
    },
    {
     "name": "stdout",
     "output_type": "stream",
     "text": [
      "1\n",
      "2\n"
     ]
    },
    {
     "name": "stderr",
     "output_type": "stream",
     "text": [
      "\n",
      "0it [00:00, ?it/s]\u001b[A\n",
      "1it [00:06,  6.26s/it]\u001b[A\n",
      "2it [00:12,  6.53s/it]\u001b[A\n",
      "3it [00:20,  7.06s/it]\u001b[A\n",
      "4it [00:28,  7.13s/it]\u001b[A\n",
      "C:\\Users\\1570074\\AppData\\Local\\Temp\\ipykernel_11432\\3951986721.py:119: SettingWithCopyWarning: \n",
      "A value is trying to be set on a copy of a slice from a DataFrame.\n",
      "Try using .loc[row_indexer,col_indexer] = value instead\n",
      "\n",
      "See the caveats in the documentation: https://pandas.pydata.org/pandas-docs/stable/user_guide/indexing.html#returning-a-view-versus-a-copy\n",
      "  model_df['min_dist'] = model_df.apply(lambda x: min_dist[min_dist['icao24']==x.icao24].rwy_dist.iloc[0] == x.rwy_dist ,axis=1)\n"
     ]
    },
    {
     "name": "stdout",
     "output_type": "stream",
     "text": [
      "3\n",
      "4\n"
     ]
    },
    {
     "name": "stderr",
     "output_type": "stream",
     "text": [
      "\r",
      "  5%|▍         | 1/21 [01:24<28:02, 84.12s/it]"
     ]
    },
    {
     "name": "stdout",
     "output_type": "stream",
     "text": [
      "0\n",
      "data/engage-hackathon-2025/year=2024/month=12/day=2/hour=11\n",
      "si\n"
     ]
    },
    {
     "name": "stderr",
     "output_type": "stream",
     "text": [
      "C:\\Users\\1570074\\AppData\\Local\\Temp\\ipykernel_11432\\3951986721.py:61: SettingWithCopyWarning: \n",
      "A value is trying to be set on a copy of a slice from a DataFrame.\n",
      "Try using .loc[row_indexer,col_indexer] = value instead\n",
      "\n",
      "See the caveats in the documentation: https://pandas.pydata.org/pandas-docs/stable/user_guide/indexing.html#returning-a-view-versus-a-copy\n",
      "  w_a_df['inside'] = w_a_df.apply(lambda row: isinside(barajas_zone,row['lat_deg'],row['lon_deg'])\n"
     ]
    },
    {
     "name": "stdout",
     "output_type": "stream",
     "text": [
      "1\n",
      "2\n"
     ]
    },
    {
     "name": "stderr",
     "output_type": "stream",
     "text": [
      "\n",
      "0it [00:00, ?it/s]\u001b[A\n",
      "1it [00:04,  4.91s/it]\u001b[A\n",
      "2it [00:10,  5.09s/it]\u001b[A\n",
      "3it [00:15,  5.04s/it]\u001b[A\n",
      "4it [00:20,  5.10s/it]\u001b[A\n",
      "C:\\Users\\1570074\\AppData\\Local\\Temp\\ipykernel_11432\\3951986721.py:119: SettingWithCopyWarning: \n",
      "A value is trying to be set on a copy of a slice from a DataFrame.\n",
      "Try using .loc[row_indexer,col_indexer] = value instead\n",
      "\n",
      "See the caveats in the documentation: https://pandas.pydata.org/pandas-docs/stable/user_guide/indexing.html#returning-a-view-versus-a-copy\n",
      "  model_df['min_dist'] = model_df.apply(lambda x: min_dist[min_dist['icao24']==x.icao24].rwy_dist.iloc[0] == x.rwy_dist ,axis=1)\n"
     ]
    },
    {
     "name": "stdout",
     "output_type": "stream",
     "text": [
      "3\n",
      "4\n"
     ]
    },
    {
     "name": "stderr",
     "output_type": "stream",
     "text": [
      "\r",
      " 10%|▉         | 2/21 [02:26<22:36, 71.39s/it]"
     ]
    },
    {
     "name": "stdout",
     "output_type": "stream",
     "text": [
      "0\n",
      "data/engage-hackathon-2025/year=2024/month=12/day=2/hour=12\n",
      "si\n"
     ]
    },
    {
     "name": "stderr",
     "output_type": "stream",
     "text": [
      "C:\\Users\\1570074\\AppData\\Local\\Temp\\ipykernel_11432\\3951986721.py:61: SettingWithCopyWarning: \n",
      "A value is trying to be set on a copy of a slice from a DataFrame.\n",
      "Try using .loc[row_indexer,col_indexer] = value instead\n",
      "\n",
      "See the caveats in the documentation: https://pandas.pydata.org/pandas-docs/stable/user_guide/indexing.html#returning-a-view-versus-a-copy\n",
      "  w_a_df['inside'] = w_a_df.apply(lambda row: isinside(barajas_zone,row['lat_deg'],row['lon_deg'])\n"
     ]
    },
    {
     "name": "stdout",
     "output_type": "stream",
     "text": [
      "1\n",
      "2\n"
     ]
    },
    {
     "name": "stderr",
     "output_type": "stream",
     "text": [
      "\n",
      "0it [00:00, ?it/s]\u001b[A\n",
      "1it [00:08,  8.24s/it]\u001b[A\n",
      "2it [00:16,  8.14s/it]\u001b[A\n",
      "3it [00:24,  8.30s/it]\u001b[A\n",
      "4it [00:33,  8.29s/it]\u001b[A\n",
      "C:\\Users\\1570074\\AppData\\Local\\Temp\\ipykernel_11432\\3951986721.py:119: SettingWithCopyWarning: \n",
      "A value is trying to be set on a copy of a slice from a DataFrame.\n",
      "Try using .loc[row_indexer,col_indexer] = value instead\n",
      "\n",
      "See the caveats in the documentation: https://pandas.pydata.org/pandas-docs/stable/user_guide/indexing.html#returning-a-view-versus-a-copy\n",
      "  model_df['min_dist'] = model_df.apply(lambda x: min_dist[min_dist['icao24']==x.icao24].rwy_dist.iloc[0] == x.rwy_dist ,axis=1)\n"
     ]
    },
    {
     "name": "stdout",
     "output_type": "stream",
     "text": [
      "3\n",
      "4\n"
     ]
    },
    {
     "name": "stderr",
     "output_type": "stream",
     "text": [
      "\r",
      " 14%|█▍        | 3/21 [04:05<25:14, 84.15s/it]"
     ]
    },
    {
     "name": "stdout",
     "output_type": "stream",
     "text": [
      "0\n",
      "data/engage-hackathon-2025/year=2024/month=12/day=2/hour=13\n",
      "si\n"
     ]
    },
    {
     "name": "stderr",
     "output_type": "stream",
     "text": [
      "C:\\Users\\1570074\\AppData\\Local\\Temp\\ipykernel_11432\\3951986721.py:61: SettingWithCopyWarning: \n",
      "A value is trying to be set on a copy of a slice from a DataFrame.\n",
      "Try using .loc[row_indexer,col_indexer] = value instead\n",
      "\n",
      "See the caveats in the documentation: https://pandas.pydata.org/pandas-docs/stable/user_guide/indexing.html#returning-a-view-versus-a-copy\n",
      "  w_a_df['inside'] = w_a_df.apply(lambda row: isinside(barajas_zone,row['lat_deg'],row['lon_deg'])\n"
     ]
    },
    {
     "name": "stdout",
     "output_type": "stream",
     "text": [
      "1\n",
      "2\n"
     ]
    },
    {
     "name": "stderr",
     "output_type": "stream",
     "text": [
      "\n",
      "0it [00:00, ?it/s]\u001b[A\n",
      "1it [00:07,  7.41s/it]\u001b[A\n",
      "2it [00:14,  7.21s/it]\u001b[A\n",
      "3it [00:22,  7.38s/it]\u001b[A\n",
      "4it [00:29,  7.27s/it]\u001b[A\n",
      "C:\\Users\\1570074\\AppData\\Local\\Temp\\ipykernel_11432\\3951986721.py:119: SettingWithCopyWarning: \n",
      "A value is trying to be set on a copy of a slice from a DataFrame.\n",
      "Try using .loc[row_indexer,col_indexer] = value instead\n",
      "\n",
      "See the caveats in the documentation: https://pandas.pydata.org/pandas-docs/stable/user_guide/indexing.html#returning-a-view-versus-a-copy\n",
      "  model_df['min_dist'] = model_df.apply(lambda x: min_dist[min_dist['icao24']==x.icao24].rwy_dist.iloc[0] == x.rwy_dist ,axis=1)\n"
     ]
    },
    {
     "name": "stdout",
     "output_type": "stream",
     "text": [
      "3\n",
      "4\n"
     ]
    },
    {
     "name": "stderr",
     "output_type": "stream",
     "text": [
      "\r",
      " 19%|█▉        | 4/21 [05:24<23:13, 81.98s/it]"
     ]
    },
    {
     "name": "stdout",
     "output_type": "stream",
     "text": [
      "0\n",
      "data/engage-hackathon-2025/year=2024/month=12/day=2/hour=14\n",
      "si\n"
     ]
    },
    {
     "name": "stderr",
     "output_type": "stream",
     "text": [
      "C:\\Users\\1570074\\AppData\\Local\\Temp\\ipykernel_11432\\3951986721.py:61: SettingWithCopyWarning: \n",
      "A value is trying to be set on a copy of a slice from a DataFrame.\n",
      "Try using .loc[row_indexer,col_indexer] = value instead\n",
      "\n",
      "See the caveats in the documentation: https://pandas.pydata.org/pandas-docs/stable/user_guide/indexing.html#returning-a-view-versus-a-copy\n",
      "  w_a_df['inside'] = w_a_df.apply(lambda row: isinside(barajas_zone,row['lat_deg'],row['lon_deg'])\n"
     ]
    },
    {
     "name": "stdout",
     "output_type": "stream",
     "text": [
      "1\n",
      "2\n"
     ]
    },
    {
     "name": "stderr",
     "output_type": "stream",
     "text": [
      "\n",
      "0it [00:00, ?it/s]\u001b[A\n",
      "1it [00:02,  2.97s/it]\u001b[A\n",
      "2it [00:05,  2.93s/it]\u001b[A\n",
      "3it [00:08,  2.97s/it]\u001b[A\n",
      "4it [00:11,  2.98s/it]\u001b[A\n",
      "C:\\Users\\1570074\\AppData\\Local\\Temp\\ipykernel_11432\\3951986721.py:119: SettingWithCopyWarning: \n",
      "A value is trying to be set on a copy of a slice from a DataFrame.\n",
      "Try using .loc[row_indexer,col_indexer] = value instead\n",
      "\n",
      "See the caveats in the documentation: https://pandas.pydata.org/pandas-docs/stable/user_guide/indexing.html#returning-a-view-versus-a-copy\n",
      "  model_df['min_dist'] = model_df.apply(lambda x: min_dist[min_dist['icao24']==x.icao24].rwy_dist.iloc[0] == x.rwy_dist ,axis=1)\n"
     ]
    },
    {
     "name": "stdout",
     "output_type": "stream",
     "text": [
      "3\n",
      "4\n"
     ]
    },
    {
     "name": "stderr",
     "output_type": "stream",
     "text": [
      "\r",
      " 24%|██▍       | 5/21 [06:00<17:23, 65.19s/it]"
     ]
    },
    {
     "name": "stdout",
     "output_type": "stream",
     "text": [
      "0\n",
      "data/engage-hackathon-2025/year=2024/month=12/day=2/hour=15\n",
      "si\n"
     ]
    },
    {
     "name": "stderr",
     "output_type": "stream",
     "text": [
      "C:\\Users\\1570074\\AppData\\Local\\Temp\\ipykernel_11432\\3951986721.py:61: SettingWithCopyWarning: \n",
      "A value is trying to be set on a copy of a slice from a DataFrame.\n",
      "Try using .loc[row_indexer,col_indexer] = value instead\n",
      "\n",
      "See the caveats in the documentation: https://pandas.pydata.org/pandas-docs/stable/user_guide/indexing.html#returning-a-view-versus-a-copy\n",
      "  w_a_df['inside'] = w_a_df.apply(lambda row: isinside(barajas_zone,row['lat_deg'],row['lon_deg'])\n"
     ]
    },
    {
     "name": "stdout",
     "output_type": "stream",
     "text": [
      "1\n",
      "2\n"
     ]
    },
    {
     "name": "stderr",
     "output_type": "stream",
     "text": [
      "\n",
      "0it [00:00, ?it/s]\u001b[A\n",
      "1it [00:02,  2.65s/it]\u001b[A\n",
      "2it [00:05,  2.72s/it]\u001b[A\n",
      "3it [00:08,  2.71s/it]\u001b[A\n",
      "4it [00:10,  2.68s/it]\u001b[A\n",
      "C:\\Users\\1570074\\AppData\\Local\\Temp\\ipykernel_11432\\3951986721.py:119: SettingWithCopyWarning: \n",
      "A value is trying to be set on a copy of a slice from a DataFrame.\n",
      "Try using .loc[row_indexer,col_indexer] = value instead\n",
      "\n",
      "See the caveats in the documentation: https://pandas.pydata.org/pandas-docs/stable/user_guide/indexing.html#returning-a-view-versus-a-copy\n",
      "  model_df['min_dist'] = model_df.apply(lambda x: min_dist[min_dist['icao24']==x.icao24].rwy_dist.iloc[0] == x.rwy_dist ,axis=1)\n"
     ]
    },
    {
     "name": "stdout",
     "output_type": "stream",
     "text": [
      "3\n",
      "4\n"
     ]
    },
    {
     "name": "stderr",
     "output_type": "stream",
     "text": [
      "\r",
      " 29%|██▊       | 6/21 [06:35<13:44, 54.97s/it]"
     ]
    },
    {
     "name": "stdout",
     "output_type": "stream",
     "text": [
      "0\n",
      "data/engage-hackathon-2025/year=2024/month=12/day=2/hour=16\n",
      "si\n"
     ]
    },
    {
     "name": "stderr",
     "output_type": "stream",
     "text": [
      "C:\\Users\\1570074\\AppData\\Local\\Temp\\ipykernel_11432\\3951986721.py:61: SettingWithCopyWarning: \n",
      "A value is trying to be set on a copy of a slice from a DataFrame.\n",
      "Try using .loc[row_indexer,col_indexer] = value instead\n",
      "\n",
      "See the caveats in the documentation: https://pandas.pydata.org/pandas-docs/stable/user_guide/indexing.html#returning-a-view-versus-a-copy\n",
      "  w_a_df['inside'] = w_a_df.apply(lambda row: isinside(barajas_zone,row['lat_deg'],row['lon_deg'])\n"
     ]
    },
    {
     "name": "stdout",
     "output_type": "stream",
     "text": [
      "1\n",
      "2\n"
     ]
    },
    {
     "name": "stderr",
     "output_type": "stream",
     "text": [
      "\n",
      "0it [00:00, ?it/s]\u001b[A\n",
      "1it [00:02,  2.68s/it]\u001b[A\n",
      "2it [00:05,  2.69s/it]\u001b[A\n",
      "3it [00:07,  2.65s/it]\u001b[A\n",
      "4it [00:10,  2.63s/it]\u001b[A\n",
      "C:\\Users\\1570074\\AppData\\Local\\Temp\\ipykernel_11432\\3951986721.py:119: SettingWithCopyWarning: \n",
      "A value is trying to be set on a copy of a slice from a DataFrame.\n",
      "Try using .loc[row_indexer,col_indexer] = value instead\n",
      "\n",
      "See the caveats in the documentation: https://pandas.pydata.org/pandas-docs/stable/user_guide/indexing.html#returning-a-view-versus-a-copy\n",
      "  model_df['min_dist'] = model_df.apply(lambda x: min_dist[min_dist['icao24']==x.icao24].rwy_dist.iloc[0] == x.rwy_dist ,axis=1)\n"
     ]
    },
    {
     "name": "stdout",
     "output_type": "stream",
     "text": [
      "3\n",
      "4\n"
     ]
    },
    {
     "name": "stderr",
     "output_type": "stream",
     "text": [
      "\r",
      " 33%|███▎      | 7/21 [07:04<10:50, 46.47s/it]"
     ]
    },
    {
     "name": "stdout",
     "output_type": "stream",
     "text": [
      "0\n",
      "data/engage-hackathon-2025/year=2024/month=12/day=2/hour=17\n",
      "si\n"
     ]
    },
    {
     "name": "stderr",
     "output_type": "stream",
     "text": [
      "C:\\Users\\1570074\\AppData\\Local\\Temp\\ipykernel_11432\\3951986721.py:61: SettingWithCopyWarning: \n",
      "A value is trying to be set on a copy of a slice from a DataFrame.\n",
      "Try using .loc[row_indexer,col_indexer] = value instead\n",
      "\n",
      "See the caveats in the documentation: https://pandas.pydata.org/pandas-docs/stable/user_guide/indexing.html#returning-a-view-versus-a-copy\n",
      "  w_a_df['inside'] = w_a_df.apply(lambda row: isinside(barajas_zone,row['lat_deg'],row['lon_deg'])\n"
     ]
    },
    {
     "name": "stdout",
     "output_type": "stream",
     "text": [
      "1\n",
      "2\n"
     ]
    },
    {
     "name": "stderr",
     "output_type": "stream",
     "text": [
      "\n",
      "0it [00:00, ?it/s]\u001b[A\n",
      "1it [00:06,  6.34s/it]\u001b[A\n",
      "2it [00:12,  6.24s/it]\u001b[A\n",
      "3it [00:18,  6.24s/it]\u001b[A\n",
      "4it [00:24,  6.23s/it]\u001b[A\n",
      "C:\\Users\\1570074\\AppData\\Local\\Temp\\ipykernel_11432\\3951986721.py:119: SettingWithCopyWarning: \n",
      "A value is trying to be set on a copy of a slice from a DataFrame.\n",
      "Try using .loc[row_indexer,col_indexer] = value instead\n",
      "\n",
      "See the caveats in the documentation: https://pandas.pydata.org/pandas-docs/stable/user_guide/indexing.html#returning-a-view-versus-a-copy\n",
      "  model_df['min_dist'] = model_df.apply(lambda x: min_dist[min_dist['icao24']==x.icao24].rwy_dist.iloc[0] == x.rwy_dist ,axis=1)\n"
     ]
    },
    {
     "name": "stdout",
     "output_type": "stream",
     "text": [
      "3\n",
      "4\n"
     ]
    },
    {
     "name": "stderr",
     "output_type": "stream",
     "text": [
      "\r",
      " 38%|███▊      | 8/21 [08:14<11:43, 54.12s/it]"
     ]
    },
    {
     "name": "stdout",
     "output_type": "stream",
     "text": [
      "0\n",
      "data/engage-hackathon-2025/year=2024/month=12/day=2/hour=18\n",
      "si\n"
     ]
    },
    {
     "name": "stderr",
     "output_type": "stream",
     "text": [
      "C:\\Users\\1570074\\AppData\\Local\\Temp\\ipykernel_11432\\3951986721.py:61: SettingWithCopyWarning: \n",
      "A value is trying to be set on a copy of a slice from a DataFrame.\n",
      "Try using .loc[row_indexer,col_indexer] = value instead\n",
      "\n",
      "See the caveats in the documentation: https://pandas.pydata.org/pandas-docs/stable/user_guide/indexing.html#returning-a-view-versus-a-copy\n",
      "  w_a_df['inside'] = w_a_df.apply(lambda row: isinside(barajas_zone,row['lat_deg'],row['lon_deg'])\n"
     ]
    },
    {
     "name": "stdout",
     "output_type": "stream",
     "text": [
      "1\n",
      "2\n"
     ]
    },
    {
     "name": "stderr",
     "output_type": "stream",
     "text": [
      "\n",
      "0it [00:00, ?it/s]\u001b[A\n",
      "1it [00:03,  3.18s/it]\u001b[A\n",
      "2it [00:06,  3.17s/it]\u001b[A\n",
      "3it [00:09,  3.22s/it]\u001b[A\n",
      "4it [00:12,  3.22s/it]\u001b[A\n",
      "C:\\Users\\1570074\\AppData\\Local\\Temp\\ipykernel_11432\\3951986721.py:119: SettingWithCopyWarning: \n",
      "A value is trying to be set on a copy of a slice from a DataFrame.\n",
      "Try using .loc[row_indexer,col_indexer] = value instead\n",
      "\n",
      "See the caveats in the documentation: https://pandas.pydata.org/pandas-docs/stable/user_guide/indexing.html#returning-a-view-versus-a-copy\n",
      "  model_df['min_dist'] = model_df.apply(lambda x: min_dist[min_dist['icao24']==x.icao24].rwy_dist.iloc[0] == x.rwy_dist ,axis=1)\n"
     ]
    },
    {
     "name": "stdout",
     "output_type": "stream",
     "text": [
      "3\n",
      "4\n"
     ]
    },
    {
     "name": "stderr",
     "output_type": "stream",
     "text": [
      "\r",
      " 43%|████▎     | 9/21 [08:55<10:01, 50.12s/it]"
     ]
    },
    {
     "name": "stdout",
     "output_type": "stream",
     "text": [
      "0\n",
      "data/engage-hackathon-2025/year=2024/month=12/day=2/hour=19\n",
      "si\n"
     ]
    },
    {
     "name": "stderr",
     "output_type": "stream",
     "text": [
      "C:\\Users\\1570074\\AppData\\Local\\Temp\\ipykernel_11432\\3951986721.py:61: SettingWithCopyWarning: \n",
      "A value is trying to be set on a copy of a slice from a DataFrame.\n",
      "Try using .loc[row_indexer,col_indexer] = value instead\n",
      "\n",
      "See the caveats in the documentation: https://pandas.pydata.org/pandas-docs/stable/user_guide/indexing.html#returning-a-view-versus-a-copy\n",
      "  w_a_df['inside'] = w_a_df.apply(lambda row: isinside(barajas_zone,row['lat_deg'],row['lon_deg'])\n"
     ]
    },
    {
     "name": "stdout",
     "output_type": "stream",
     "text": [
      "1\n",
      "2\n"
     ]
    },
    {
     "name": "stderr",
     "output_type": "stream",
     "text": [
      "\n",
      "0it [00:00, ?it/s]\u001b[A\n",
      "1it [00:03,  3.31s/it]\u001b[A\n",
      "2it [00:06,  3.45s/it]\u001b[A\n",
      "3it [00:10,  3.42s/it]\u001b[A\n",
      "4it [00:13,  3.41s/it]\u001b[A\n",
      "C:\\Users\\1570074\\AppData\\Local\\Temp\\ipykernel_11432\\3951986721.py:119: SettingWithCopyWarning: \n",
      "A value is trying to be set on a copy of a slice from a DataFrame.\n",
      "Try using .loc[row_indexer,col_indexer] = value instead\n",
      "\n",
      "See the caveats in the documentation: https://pandas.pydata.org/pandas-docs/stable/user_guide/indexing.html#returning-a-view-versus-a-copy\n",
      "  model_df['min_dist'] = model_df.apply(lambda x: min_dist[min_dist['icao24']==x.icao24].rwy_dist.iloc[0] == x.rwy_dist ,axis=1)\n"
     ]
    },
    {
     "name": "stdout",
     "output_type": "stream",
     "text": [
      "3\n",
      "4\n"
     ]
    },
    {
     "name": "stderr",
     "output_type": "stream",
     "text": [
      "\r",
      " 48%|████▊     | 10/21 [09:38<08:46, 47.83s/it]"
     ]
    },
    {
     "name": "stdout",
     "output_type": "stream",
     "text": [
      "0\n",
      "data/engage-hackathon-2025/year=2024/month=12/day=2/hour=20\n",
      "si\n"
     ]
    },
    {
     "name": "stderr",
     "output_type": "stream",
     "text": [
      "C:\\Users\\1570074\\AppData\\Local\\Temp\\ipykernel_11432\\3951986721.py:61: SettingWithCopyWarning: \n",
      "A value is trying to be set on a copy of a slice from a DataFrame.\n",
      "Try using .loc[row_indexer,col_indexer] = value instead\n",
      "\n",
      "See the caveats in the documentation: https://pandas.pydata.org/pandas-docs/stable/user_guide/indexing.html#returning-a-view-versus-a-copy\n",
      "  w_a_df['inside'] = w_a_df.apply(lambda row: isinside(barajas_zone,row['lat_deg'],row['lon_deg'])\n"
     ]
    },
    {
     "name": "stdout",
     "output_type": "stream",
     "text": [
      "1\n",
      "2\n"
     ]
    },
    {
     "name": "stderr",
     "output_type": "stream",
     "text": [
      "\n",
      "0it [00:00, ?it/s]\u001b[A\n",
      "1it [00:04,  4.02s/it]\u001b[A\n",
      "2it [00:08,  4.11s/it]\u001b[A\n",
      "3it [00:12,  4.20s/it]\u001b[A\n",
      "4it [00:16,  4.16s/it]\u001b[A\n",
      "C:\\Users\\1570074\\AppData\\Local\\Temp\\ipykernel_11432\\3951986721.py:119: SettingWithCopyWarning: \n",
      "A value is trying to be set on a copy of a slice from a DataFrame.\n",
      "Try using .loc[row_indexer,col_indexer] = value instead\n",
      "\n",
      "See the caveats in the documentation: https://pandas.pydata.org/pandas-docs/stable/user_guide/indexing.html#returning-a-view-versus-a-copy\n",
      "  model_df['min_dist'] = model_df.apply(lambda x: min_dist[min_dist['icao24']==x.icao24].rwy_dist.iloc[0] == x.rwy_dist ,axis=1)\n"
     ]
    },
    {
     "name": "stdout",
     "output_type": "stream",
     "text": [
      "3\n",
      "4\n"
     ]
    },
    {
     "name": "stderr",
     "output_type": "stream",
     "text": [
      "\r",
      " 52%|█████▏    | 11/21 [10:34<08:23, 50.32s/it]"
     ]
    },
    {
     "name": "stdout",
     "output_type": "stream",
     "text": [
      "0\n",
      "data/engage-hackathon-2025/year=2024/month=12/day=2/hour=21\n",
      "si\n"
     ]
    },
    {
     "name": "stderr",
     "output_type": "stream",
     "text": [
      "C:\\Users\\1570074\\AppData\\Local\\Temp\\ipykernel_11432\\3951986721.py:61: SettingWithCopyWarning: \n",
      "A value is trying to be set on a copy of a slice from a DataFrame.\n",
      "Try using .loc[row_indexer,col_indexer] = value instead\n",
      "\n",
      "See the caveats in the documentation: https://pandas.pydata.org/pandas-docs/stable/user_guide/indexing.html#returning-a-view-versus-a-copy\n",
      "  w_a_df['inside'] = w_a_df.apply(lambda row: isinside(barajas_zone,row['lat_deg'],row['lon_deg'])\n"
     ]
    },
    {
     "name": "stdout",
     "output_type": "stream",
     "text": [
      "1\n",
      "2\n"
     ]
    },
    {
     "name": "stderr",
     "output_type": "stream",
     "text": [
      "\n",
      "0it [00:00, ?it/s]\u001b[A\n",
      "1it [00:06,  6.21s/it]\u001b[A\n",
      "2it [00:11,  5.78s/it]\u001b[A\n",
      "3it [00:17,  5.71s/it]\u001b[A\n",
      "4it [00:22,  5.70s/it]\u001b[A\n",
      "C:\\Users\\1570074\\AppData\\Local\\Temp\\ipykernel_11432\\3951986721.py:119: SettingWithCopyWarning: \n",
      "A value is trying to be set on a copy of a slice from a DataFrame.\n",
      "Try using .loc[row_indexer,col_indexer] = value instead\n",
      "\n",
      "See the caveats in the documentation: https://pandas.pydata.org/pandas-docs/stable/user_guide/indexing.html#returning-a-view-versus-a-copy\n",
      "  model_df['min_dist'] = model_df.apply(lambda x: min_dist[min_dist['icao24']==x.icao24].rwy_dist.iloc[0] == x.rwy_dist ,axis=1)\n"
     ]
    },
    {
     "name": "stdout",
     "output_type": "stream",
     "text": [
      "3\n",
      "4\n"
     ]
    },
    {
     "name": "stderr",
     "output_type": "stream",
     "text": [
      "\r",
      " 57%|█████▋    | 12/21 [11:44<08:25, 56.19s/it]"
     ]
    },
    {
     "name": "stdout",
     "output_type": "stream",
     "text": [
      "0\n",
      "data/engage-hackathon-2025/year=2024/month=12/day=2/hour=22\n",
      "si\n"
     ]
    },
    {
     "name": "stderr",
     "output_type": "stream",
     "text": [
      "C:\\Users\\1570074\\AppData\\Local\\Temp\\ipykernel_11432\\3951986721.py:61: SettingWithCopyWarning: \n",
      "A value is trying to be set on a copy of a slice from a DataFrame.\n",
      "Try using .loc[row_indexer,col_indexer] = value instead\n",
      "\n",
      "See the caveats in the documentation: https://pandas.pydata.org/pandas-docs/stable/user_guide/indexing.html#returning-a-view-versus-a-copy\n",
      "  w_a_df['inside'] = w_a_df.apply(lambda row: isinside(barajas_zone,row['lat_deg'],row['lon_deg'])\n"
     ]
    },
    {
     "name": "stdout",
     "output_type": "stream",
     "text": [
      "1\n",
      "2\n"
     ]
    },
    {
     "name": "stderr",
     "output_type": "stream",
     "text": [
      "\n",
      "0it [00:00, ?it/s]\u001b[A\n",
      "1it [00:02,  2.42s/it]\u001b[A\n",
      "2it [00:04,  2.36s/it]\u001b[A\n",
      "3it [00:07,  2.36s/it]\u001b[A\n",
      "4it [00:09,  2.36s/it]\u001b[A\n",
      "C:\\Users\\1570074\\AppData\\Local\\Temp\\ipykernel_11432\\3951986721.py:119: SettingWithCopyWarning: \n",
      "A value is trying to be set on a copy of a slice from a DataFrame.\n",
      "Try using .loc[row_indexer,col_indexer] = value instead\n",
      "\n",
      "See the caveats in the documentation: https://pandas.pydata.org/pandas-docs/stable/user_guide/indexing.html#returning-a-view-versus-a-copy\n",
      "  model_df['min_dist'] = model_df.apply(lambda x: min_dist[min_dist['icao24']==x.icao24].rwy_dist.iloc[0] == x.rwy_dist ,axis=1)\n"
     ]
    },
    {
     "name": "stdout",
     "output_type": "stream",
     "text": [
      "3\n",
      "4\n"
     ]
    },
    {
     "name": "stderr",
     "output_type": "stream",
     "text": [
      "\r",
      " 62%|██████▏   | 13/21 [12:13<06:23, 47.93s/it]"
     ]
    },
    {
     "name": "stdout",
     "output_type": "stream",
     "text": [
      "0\n",
      "data/engage-hackathon-2025/year=2024/month=12/day=2/hour=23\n",
      "si\n"
     ]
    },
    {
     "name": "stderr",
     "output_type": "stream",
     "text": [
      "C:\\Users\\1570074\\AppData\\Local\\Temp\\ipykernel_11432\\3951986721.py:61: SettingWithCopyWarning: \n",
      "A value is trying to be set on a copy of a slice from a DataFrame.\n",
      "Try using .loc[row_indexer,col_indexer] = value instead\n",
      "\n",
      "See the caveats in the documentation: https://pandas.pydata.org/pandas-docs/stable/user_guide/indexing.html#returning-a-view-versus-a-copy\n",
      "  w_a_df['inside'] = w_a_df.apply(lambda row: isinside(barajas_zone,row['lat_deg'],row['lon_deg'])\n"
     ]
    },
    {
     "name": "stdout",
     "output_type": "stream",
     "text": [
      "1\n",
      "2\n"
     ]
    },
    {
     "name": "stderr",
     "output_type": "stream",
     "text": [
      "\n",
      "0it [00:00, ?it/s]\u001b[A\n",
      "1it [00:01,  1.17s/it]\u001b[A\n",
      "2it [00:02,  1.17s/it]\u001b[A\n",
      "3it [00:03,  1.18s/it]\u001b[A\n",
      "4it [00:04,  1.20s/it]\u001b[A\n"
     ]
    },
    {
     "name": "stdout",
     "output_type": "stream",
     "text": [
      "3\n",
      "4\n"
     ]
    },
    {
     "name": "stderr",
     "output_type": "stream",
     "text": [
      "\r",
      " 67%|██████▋   | 14/21 [12:29<04:28, 38.35s/it]"
     ]
    },
    {
     "name": "stdout",
     "output_type": "stream",
     "text": [
      "0\n",
      "data/engage-hackathon-2025/year=2024/month=12/day=2/hour=3\n",
      "si\n"
     ]
    },
    {
     "name": "stderr",
     "output_type": "stream",
     "text": [
      "C:\\Users\\1570074\\AppData\\Local\\Temp\\ipykernel_11432\\3951986721.py:61: SettingWithCopyWarning: \n",
      "A value is trying to be set on a copy of a slice from a DataFrame.\n",
      "Try using .loc[row_indexer,col_indexer] = value instead\n",
      "\n",
      "See the caveats in the documentation: https://pandas.pydata.org/pandas-docs/stable/user_guide/indexing.html#returning-a-view-versus-a-copy\n",
      "  w_a_df['inside'] = w_a_df.apply(lambda row: isinside(barajas_zone,row['lat_deg'],row['lon_deg'])\n"
     ]
    },
    {
     "name": "stdout",
     "output_type": "stream",
     "text": [
      "1\n",
      "2\n"
     ]
    },
    {
     "name": "stderr",
     "output_type": "stream",
     "text": [
      "\n",
      "0it [00:00, ?it/s]\u001b[A\n",
      "1it [00:00,  4.24it/s]\u001b[A\n",
      "2it [00:00,  4.23it/s]\u001b[A\n",
      "3it [00:00,  4.11it/s]\u001b[A\n",
      "4it [00:01,  3.99it/s]\u001b[A\n",
      " 71%|███████▏  | 15/21 [12:32<02:46, 27.80s/it]"
     ]
    },
    {
     "name": "stdout",
     "output_type": "stream",
     "text": [
      "3\n",
      "4\n",
      "0\n",
      "data/engage-hackathon-2025/year=2024/month=12/day=2/hour=4\n",
      "si\n"
     ]
    },
    {
     "name": "stderr",
     "output_type": "stream",
     "text": [
      "C:\\Users\\1570074\\AppData\\Local\\Temp\\ipykernel_11432\\3951986721.py:61: SettingWithCopyWarning: \n",
      "A value is trying to be set on a copy of a slice from a DataFrame.\n",
      "Try using .loc[row_indexer,col_indexer] = value instead\n",
      "\n",
      "See the caveats in the documentation: https://pandas.pydata.org/pandas-docs/stable/user_guide/indexing.html#returning-a-view-versus-a-copy\n",
      "  w_a_df['inside'] = w_a_df.apply(lambda row: isinside(barajas_zone,row['lat_deg'],row['lon_deg'])\n"
     ]
    },
    {
     "name": "stdout",
     "output_type": "stream",
     "text": [
      "1\n",
      "2\n"
     ]
    },
    {
     "name": "stderr",
     "output_type": "stream",
     "text": [
      "\n",
      "0it [00:00, ?it/s]\u001b[A\n",
      "1it [00:00,  1.18it/s]\u001b[A\n",
      "2it [00:01,  1.15it/s]\u001b[A\n",
      "3it [00:02,  1.15it/s]\u001b[A\n",
      "4it [00:03,  1.15it/s]\u001b[A\n",
      " 76%|███████▌  | 16/21 [12:43<01:52, 22.56s/it]"
     ]
    },
    {
     "name": "stdout",
     "output_type": "stream",
     "text": [
      "3\n",
      "4\n",
      "0\n",
      "data/engage-hackathon-2025/year=2024/month=12/day=2/hour=5\n",
      "si\n"
     ]
    },
    {
     "name": "stderr",
     "output_type": "stream",
     "text": [
      "C:\\Users\\1570074\\AppData\\Local\\Temp\\ipykernel_11432\\3951986721.py:61: SettingWithCopyWarning: \n",
      "A value is trying to be set on a copy of a slice from a DataFrame.\n",
      "Try using .loc[row_indexer,col_indexer] = value instead\n",
      "\n",
      "See the caveats in the documentation: https://pandas.pydata.org/pandas-docs/stable/user_guide/indexing.html#returning-a-view-versus-a-copy\n",
      "  w_a_df['inside'] = w_a_df.apply(lambda row: isinside(barajas_zone,row['lat_deg'],row['lon_deg'])\n"
     ]
    },
    {
     "name": "stdout",
     "output_type": "stream",
     "text": [
      "1\n",
      "2\n"
     ]
    },
    {
     "name": "stderr",
     "output_type": "stream",
     "text": [
      "\n",
      "0it [00:00, ?it/s]\u001b[A\n",
      "1it [00:01,  1.72s/it]\u001b[A\n",
      "2it [00:03,  1.69s/it]\u001b[A\n",
      "3it [00:05,  1.68s/it]\u001b[A\n",
      "4it [00:06,  1.70s/it]\u001b[A\n"
     ]
    },
    {
     "name": "stdout",
     "output_type": "stream",
     "text": [
      "3\n",
      "4\n"
     ]
    },
    {
     "name": "stderr",
     "output_type": "stream",
     "text": [
      "\r",
      " 81%|████████  | 17/21 [13:05<01:30, 22.65s/it]"
     ]
    },
    {
     "name": "stdout",
     "output_type": "stream",
     "text": [
      "0\n",
      "data/engage-hackathon-2025/year=2024/month=12/day=2/hour=6\n",
      "si\n"
     ]
    },
    {
     "name": "stderr",
     "output_type": "stream",
     "text": [
      "C:\\Users\\1570074\\AppData\\Local\\Temp\\ipykernel_11432\\3951986721.py:61: SettingWithCopyWarning: \n",
      "A value is trying to be set on a copy of a slice from a DataFrame.\n",
      "Try using .loc[row_indexer,col_indexer] = value instead\n",
      "\n",
      "See the caveats in the documentation: https://pandas.pydata.org/pandas-docs/stable/user_guide/indexing.html#returning-a-view-versus-a-copy\n",
      "  w_a_df['inside'] = w_a_df.apply(lambda row: isinside(barajas_zone,row['lat_deg'],row['lon_deg'])\n"
     ]
    },
    {
     "name": "stdout",
     "output_type": "stream",
     "text": [
      "1\n",
      "2\n"
     ]
    },
    {
     "name": "stderr",
     "output_type": "stream",
     "text": [
      "\n",
      "0it [00:00, ?it/s]\u001b[A\n",
      "1it [00:02,  2.72s/it]\u001b[A\n",
      "2it [00:05,  2.69s/it]\u001b[A\n",
      "3it [00:08,  2.71s/it]\u001b[A\n",
      "4it [00:10,  2.71s/it]\u001b[A\n",
      "C:\\Users\\1570074\\AppData\\Local\\Temp\\ipykernel_11432\\3951986721.py:119: SettingWithCopyWarning: \n",
      "A value is trying to be set on a copy of a slice from a DataFrame.\n",
      "Try using .loc[row_indexer,col_indexer] = value instead\n",
      "\n",
      "See the caveats in the documentation: https://pandas.pydata.org/pandas-docs/stable/user_guide/indexing.html#returning-a-view-versus-a-copy\n",
      "  model_df['min_dist'] = model_df.apply(lambda x: min_dist[min_dist['icao24']==x.icao24].rwy_dist.iloc[0] == x.rwy_dist ,axis=1)\n"
     ]
    },
    {
     "name": "stdout",
     "output_type": "stream",
     "text": [
      "3\n",
      "4\n"
     ]
    },
    {
     "name": "stderr",
     "output_type": "stream",
     "text": [
      "\r",
      " 86%|████████▌ | 18/21 [13:42<01:20, 26.72s/it]"
     ]
    },
    {
     "name": "stdout",
     "output_type": "stream",
     "text": [
      "0\n",
      "data/engage-hackathon-2025/year=2024/month=12/day=2/hour=7\n",
      "si\n"
     ]
    },
    {
     "name": "stderr",
     "output_type": "stream",
     "text": [
      "C:\\Users\\1570074\\AppData\\Local\\Temp\\ipykernel_11432\\3951986721.py:61: SettingWithCopyWarning: \n",
      "A value is trying to be set on a copy of a slice from a DataFrame.\n",
      "Try using .loc[row_indexer,col_indexer] = value instead\n",
      "\n",
      "See the caveats in the documentation: https://pandas.pydata.org/pandas-docs/stable/user_guide/indexing.html#returning-a-view-versus-a-copy\n",
      "  w_a_df['inside'] = w_a_df.apply(lambda row: isinside(barajas_zone,row['lat_deg'],row['lon_deg'])\n"
     ]
    },
    {
     "name": "stdout",
     "output_type": "stream",
     "text": [
      "1\n",
      "2\n"
     ]
    },
    {
     "name": "stderr",
     "output_type": "stream",
     "text": [
      "\n",
      "0it [00:00, ?it/s]\u001b[A\n",
      "1it [00:04,  4.13s/it]\u001b[A\n",
      "2it [00:08,  4.27s/it]\u001b[A\n",
      "3it [00:12,  4.15s/it]\u001b[A\n",
      "4it [00:16,  4.20s/it]\u001b[A\n",
      "C:\\Users\\1570074\\AppData\\Local\\Temp\\ipykernel_11432\\3951986721.py:119: SettingWithCopyWarning: \n",
      "A value is trying to be set on a copy of a slice from a DataFrame.\n",
      "Try using .loc[row_indexer,col_indexer] = value instead\n",
      "\n",
      "See the caveats in the documentation: https://pandas.pydata.org/pandas-docs/stable/user_guide/indexing.html#returning-a-view-versus-a-copy\n",
      "  model_df['min_dist'] = model_df.apply(lambda x: min_dist[min_dist['icao24']==x.icao24].rwy_dist.iloc[0] == x.rwy_dist ,axis=1)\n"
     ]
    },
    {
     "name": "stdout",
     "output_type": "stream",
     "text": [
      "3\n",
      "4\n"
     ]
    },
    {
     "name": "stderr",
     "output_type": "stream",
     "text": [
      "\r",
      " 90%|█████████ | 19/21 [14:31<01:07, 33.58s/it]"
     ]
    },
    {
     "name": "stdout",
     "output_type": "stream",
     "text": [
      "0\n",
      "data/engage-hackathon-2025/year=2024/month=12/day=2/hour=8\n",
      "si\n"
     ]
    },
    {
     "name": "stderr",
     "output_type": "stream",
     "text": [
      "C:\\Users\\1570074\\AppData\\Local\\Temp\\ipykernel_11432\\3951986721.py:61: SettingWithCopyWarning: \n",
      "A value is trying to be set on a copy of a slice from a DataFrame.\n",
      "Try using .loc[row_indexer,col_indexer] = value instead\n",
      "\n",
      "See the caveats in the documentation: https://pandas.pydata.org/pandas-docs/stable/user_guide/indexing.html#returning-a-view-versus-a-copy\n",
      "  w_a_df['inside'] = w_a_df.apply(lambda row: isinside(barajas_zone,row['lat_deg'],row['lon_deg'])\n"
     ]
    },
    {
     "name": "stdout",
     "output_type": "stream",
     "text": [
      "1\n",
      "2\n"
     ]
    },
    {
     "name": "stderr",
     "output_type": "stream",
     "text": [
      "\n",
      "0it [00:00, ?it/s]\u001b[A\n",
      "1it [00:05,  5.26s/it]\u001b[A\n",
      "2it [00:10,  5.43s/it]\u001b[A\n",
      "3it [00:15,  5.11s/it]\u001b[A\n",
      "4it [00:20,  5.08s/it]\u001b[A\n",
      "C:\\Users\\1570074\\AppData\\Local\\Temp\\ipykernel_11432\\3951986721.py:119: SettingWithCopyWarning: \n",
      "A value is trying to be set on a copy of a slice from a DataFrame.\n",
      "Try using .loc[row_indexer,col_indexer] = value instead\n",
      "\n",
      "See the caveats in the documentation: https://pandas.pydata.org/pandas-docs/stable/user_guide/indexing.html#returning-a-view-versus-a-copy\n",
      "  model_df['min_dist'] = model_df.apply(lambda x: min_dist[min_dist['icao24']==x.icao24].rwy_dist.iloc[0] == x.rwy_dist ,axis=1)\n"
     ]
    },
    {
     "name": "stdout",
     "output_type": "stream",
     "text": [
      "3\n",
      "4\n"
     ]
    },
    {
     "name": "stderr",
     "output_type": "stream",
     "text": [
      "\r",
      " 95%|█████████▌| 20/21 [15:25<00:39, 39.76s/it]"
     ]
    },
    {
     "name": "stdout",
     "output_type": "stream",
     "text": [
      "0\n",
      "data/engage-hackathon-2025/year=2024/month=12/day=2/hour=9\n",
      "si\n"
     ]
    },
    {
     "name": "stderr",
     "output_type": "stream",
     "text": [
      "C:\\Users\\1570074\\AppData\\Local\\Temp\\ipykernel_11432\\3951986721.py:61: SettingWithCopyWarning: \n",
      "A value is trying to be set on a copy of a slice from a DataFrame.\n",
      "Try using .loc[row_indexer,col_indexer] = value instead\n",
      "\n",
      "See the caveats in the documentation: https://pandas.pydata.org/pandas-docs/stable/user_guide/indexing.html#returning-a-view-versus-a-copy\n",
      "  w_a_df['inside'] = w_a_df.apply(lambda row: isinside(barajas_zone,row['lat_deg'],row['lon_deg'])\n"
     ]
    },
    {
     "name": "stdout",
     "output_type": "stream",
     "text": [
      "1\n",
      "2\n"
     ]
    },
    {
     "name": "stderr",
     "output_type": "stream",
     "text": [
      "\n",
      "0it [00:00, ?it/s]\u001b[A\n",
      "1it [00:06,  6.66s/it]\u001b[A\n",
      "2it [00:13,  6.71s/it]\u001b[A\n",
      "3it [00:20,  6.72s/it]\u001b[A\n",
      "4it [00:26,  6.72s/it]\u001b[A\n",
      "C:\\Users\\1570074\\AppData\\Local\\Temp\\ipykernel_11432\\3951986721.py:119: SettingWithCopyWarning: \n",
      "A value is trying to be set on a copy of a slice from a DataFrame.\n",
      "Try using .loc[row_indexer,col_indexer] = value instead\n",
      "\n",
      "See the caveats in the documentation: https://pandas.pydata.org/pandas-docs/stable/user_guide/indexing.html#returning-a-view-versus-a-copy\n",
      "  model_df['min_dist'] = model_df.apply(lambda x: min_dist[min_dist['icao24']==x.icao24].rwy_dist.iloc[0] == x.rwy_dist ,axis=1)\n"
     ]
    },
    {
     "name": "stdout",
     "output_type": "stream",
     "text": [
      "3\n",
      "4\n"
     ]
    },
    {
     "name": "stderr",
     "output_type": "stream",
     "text": [
      "100%|██████████| 21/21 [16:45<00:00, 47.87s/it]\n",
      "  0%|          | 0/24 [00:00<?, ?it/s]"
     ]
    },
    {
     "name": "stdout",
     "output_type": "stream",
     "text": [
      "0\n",
      "data/engage-hackathon-2025/year=2024/month=12/day=20/hour=0\n",
      "si\n"
     ]
    },
    {
     "name": "stderr",
     "output_type": "stream",
     "text": [
      "C:\\Users\\1570074\\AppData\\Local\\Temp\\ipykernel_11432\\3951986721.py:61: SettingWithCopyWarning: \n",
      "A value is trying to be set on a copy of a slice from a DataFrame.\n",
      "Try using .loc[row_indexer,col_indexer] = value instead\n",
      "\n",
      "See the caveats in the documentation: https://pandas.pydata.org/pandas-docs/stable/user_guide/indexing.html#returning-a-view-versus-a-copy\n",
      "  w_a_df['inside'] = w_a_df.apply(lambda row: isinside(barajas_zone,row['lat_deg'],row['lon_deg'])\n"
     ]
    },
    {
     "name": "stdout",
     "output_type": "stream",
     "text": [
      "1\n",
      "2\n"
     ]
    },
    {
     "name": "stderr",
     "output_type": "stream",
     "text": [
      "\n",
      "0it [00:00, ?it/s]\u001b[A\n",
      "1it [00:00,  6.11it/s]\u001b[A\n",
      "2it [00:00,  5.74it/s]\u001b[A\n",
      "3it [00:00,  5.84it/s]\u001b[A\n",
      "4it [00:00,  5.69it/s]\u001b[A\n",
      "  4%|▍         | 1/24 [00:02<01:01,  2.67s/it]"
     ]
    },
    {
     "name": "stdout",
     "output_type": "stream",
     "text": [
      "3\n",
      "4\n",
      "0\n",
      "data/engage-hackathon-2025/year=2024/month=12/day=20/hour=1\n",
      "si\n"
     ]
    },
    {
     "name": "stderr",
     "output_type": "stream",
     "text": [
      "C:\\Users\\1570074\\AppData\\Local\\Temp\\ipykernel_11432\\3951986721.py:61: SettingWithCopyWarning: \n",
      "A value is trying to be set on a copy of a slice from a DataFrame.\n",
      "Try using .loc[row_indexer,col_indexer] = value instead\n",
      "\n",
      "See the caveats in the documentation: https://pandas.pydata.org/pandas-docs/stable/user_guide/indexing.html#returning-a-view-versus-a-copy\n",
      "  w_a_df['inside'] = w_a_df.apply(lambda row: isinside(barajas_zone,row['lat_deg'],row['lon_deg'])\n"
     ]
    },
    {
     "name": "stdout",
     "output_type": "stream",
     "text": [
      "1\n",
      "2\n"
     ]
    },
    {
     "name": "stderr",
     "output_type": "stream",
     "text": [
      "\n",
      "0it [00:00, ?it/s]\u001b[A\n",
      "1it [00:00,  5.68it/s]\u001b[A\n",
      "2it [00:00,  5.04it/s]\u001b[A\n",
      "3it [00:00,  4.89it/s]\u001b[A\n",
      "4it [00:00,  4.99it/s]\u001b[A\n",
      "  8%|▊         | 2/24 [00:05<00:55,  2.51s/it]"
     ]
    },
    {
     "name": "stdout",
     "output_type": "stream",
     "text": [
      "3\n",
      "4\n",
      "0\n",
      "data/engage-hackathon-2025/year=2024/month=12/day=20/hour=10\n",
      "si\n"
     ]
    },
    {
     "name": "stderr",
     "output_type": "stream",
     "text": [
      "C:\\Users\\1570074\\AppData\\Local\\Temp\\ipykernel_11432\\3951986721.py:61: SettingWithCopyWarning: \n",
      "A value is trying to be set on a copy of a slice from a DataFrame.\n",
      "Try using .loc[row_indexer,col_indexer] = value instead\n",
      "\n",
      "See the caveats in the documentation: https://pandas.pydata.org/pandas-docs/stable/user_guide/indexing.html#returning-a-view-versus-a-copy\n",
      "  w_a_df['inside'] = w_a_df.apply(lambda row: isinside(barajas_zone,row['lat_deg'],row['lon_deg'])\n"
     ]
    },
    {
     "name": "stdout",
     "output_type": "stream",
     "text": [
      "1\n",
      "2\n"
     ]
    },
    {
     "name": "stderr",
     "output_type": "stream",
     "text": [
      "\n",
      "0it [00:00, ?it/s]\u001b[A\n",
      "1it [00:03,  3.54s/it]\u001b[A\n",
      "2it [00:08,  4.04s/it]\u001b[A\n",
      "  8%|▊         | 2/24 [00:22<04:04, 11.10s/it]\n"
     ]
    },
    {
     "ename": "KeyboardInterrupt",
     "evalue": "",
     "output_type": "error",
     "traceback": [
      "\u001b[1;31m---------------------------------------------------------------------------\u001b[0m",
      "\u001b[1;31mKeyboardInterrupt\u001b[0m                         Traceback (most recent call last)",
      "Cell \u001b[1;32mIn[24], line 16\u001b[0m\n\u001b[0;32m     14\u001b[0m index \u001b[38;5;241m+\u001b[39m\u001b[38;5;241m=\u001b[39m\u001b[38;5;241m1\u001b[39m\n\u001b[0;32m     15\u001b[0m \u001b[38;5;28;01mif\u001b[39;00m index\u001b[38;5;241m>\u001b[39mlimit:\n\u001b[1;32m---> 16\u001b[0m     run_create(tmp_day\u001b[38;5;241m+\u001b[39m\u001b[38;5;124m'\u001b[39m\u001b[38;5;124m/\u001b[39m\u001b[38;5;124m'\u001b[39m\u001b[38;5;241m+\u001b[39mx, index)\n",
      "Cell \u001b[1;32mIn[12], line 109\u001b[0m, in \u001b[0;36mrun_create\u001b[1;34m(route, index)\u001b[0m\n\u001b[0;32m    106\u001b[0m     \u001b[38;5;28;01mreturn\u001b[39;00m \u001b[38;5;241m6371000\u001b[39m\u001b[38;5;241m*\u001b[39mdist[\u001b[38;5;241m0\u001b[39m][\u001b[38;5;241m1\u001b[39m]\n\u001b[0;32m    108\u001b[0m \u001b[38;5;28;01mfor\u001b[39;00m _,row \u001b[38;5;129;01min\u001b[39;00m tqdm(threshold\u001b[38;5;241m.\u001b[39miterrows()):\n\u001b[1;32m--> 109\u001b[0m     landing_df[\u001b[38;5;124mf\u001b[39m\u001b[38;5;124m'\u001b[39m\u001b[38;5;124mdist_\u001b[39m\u001b[38;5;132;01m{\u001b[39;00mrow\u001b[38;5;241m.\u001b[39morientation\u001b[38;5;132;01m}\u001b[39;00m\u001b[38;5;124m'\u001b[39m] \u001b[38;5;241m=\u001b[39m landing_df\u001b[38;5;241m.\u001b[39mapply(\u001b[38;5;28;01mlambda\u001b[39;00m x: haversine_distance((x\u001b[38;5;241m.\u001b[39mlat_deg,x\u001b[38;5;241m.\u001b[39mlon_deg), \n\u001b[0;32m    110\u001b[0m                                                         (row\u001b[38;5;241m.\u001b[39mlat,row\u001b[38;5;241m.\u001b[39mlon)) \u001b[38;5;28;01mif\u001b[39;00m x\u001b[38;5;241m.\u001b[39mbds \u001b[38;5;241m==\u001b[39m \u001b[38;5;124m'\u001b[39m\u001b[38;5;124m05\u001b[39m\u001b[38;5;124m'\u001b[39m \u001b[38;5;28;01melse\u001b[39;00m \u001b[38;5;241m9999\u001b[39m,axis\u001b[38;5;241m=\u001b[39m\u001b[38;5;241m1\u001b[39m)\n\u001b[0;32m    112\u001b[0m landing_df[\u001b[38;5;124m'\u001b[39m\u001b[38;5;124mrwy_dist\u001b[39m\u001b[38;5;124m'\u001b[39m] \u001b[38;5;241m=\u001b[39m landing_df\u001b[38;5;241m.\u001b[39mapply(\u001b[38;5;28;01mlambda\u001b[39;00m x: \u001b[38;5;28mmin\u001b[39m(x\u001b[38;5;241m.\u001b[39mdist_18R,x\u001b[38;5;241m.\u001b[39mdist_32L,x\u001b[38;5;241m.\u001b[39mdist_32R,x\u001b[38;5;241m.\u001b[39mdist_18L),axis\u001b[38;5;241m=\u001b[39m\u001b[38;5;241m1\u001b[39m)\n\u001b[0;32m    113\u001b[0m landing_df[\u001b[38;5;124m'\u001b[39m\u001b[38;5;124mrwy_min\u001b[39m\u001b[38;5;124m'\u001b[39m] \u001b[38;5;241m=\u001b[39m landing_df\u001b[38;5;241m.\u001b[39mapply(\u001b[38;5;28;01mlambda\u001b[39;00m x: \u001b[38;5;28;01mTrue\u001b[39;00m ,axis\u001b[38;5;241m=\u001b[39m\u001b[38;5;241m1\u001b[39m)\n",
      "File \u001b[1;32m~\\AppData\\Local\\anaconda3\\envs\\notebook-6.5.7\\Lib\\site-packages\\pandas\\core\\frame.py:10374\u001b[0m, in \u001b[0;36mDataFrame.apply\u001b[1;34m(self, func, axis, raw, result_type, args, by_row, engine, engine_kwargs, **kwargs)\u001b[0m\n\u001b[0;32m  10360\u001b[0m \u001b[38;5;28;01mfrom\u001b[39;00m \u001b[38;5;21;01mpandas\u001b[39;00m\u001b[38;5;21;01m.\u001b[39;00m\u001b[38;5;21;01mcore\u001b[39;00m\u001b[38;5;21;01m.\u001b[39;00m\u001b[38;5;21;01mapply\u001b[39;00m \u001b[38;5;28;01mimport\u001b[39;00m frame_apply\n\u001b[0;32m  10362\u001b[0m op \u001b[38;5;241m=\u001b[39m frame_apply(\n\u001b[0;32m  10363\u001b[0m     \u001b[38;5;28mself\u001b[39m,\n\u001b[0;32m  10364\u001b[0m     func\u001b[38;5;241m=\u001b[39mfunc,\n\u001b[1;32m   (...)\u001b[0m\n\u001b[0;32m  10372\u001b[0m     kwargs\u001b[38;5;241m=\u001b[39mkwargs,\n\u001b[0;32m  10373\u001b[0m )\n\u001b[1;32m> 10374\u001b[0m \u001b[38;5;28;01mreturn\u001b[39;00m op\u001b[38;5;241m.\u001b[39mapply()\u001b[38;5;241m.\u001b[39m__finalize__(\u001b[38;5;28mself\u001b[39m, method\u001b[38;5;241m=\u001b[39m\u001b[38;5;124m\"\u001b[39m\u001b[38;5;124mapply\u001b[39m\u001b[38;5;124m\"\u001b[39m)\n",
      "File \u001b[1;32m~\\AppData\\Local\\anaconda3\\envs\\notebook-6.5.7\\Lib\\site-packages\\pandas\\core\\apply.py:916\u001b[0m, in \u001b[0;36mFrameApply.apply\u001b[1;34m(self)\u001b[0m\n\u001b[0;32m    913\u001b[0m \u001b[38;5;28;01melif\u001b[39;00m \u001b[38;5;28mself\u001b[39m\u001b[38;5;241m.\u001b[39mraw:\n\u001b[0;32m    914\u001b[0m     \u001b[38;5;28;01mreturn\u001b[39;00m \u001b[38;5;28mself\u001b[39m\u001b[38;5;241m.\u001b[39mapply_raw(engine\u001b[38;5;241m=\u001b[39m\u001b[38;5;28mself\u001b[39m\u001b[38;5;241m.\u001b[39mengine, engine_kwargs\u001b[38;5;241m=\u001b[39m\u001b[38;5;28mself\u001b[39m\u001b[38;5;241m.\u001b[39mengine_kwargs)\n\u001b[1;32m--> 916\u001b[0m \u001b[38;5;28;01mreturn\u001b[39;00m \u001b[38;5;28mself\u001b[39m\u001b[38;5;241m.\u001b[39mapply_standard()\n",
      "File \u001b[1;32m~\\AppData\\Local\\anaconda3\\envs\\notebook-6.5.7\\Lib\\site-packages\\pandas\\core\\apply.py:1063\u001b[0m, in \u001b[0;36mFrameApply.apply_standard\u001b[1;34m(self)\u001b[0m\n\u001b[0;32m   1061\u001b[0m \u001b[38;5;28;01mdef\u001b[39;00m \u001b[38;5;21mapply_standard\u001b[39m(\u001b[38;5;28mself\u001b[39m):\n\u001b[0;32m   1062\u001b[0m     \u001b[38;5;28;01mif\u001b[39;00m \u001b[38;5;28mself\u001b[39m\u001b[38;5;241m.\u001b[39mengine \u001b[38;5;241m==\u001b[39m \u001b[38;5;124m\"\u001b[39m\u001b[38;5;124mpython\u001b[39m\u001b[38;5;124m\"\u001b[39m:\n\u001b[1;32m-> 1063\u001b[0m         results, res_index \u001b[38;5;241m=\u001b[39m \u001b[38;5;28mself\u001b[39m\u001b[38;5;241m.\u001b[39mapply_series_generator()\n\u001b[0;32m   1064\u001b[0m     \u001b[38;5;28;01melse\u001b[39;00m:\n\u001b[0;32m   1065\u001b[0m         results, res_index \u001b[38;5;241m=\u001b[39m \u001b[38;5;28mself\u001b[39m\u001b[38;5;241m.\u001b[39mapply_series_numba()\n",
      "File \u001b[1;32m~\\AppData\\Local\\anaconda3\\envs\\notebook-6.5.7\\Lib\\site-packages\\pandas\\core\\apply.py:1081\u001b[0m, in \u001b[0;36mFrameApply.apply_series_generator\u001b[1;34m(self)\u001b[0m\n\u001b[0;32m   1078\u001b[0m \u001b[38;5;28;01mwith\u001b[39;00m option_context(\u001b[38;5;124m\"\u001b[39m\u001b[38;5;124mmode.chained_assignment\u001b[39m\u001b[38;5;124m\"\u001b[39m, \u001b[38;5;28;01mNone\u001b[39;00m):\n\u001b[0;32m   1079\u001b[0m     \u001b[38;5;28;01mfor\u001b[39;00m i, v \u001b[38;5;129;01min\u001b[39;00m \u001b[38;5;28menumerate\u001b[39m(series_gen):\n\u001b[0;32m   1080\u001b[0m         \u001b[38;5;66;03m# ignore SettingWithCopy here in case the user mutates\u001b[39;00m\n\u001b[1;32m-> 1081\u001b[0m         results[i] \u001b[38;5;241m=\u001b[39m \u001b[38;5;28mself\u001b[39m\u001b[38;5;241m.\u001b[39mfunc(v, \u001b[38;5;241m*\u001b[39m\u001b[38;5;28mself\u001b[39m\u001b[38;5;241m.\u001b[39margs, \u001b[38;5;241m*\u001b[39m\u001b[38;5;241m*\u001b[39m\u001b[38;5;28mself\u001b[39m\u001b[38;5;241m.\u001b[39mkwargs)\n\u001b[0;32m   1082\u001b[0m         \u001b[38;5;28;01mif\u001b[39;00m \u001b[38;5;28misinstance\u001b[39m(results[i], ABCSeries):\n\u001b[0;32m   1083\u001b[0m             \u001b[38;5;66;03m# If we have a view on v, we need to make a copy because\u001b[39;00m\n\u001b[0;32m   1084\u001b[0m             \u001b[38;5;66;03m#  series_generator will swap out the underlying data\u001b[39;00m\n\u001b[0;32m   1085\u001b[0m             results[i] \u001b[38;5;241m=\u001b[39m results[i]\u001b[38;5;241m.\u001b[39mcopy(deep\u001b[38;5;241m=\u001b[39m\u001b[38;5;28;01mFalse\u001b[39;00m)\n",
      "Cell \u001b[1;32mIn[12], line 109\u001b[0m, in \u001b[0;36mrun_create.<locals>.<lambda>\u001b[1;34m(x)\u001b[0m\n\u001b[0;32m    106\u001b[0m     \u001b[38;5;28;01mreturn\u001b[39;00m \u001b[38;5;241m6371000\u001b[39m\u001b[38;5;241m*\u001b[39mdist[\u001b[38;5;241m0\u001b[39m][\u001b[38;5;241m1\u001b[39m]\n\u001b[0;32m    108\u001b[0m \u001b[38;5;28;01mfor\u001b[39;00m _,row \u001b[38;5;129;01min\u001b[39;00m tqdm(threshold\u001b[38;5;241m.\u001b[39miterrows()):\n\u001b[1;32m--> 109\u001b[0m     landing_df[\u001b[38;5;124mf\u001b[39m\u001b[38;5;124m'\u001b[39m\u001b[38;5;124mdist_\u001b[39m\u001b[38;5;132;01m{\u001b[39;00mrow\u001b[38;5;241m.\u001b[39morientation\u001b[38;5;132;01m}\u001b[39;00m\u001b[38;5;124m'\u001b[39m] \u001b[38;5;241m=\u001b[39m landing_df\u001b[38;5;241m.\u001b[39mapply(\u001b[38;5;28;01mlambda\u001b[39;00m x: haversine_distance((x\u001b[38;5;241m.\u001b[39mlat_deg,x\u001b[38;5;241m.\u001b[39mlon_deg), \n\u001b[0;32m    110\u001b[0m                                                         (row\u001b[38;5;241m.\u001b[39mlat,row\u001b[38;5;241m.\u001b[39mlon)) \u001b[38;5;28;01mif\u001b[39;00m x\u001b[38;5;241m.\u001b[39mbds \u001b[38;5;241m==\u001b[39m \u001b[38;5;124m'\u001b[39m\u001b[38;5;124m05\u001b[39m\u001b[38;5;124m'\u001b[39m \u001b[38;5;28;01melse\u001b[39;00m \u001b[38;5;241m9999\u001b[39m,axis\u001b[38;5;241m=\u001b[39m\u001b[38;5;241m1\u001b[39m)\n\u001b[0;32m    112\u001b[0m landing_df[\u001b[38;5;124m'\u001b[39m\u001b[38;5;124mrwy_dist\u001b[39m\u001b[38;5;124m'\u001b[39m] \u001b[38;5;241m=\u001b[39m landing_df\u001b[38;5;241m.\u001b[39mapply(\u001b[38;5;28;01mlambda\u001b[39;00m x: \u001b[38;5;28mmin\u001b[39m(x\u001b[38;5;241m.\u001b[39mdist_18R,x\u001b[38;5;241m.\u001b[39mdist_32L,x\u001b[38;5;241m.\u001b[39mdist_32R,x\u001b[38;5;241m.\u001b[39mdist_18L),axis\u001b[38;5;241m=\u001b[39m\u001b[38;5;241m1\u001b[39m)\n\u001b[0;32m    113\u001b[0m landing_df[\u001b[38;5;124m'\u001b[39m\u001b[38;5;124mrwy_min\u001b[39m\u001b[38;5;124m'\u001b[39m] \u001b[38;5;241m=\u001b[39m landing_df\u001b[38;5;241m.\u001b[39mapply(\u001b[38;5;28;01mlambda\u001b[39;00m x: \u001b[38;5;28;01mTrue\u001b[39;00m ,axis\u001b[38;5;241m=\u001b[39m\u001b[38;5;241m1\u001b[39m)\n",
      "Cell \u001b[1;32mIn[12], line 105\u001b[0m, in \u001b[0;36mrun_create.<locals>.haversine_distance\u001b[1;34m(p1, p2)\u001b[0m\n\u001b[0;32m    103\u001b[0m p1 \u001b[38;5;241m=\u001b[39m [math\u001b[38;5;241m.\u001b[39mradians(_) \u001b[38;5;28;01mfor\u001b[39;00m _ \u001b[38;5;129;01min\u001b[39;00m p1]\n\u001b[0;32m    104\u001b[0m p2 \u001b[38;5;241m=\u001b[39m [math\u001b[38;5;241m.\u001b[39mradians(_) \u001b[38;5;28;01mfor\u001b[39;00m _ \u001b[38;5;129;01min\u001b[39;00m p2]\n\u001b[1;32m--> 105\u001b[0m dist \u001b[38;5;241m=\u001b[39m haversine_distances([p1, p2])\n\u001b[0;32m    106\u001b[0m \u001b[38;5;28;01mreturn\u001b[39;00m \u001b[38;5;241m6371000\u001b[39m\u001b[38;5;241m*\u001b[39mdist[\u001b[38;5;241m0\u001b[39m][\u001b[38;5;241m1\u001b[39m]\n",
      "File \u001b[1;32m~\\AppData\\Local\\anaconda3\\envs\\notebook-6.5.7\\Lib\\site-packages\\sklearn\\utils\\_param_validation.py:216\u001b[0m, in \u001b[0;36mvalidate_params.<locals>.decorator.<locals>.wrapper\u001b[1;34m(*args, **kwargs)\u001b[0m\n\u001b[0;32m    210\u001b[0m \u001b[38;5;28;01mtry\u001b[39;00m:\n\u001b[0;32m    211\u001b[0m     \u001b[38;5;28;01mwith\u001b[39;00m config_context(\n\u001b[0;32m    212\u001b[0m         skip_parameter_validation\u001b[38;5;241m=\u001b[39m(\n\u001b[0;32m    213\u001b[0m             prefer_skip_nested_validation \u001b[38;5;129;01mor\u001b[39;00m global_skip_validation\n\u001b[0;32m    214\u001b[0m         )\n\u001b[0;32m    215\u001b[0m     ):\n\u001b[1;32m--> 216\u001b[0m         \u001b[38;5;28;01mreturn\u001b[39;00m func(\u001b[38;5;241m*\u001b[39margs, \u001b[38;5;241m*\u001b[39m\u001b[38;5;241m*\u001b[39mkwargs)\n\u001b[0;32m    217\u001b[0m \u001b[38;5;28;01mexcept\u001b[39;00m InvalidParameterError \u001b[38;5;28;01mas\u001b[39;00m e:\n\u001b[0;32m    218\u001b[0m     \u001b[38;5;66;03m# When the function is just a wrapper around an estimator, we allow\u001b[39;00m\n\u001b[0;32m    219\u001b[0m     \u001b[38;5;66;03m# the function to delegate validation to the estimator, but we replace\u001b[39;00m\n\u001b[0;32m    220\u001b[0m     \u001b[38;5;66;03m# the name of the estimator by the name of the function in the error\u001b[39;00m\n\u001b[0;32m    221\u001b[0m     \u001b[38;5;66;03m# message to avoid confusion.\u001b[39;00m\n\u001b[0;32m    222\u001b[0m     msg \u001b[38;5;241m=\u001b[39m re\u001b[38;5;241m.\u001b[39msub(\n\u001b[0;32m    223\u001b[0m         \u001b[38;5;124mr\u001b[39m\u001b[38;5;124m\"\u001b[39m\u001b[38;5;124mparameter of \u001b[39m\u001b[38;5;124m\\\u001b[39m\u001b[38;5;124mw+ must be\u001b[39m\u001b[38;5;124m\"\u001b[39m,\n\u001b[0;32m    224\u001b[0m         \u001b[38;5;124mf\u001b[39m\u001b[38;5;124m\"\u001b[39m\u001b[38;5;124mparameter of \u001b[39m\u001b[38;5;132;01m{\u001b[39;00mfunc\u001b[38;5;241m.\u001b[39m\u001b[38;5;18m__qualname__\u001b[39m\u001b[38;5;132;01m}\u001b[39;00m\u001b[38;5;124m must be\u001b[39m\u001b[38;5;124m\"\u001b[39m,\n\u001b[0;32m    225\u001b[0m         \u001b[38;5;28mstr\u001b[39m(e),\n\u001b[0;32m    226\u001b[0m     )\n",
      "File \u001b[1;32m~\\AppData\\Local\\anaconda3\\envs\\notebook-6.5.7\\Lib\\site-packages\\sklearn\\metrics\\pairwise.py:1063\u001b[0m, in \u001b[0;36mhaversine_distances\u001b[1;34m(X, Y)\u001b[0m\n\u001b[0;32m   1013\u001b[0m \u001b[38;5;250m\u001b[39m\u001b[38;5;124;03m\"\"\"Compute the Haversine distance between samples in X and Y.\u001b[39;00m\n\u001b[0;32m   1014\u001b[0m \n\u001b[0;32m   1015\u001b[0m \u001b[38;5;124;03mThe Haversine (or great circle) distance is the angular distance between\u001b[39;00m\n\u001b[1;32m   (...)\u001b[0m\n\u001b[0;32m   1059\u001b[0m \u001b[38;5;124;03m       [11099.54035582,     0.        ]])\u001b[39;00m\n\u001b[0;32m   1060\u001b[0m \u001b[38;5;124;03m\"\"\"\u001b[39;00m\n\u001b[0;32m   1061\u001b[0m \u001b[38;5;28;01mfrom\u001b[39;00m \u001b[38;5;21;01m.\u001b[39;00m\u001b[38;5;21;01m.\u001b[39;00m\u001b[38;5;21;01mmetrics\u001b[39;00m \u001b[38;5;28;01mimport\u001b[39;00m DistanceMetric\n\u001b[1;32m-> 1063\u001b[0m \u001b[38;5;28;01mreturn\u001b[39;00m DistanceMetric\u001b[38;5;241m.\u001b[39mget_metric(\u001b[38;5;124m\"\u001b[39m\u001b[38;5;124mhaversine\u001b[39m\u001b[38;5;124m\"\u001b[39m)\u001b[38;5;241m.\u001b[39mpairwise(X, Y)\n",
      "File \u001b[1;32msklearn\\\\metrics\\\\_dist_metrics.pyx:958\u001b[0m, in \u001b[0;36msklearn.metrics._dist_metrics.DistanceMetric64.pairwise\u001b[1;34m()\u001b[0m\n",
      "File \u001b[1;32m~\\AppData\\Local\\anaconda3\\envs\\notebook-6.5.7\\Lib\\site-packages\\sklearn\\utils\\validation.py:1055\u001b[0m, in \u001b[0;36mcheck_array\u001b[1;34m(array, accept_sparse, accept_large_sparse, dtype, order, copy, force_writeable, force_all_finite, ensure_all_finite, ensure_non_negative, ensure_2d, allow_nd, ensure_min_samples, ensure_min_features, estimator, input_name)\u001b[0m\n\u001b[0;32m   1053\u001b[0m         array \u001b[38;5;241m=\u001b[39m xp\u001b[38;5;241m.\u001b[39mastype(array, dtype, copy\u001b[38;5;241m=\u001b[39m\u001b[38;5;28;01mFalse\u001b[39;00m)\n\u001b[0;32m   1054\u001b[0m     \u001b[38;5;28;01melse\u001b[39;00m:\n\u001b[1;32m-> 1055\u001b[0m         array \u001b[38;5;241m=\u001b[39m _asarray_with_order(array, order\u001b[38;5;241m=\u001b[39morder, dtype\u001b[38;5;241m=\u001b[39mdtype, xp\u001b[38;5;241m=\u001b[39mxp)\n\u001b[0;32m   1056\u001b[0m \u001b[38;5;28;01mexcept\u001b[39;00m ComplexWarning \u001b[38;5;28;01mas\u001b[39;00m complex_warning:\n\u001b[0;32m   1057\u001b[0m     \u001b[38;5;28;01mraise\u001b[39;00m \u001b[38;5;167;01mValueError\u001b[39;00m(\n\u001b[0;32m   1058\u001b[0m         \u001b[38;5;124m\"\u001b[39m\u001b[38;5;124mComplex data not supported\u001b[39m\u001b[38;5;130;01m\\n\u001b[39;00m\u001b[38;5;132;01m{}\u001b[39;00m\u001b[38;5;130;01m\\n\u001b[39;00m\u001b[38;5;124m\"\u001b[39m\u001b[38;5;241m.\u001b[39mformat(array)\n\u001b[0;32m   1059\u001b[0m     ) \u001b[38;5;28;01mfrom\u001b[39;00m \u001b[38;5;21;01mcomplex_warning\u001b[39;00m\n",
      "File \u001b[1;32m~\\AppData\\Local\\anaconda3\\envs\\notebook-6.5.7\\Lib\\site-packages\\sklearn\\utils\\_array_api.py:839\u001b[0m, in \u001b[0;36m_asarray_with_order\u001b[1;34m(array, dtype, order, copy, xp, device)\u001b[0m\n\u001b[0;32m    837\u001b[0m     array \u001b[38;5;241m=\u001b[39m numpy\u001b[38;5;241m.\u001b[39marray(array, order\u001b[38;5;241m=\u001b[39morder, dtype\u001b[38;5;241m=\u001b[39mdtype)\n\u001b[0;32m    838\u001b[0m \u001b[38;5;28;01melse\u001b[39;00m:\n\u001b[1;32m--> 839\u001b[0m     array \u001b[38;5;241m=\u001b[39m numpy\u001b[38;5;241m.\u001b[39masarray(array, order\u001b[38;5;241m=\u001b[39morder, dtype\u001b[38;5;241m=\u001b[39mdtype)\n\u001b[0;32m    841\u001b[0m \u001b[38;5;66;03m# At this point array is a NumPy ndarray. We convert it to an array\u001b[39;00m\n\u001b[0;32m    842\u001b[0m \u001b[38;5;66;03m# container that is consistent with the input's namespace.\u001b[39;00m\n\u001b[0;32m    843\u001b[0m \u001b[38;5;28;01mreturn\u001b[39;00m xp\u001b[38;5;241m.\u001b[39masarray(array)\n",
      "\u001b[1;31mKeyboardInterrupt\u001b[0m: "
     ]
    }
   ],
   "source": [
    "route_ini = 'data/engage-hackathon-2025/year=2024'\n",
    "month = os.listdir(route_ini)\n",
    "index = 0\n",
    "\n",
    "limit = 304\n",
    "\n",
    "for i in month:\n",
    "    day = os.listdir(route_ini+'/'+i)\n",
    "    tmp_m = route_ini+'/'+i\n",
    "    for j in day:\n",
    "        h = os.listdir(tmp_m+'/'+j)\n",
    "        tmp_day = tmp_m+'/'+j\n",
    "        for x in tqdm(h):\n",
    "            index +=1\n",
    "            if index>limit:\n",
    "                run_create(tmp_day+'/'+x, index)    \n",
    "\n"
   ]
  },
  {
   "cell_type": "code",
   "execution_count": 23,
   "id": "b33b2aaf",
   "metadata": {},
   "outputs": [
    {
     "data": {
      "text/plain": [
       "303"
      ]
     },
     "execution_count": 23,
     "metadata": {},
     "output_type": "execute_result"
    }
   ],
   "source": [
    "index"
   ]
  },
  {
   "cell_type": "code",
   "execution_count": null,
   "id": "2ba3ce08",
   "metadata": {},
   "outputs": [],
   "source": []
  }
 ],
 "metadata": {
  "kernelspec": {
   "display_name": "Python 3 (ipykernel)",
   "language": "python",
   "name": "python3"
  },
  "language_info": {
   "codemirror_mode": {
    "name": "ipython",
    "version": 3
   },
   "file_extension": ".py",
   "mimetype": "text/x-python",
   "name": "python",
   "nbconvert_exporter": "python",
   "pygments_lexer": "ipython3",
   "version": "3.11.11"
  }
 },
 "nbformat": 4,
 "nbformat_minor": 5
}

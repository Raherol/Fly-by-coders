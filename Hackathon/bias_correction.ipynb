{
 "cells": [
  {
   "cell_type": "code",
   "execution_count": 24,
   "metadata": {},
   "outputs": [],
   "source": [
    "import pandas as pd\n",
    "import pickle\n",
    "from utils import metrics\n",
    "import numpy as np\n",
    "from sklearn.ensemble import RandomForestRegressor, HistGradientBoostingRegressor\n",
    "from sklearn.linear_model import LinearRegression\n",
    "from xgboost import XGBRegressor\n"
   ]
  },
  {
   "cell_type": "code",
   "execution_count": 73,
   "metadata": {},
   "outputs": [],
   "source": [
    "df_train = pd.read_csv('data/train_data.csv') #training data\n",
    "df_test = pd.read_csv('data/test_data.csv') #testing data\n",
    "\n",
    "feature_cols = ['hdg','ts1','lat_deg1','lon_deg1','altitude1','lat_deg2','lon_deg2','altitude2','distance_3d','wake_code'] #Poner columnas\n",
    "target_cols = ['dif_t'] #Ponere target\n",
    "\n",
    "context_train = df_train[feature_cols]\n",
    "target_train = df_train[target_cols]\n",
    "\n",
    "context_test = df_test[feature_cols]\n",
    "target_test = df_test[target_cols].values"
   ]
  },
  {
   "cell_type": "code",
   "execution_count": 63,
   "metadata": {},
   "outputs": [],
   "source": [
    "bias_list = [-20, -18, -16, -14, -12, -10]"
   ]
  },
  {
   "cell_type": "code",
   "execution_count": 64,
   "metadata": {},
   "outputs": [],
   "source": [
    "score_list = []"
   ]
  },
  {
   "cell_type": "code",
   "execution_count": 65,
   "metadata": {},
   "outputs": [
    {
     "name": "stderr",
     "output_type": "stream",
     "text": [
      "d:\\miniforge-pypy3\\envs\\hackathon\\Lib\\site-packages\\sklearn\\base.py:1389: DataConversionWarning: A column-vector y was passed when a 1d array was expected. Please change the shape of y to (n_samples,), for example using ravel().\n",
      "  return fit_method(estimator, *args, **kwargs)\n",
      "d:\\miniforge-pypy3\\envs\\hackathon\\Lib\\site-packages\\sklearn\\base.py:1389: DataConversionWarning: A column-vector y was passed when a 1d array was expected. Please change the shape of y to (n_samples,), for example using ravel().\n",
      "  return fit_method(estimator, *args, **kwargs)\n",
      "d:\\miniforge-pypy3\\envs\\hackathon\\Lib\\site-packages\\sklearn\\base.py:1389: DataConversionWarning: A column-vector y was passed when a 1d array was expected. Please change the shape of y to (n_samples,), for example using ravel().\n",
      "  return fit_method(estimator, *args, **kwargs)\n",
      "d:\\miniforge-pypy3\\envs\\hackathon\\Lib\\site-packages\\sklearn\\base.py:1389: DataConversionWarning: A column-vector y was passed when a 1d array was expected. Please change the shape of y to (n_samples,), for example using ravel().\n",
      "  return fit_method(estimator, *args, **kwargs)\n",
      "d:\\miniforge-pypy3\\envs\\hackathon\\Lib\\site-packages\\sklearn\\base.py:1389: DataConversionWarning: A column-vector y was passed when a 1d array was expected. Please change the shape of y to (n_samples,), for example using ravel().\n",
      "  return fit_method(estimator, *args, **kwargs)\n",
      "d:\\miniforge-pypy3\\envs\\hackathon\\Lib\\site-packages\\sklearn\\base.py:1389: DataConversionWarning: A column-vector y was passed when a 1d array was expected. Please change the shape of y to (n_samples,), for example using ravel().\n",
      "  return fit_method(estimator, *args, **kwargs)\n"
     ]
    }
   ],
   "source": [
    "for bias in bias_list:\n",
    "    model = RandomForestRegressor() #Add best type of model\n",
    "\n",
    "    model.fit(context_train, target_train + bias)\n",
    "\n",
    "    prediction = model.predict(context_test)\n",
    "\n",
    "    score = metrics.compute_score(y_prediction_seconds=prediction,y_true_seconds=target_test)\n",
    "\n",
    "    score_list.append(score)"
   ]
  },
  {
   "cell_type": "code",
   "execution_count": 66,
   "metadata": {},
   "outputs": [
    {
     "name": "stdout",
     "output_type": "stream",
     "text": [
      "[array([455011.56173826]), array([263169.34627996]), array([360532.98198646]), array([278843.04512465]), array([239983.09741427]), array([307397.40942251])]\n"
     ]
    }
   ],
   "source": [
    "print(score_list)"
   ]
  },
  {
   "cell_type": "code",
   "execution_count": 67,
   "metadata": {},
   "outputs": [
    {
     "name": "stdout",
     "output_type": "stream",
     "text": [
      "Bias applied: -12\n",
      "Score: [239983.09741427]\n"
     ]
    }
   ],
   "source": [
    "index_min = np.argmin(score_list)\n",
    "\n",
    "print(f'Bias applied: {bias_list[index_min]}')\n",
    "print(f'Score: {score_list[index_min]}')"
   ]
  },
  {
   "cell_type": "code",
   "execution_count": 84,
   "metadata": {},
   "outputs": [],
   "source": [
    "model = LinearRegression() #Add best type of model\n",
    "\n",
    "model.fit(context_train, target_train - 5)\n",
    "\n",
    "with open('models/model_lr_bias.plk', 'wb') as f:\n",
    "    pickle.dump(model, f)"
   ]
  }
 ],
 "metadata": {
  "kernelspec": {
   "display_name": "hackathon",
   "language": "python",
   "name": "python3"
  },
  "language_info": {
   "codemirror_mode": {
    "name": "ipython",
    "version": 3
   },
   "file_extension": ".py",
   "mimetype": "text/x-python",
   "name": "python",
   "nbconvert_exporter": "python",
   "pygments_lexer": "ipython3",
   "version": "3.13.2"
  }
 },
 "nbformat": 4,
 "nbformat_minor": 2
}

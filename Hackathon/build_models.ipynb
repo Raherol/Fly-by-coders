{
 "cells": [
  {
   "cell_type": "code",
   "execution_count": 1,
   "metadata": {},
   "outputs": [],
   "source": [
    "%load_ext autoreload\n",
    "%autoreload 2\n",
    "\n",
    "import pandas as pd\n",
    "from utils import builder, grapher\n",
    "import pickle\n",
    "import numpy as np\n",
    "from sklearn.inspection import permutation_importance"
   ]
  },
  {
   "cell_type": "code",
   "execution_count": null,
   "metadata": {},
   "outputs": [],
   "source": [
    "df = pd.read_csv() #Get test data\n",
    "\n",
    "feature_cols = ['prev_year', 'prev_week', 'prev_be', 'prev_meters', 'section', 'prev_level'] #Poner columnas\n",
    "target_cols = ['meters'] #Ponere target\n",
    "\n",
    "context = df[feature_cols]\n",
    "target = df[target_cols]"
   ]
  },
  {
   "cell_type": "code",
   "execution_count": null,
   "metadata": {},
   "outputs": [],
   "source": [
    "model_lr = builder.build_linear_regression(context, target)\n",
    "\n",
    "with open('models/model_lr.plk', 'wb') as f:\n",
    "    pickle.dump(model_lr, f)\n",
    "\n",
    "model_rf = builder.build_random_forest(context, target)\n",
    "\n",
    "with open('models/model_rf.plk', 'wb') as f:\n",
    "    pickle.dump(model_rf, f)\n",
    "\n",
    "model_hgbr = builder.build_hgbr(context, target)\n",
    "\n",
    "with open('models/model_hgbr.plk', 'wb') as f:\n",
    "    pickle.dump(model_hgbr, f)\n",
    "\n",
    "model_xgbr = builder.build_xgbr(context, target)\n",
    "\n",
    "with open('models/model_xgbr.plk', 'wb') as f:\n",
    "    pickle.dump(model_xgbr, f)"
   ]
  },
  {
   "cell_type": "code",
   "execution_count": null,
   "metadata": {},
   "outputs": [],
   "source": [
    "with open('models/model_lr.plk', 'rb') as f:\n",
    "    model_lr = pickle.load(f)\n",
    "\n",
    "with open('models/model_rf.plk', 'rb') as f:\n",
    "    model_rf = pickle.load(f)\n",
    "\n",
    "with open('models/model_hgbr.plk', 'rb') as f:\n",
    "    model_hgbr = pickle.load(f)\n",
    "\n",
    "with open('models/model_xgbr.plk', 'rb') as f:\n",
    "    model_xgbr = pickle.load(f)"
   ]
  },
  {
   "cell_type": "code",
   "execution_count": null,
   "metadata": {},
   "outputs": [],
   "source": [
    "values_importance_lr = np.abs(model_lr.coef_)\n",
    "values_importance_rf = model_rf.feature_importances_\n",
    "variable_importance_xgbr = model_xgbr.get_booster().get_score(importance_type='weight')"
   ]
  },
  {
   "cell_type": "code",
   "execution_count": null,
   "metadata": {},
   "outputs": [],
   "source": [
    "perm_importance = permutation_importance(model_hgbr, context, target, n_repeats=10, random_state=42)\n",
    "\n",
    "values_importance_hgbr = perm_importance.importances_mean"
   ]
  },
  {
   "cell_type": "code",
   "execution_count": null,
   "metadata": {},
   "outputs": [],
   "source": [
    "importance_lr = values_importance_lr / values_importance_lr.sum()\n",
    "importance_rf = values_importance_rf / values_importance_rf.sum()\n",
    "importance_hgbr = values_importance_hgbr / values_importance_hgbr.sum()"
   ]
  },
  {
   "cell_type": "code",
   "execution_count": null,
   "metadata": {},
   "outputs": [],
   "source": [
    "values = np.array(list(variable_importance_xgbr.values()))\n",
    "importance_xgbr = values / values.sum()"
   ]
  },
  {
   "cell_type": "code",
   "execution_count": null,
   "metadata": {},
   "outputs": [],
   "source": [
    "grapher.plot_metrics_bar_v2(importance_lr.reshape(-1), feature_cols, 'Linear Regression')\n",
    "grapher.plot_metrics_bar_v2(importance_rf.reshape(-1), feature_cols, 'Random Forest')\n",
    "grapher.plot_metrics_bar_v2(importance_hgbr.reshape(-1), feature_cols, 'HistogramGradientBoosting')\n",
    "grapher.plot_metrics_bar_v2(importance_xgbr, feature_cols, 'XGBoost')"
   ]
  }
 ],
 "metadata": {
  "kernelspec": {
   "display_name": "hackathon",
   "language": "python",
   "name": "python3"
  },
  "language_info": {
   "codemirror_mode": {
    "name": "ipython",
    "version": 3
   },
   "file_extension": ".py",
   "mimetype": "text/x-python",
   "name": "python",
   "nbconvert_exporter": "python",
   "pygments_lexer": "ipython3",
   "version": "3.13.2"
  }
 },
 "nbformat": 4,
 "nbformat_minor": 2
}
